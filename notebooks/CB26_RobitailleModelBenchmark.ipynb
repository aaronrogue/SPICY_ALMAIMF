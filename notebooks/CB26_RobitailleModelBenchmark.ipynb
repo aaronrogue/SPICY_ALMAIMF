{
 "cells": [
  {
   "cell_type": "markdown",
   "id": "informative-representative",
   "metadata": {},
   "source": [
    "# Benchmark Robitaille model grid against a well-sampled & tested SED\n",
    "\n",
    "The Robitaille 2017 model grid was designed to be agnostic toward stellar evolution model, making it flexible but somewhat challenging to interpret.\n",
    "\n",
    "In this notebook, we use that model grid to fit the SED of a well-studied and well-characterized source, CB 26.\n",
    "\n",
    "We're using the SED from https://ui.adsabs.harvard.edu/abs/2021A%26A...646A..18Z / https://www.aanda.org/articles/aa/abs/2021/02/aa39536-20/aa39536-20.html as our test case.\n",
    "\n"
   ]
  },
  {
   "cell_type": "markdown",
   "id": "95619047-b2ab-4b43-8520-da5283ce1e44",
   "metadata": {},
   "source": [
    "We start by loading some fitting tools used for the ALMA-IMF-SPICY project"
   ]
  },
  {
   "cell_type": "code",
   "execution_count": null,
   "id": "reverse-harvey",
   "metadata": {},
   "outputs": [],
   "source": [
    "# TODO: generalize this\n",
    "import sys\n",
    "sys.path.append('/blue/adamginsburg/adamginsburg/SPICY_ALMAIMF')\n",
    "import imp, table_loading\n",
    "imp.reload(table_loading)"
   ]
  },
  {
   "cell_type": "code",
   "execution_count": null,
   "id": "assisted-hormone",
   "metadata": {},
   "outputs": [],
   "source": [
    "from table_loading import fit_a_source, geometries\n",
    "from astropy.table import Table\n",
    "from plot_fit import plot_fit, datafunction"
   ]
  },
  {
   "cell_type": "code",
   "execution_count": null,
   "id": "general-estonia",
   "metadata": {},
   "outputs": [],
   "source": [
    "import numpy as np\n",
    "from astropy import constants\n",
    "from astropy import units as u"
   ]
  },
  {
   "cell_type": "code",
   "execution_count": null,
   "id": "impressive-milwaukee",
   "metadata": {},
   "outputs": [],
   "source": [
    "%matplotlib inline\n",
    "import pylab as pl\n",
    "pl.rcParams['font.size'] = 16"
   ]
  },
  {
   "cell_type": "code",
   "execution_count": null,
   "id": "august-topic",
   "metadata": {},
   "outputs": [],
   "source": [
    "pl.style.use('dark_background')"
   ]
  },
  {
   "cell_type": "markdown",
   "id": "f8202951-2a8d-4b2c-89b1-5733f5ce454a",
   "metadata": {},
   "source": [
    "The following data are transcribed from the paper:"
   ]
  },
  {
   "cell_type": "code",
   "execution_count": null,
   "id": "aquatic-cooperative",
   "metadata": {},
   "outputs": [],
   "source": [
    "# wavelength, flux, eflux, aperture\n",
    "data = [\n",
    "    [0.9, 0.062, 0.019, 24],\n",
    "    [1.25, 2.2, 0.2, 12],\n",
    "    [1.65, 8.2, 0.8, 12],\n",
    "    [2.20, 17.1, 1.7, 12],\n",
    "    [3.6, 18.3, 0.8, 12],\n",
    "    [4.5, 17.0, 0.8, 12],\n",
    "    [4.6, 17.96, 0.5, 12],\n",
    "    [5.8, 12.5, 0.7, 12],\n",
    "    [8.0, 6.8, 0.5, 12],\n",
    "    [11.6, 4.5, 0.5, 8],\n",
    "    [24, 160.6, 16.0, 30],\n",
    "    [65, 4398, 274, 90],\n",
    "    [70, 5555, 1000, 120],\n",
    "    [100, 11000, 3000, 125],\n",
    "    [160, 19000, 4000, 80],\n",
    "    [250, 23700, 5000, 90],\n",
    "    [350, 15000, 3000, 90],\n",
    "    [450, 6700, 2500, 60],\n",
    "    [500, 6200, 2000, 90],\n",
    "    [850, 1000, 300, 60],\n",
    "    [1110, 238, 45, 5],\n",
    "    [1300, 120, 30, 5],\n",
    "    [2900, 14.5, 3.0, 5],\n",
    "    [8100, 1.10, 0.15, 5],\n",
    "    [10300, 0.65, 0.1, 5],\n",
    "    [40000, 0.05, 0.01, 5],\n",
    "    [64000, 0.047, 0.02, 5],\n",
    "]"
   ]
  },
  {
   "cell_type": "markdown",
   "id": "british-evaluation",
   "metadata": {},
   "source": [
    "A screenshot of the table, so we can cross-check with the transcribed data above:"
   ]
  },
  {
   "cell_type": "code",
   "execution_count": null,
   "id": "shared-ministry",
   "metadata": {},
   "outputs": [],
   "source": [
    "from IPython.display import Image\n",
    "\n",
    "Image('/blue/adamginsburg/adamginsburg/SPICY_ALMAIMF/sed.png')"
   ]
  },
  {
   "cell_type": "code",
   "execution_count": null,
   "id": "future-publicity",
   "metadata": {},
   "outputs": [],
   "source": [
    "cb26tbl = Table(rows=data,\n",
    "                names=['wavelength', 'flux', 'eflux', 'aperture'],\n",
    "                units=(u.um, u.mJy, u.mJy, u.arcsec)\n",
    "               )\n",
    "cb26tbl"
   ]
  },
  {
   "cell_type": "markdown",
   "id": "dad3cf92-4e72-46ad-b3b8-e0367b9d8b81",
   "metadata": {},
   "source": [
    "We run the Robitaille model grid fitter for each of the geometries in the grid.\n",
    "\n",
    "We allow for an interstellar extinction ranging from 1 to 30 magnitudes.  The paper gives $A_V\\sim13$"
   ]
  },
  {
   "cell_type": "code",
   "execution_count": null,
   "id": "conventional-impossible",
   "metadata": {
    "tags": []
   },
   "outputs": [],
   "source": [
    "fits = {geom:\n",
    "        fit_a_source(data=cb26tbl['flux'].quantity,\n",
    "             error=cb26tbl['eflux'].quantity,\n",
    "             valid=np.ones(len(cb26tbl)), aperture_size=cb26tbl['aperture'].quantity,\n",
    "             filters=cb26tbl['wavelength'].quantity,\n",
    "                   av_range=[1,30],\n",
    "                   distance_range=[110,170]*u.pc,\n",
    "                     geometry=geom,\n",
    "                     stash_to_mmap=True\n",
    "                  )\n",
    "        for geom in geometries}#['spubhmi']} #geometries}\n",
    "fit_dict = fits"
   ]
  },
  {
   "cell_type": "markdown",
   "id": "endless-fashion",
   "metadata": {},
   "source": [
    "`plot_fit` will show the default aperture, 3\", as a solid line by default.\n",
    "\n",
    "It also shows the per-aperture convolved flux as squares with size scaled by aperture size."
   ]
  },
  {
   "cell_type": "markdown",
   "id": "awful-church",
   "metadata": {},
   "source": [
    "$$\\chi^2 = \\Sigma \\frac{(y_i - x_i)^2}{\\sigma_i^2}$$"
   ]
  },
  {
   "cell_type": "code",
   "execution_count": null,
   "id": "11c734a0-6e39-4088-b9fb-b03e30f46daa",
   "metadata": {},
   "outputs": [],
   "source": [
    "minchi2 = min([np.nanmin(fits[geom].chi2) for geom in fits])\n",
    "minchi2"
   ]
  },
  {
   "cell_type": "markdown",
   "id": "40fbce54-3635-418b-90cd-7d72693eb7a6",
   "metadata": {},
   "source": [
    "In the ALMA-IMF-SPICY project, we adopt the following criterion to determine the range of 'compatible' models:\n",
    "\n",
    "Either\n",
    " 1) all models with a $\\chi^2$ value within $\\chi^2 < 3 min(\\chi^2)$ if $min(\\chi^2) > 3$ or \n",
    " 2) all within $\\chi^2<9$"
   ]
  },
  {
   "cell_type": "code",
   "execution_count": null,
   "id": "bulgarian-person",
   "metadata": {},
   "outputs": [],
   "source": [
    "chi2limit = minchi2*3 if minchi2 > 3 else 9\n",
    "deltachi2limit = chi2limit - minchi2"
   ]
  },
  {
   "cell_type": "code",
   "execution_count": null,
   "id": "8f55765f-de11-4817-9ec0-8ac1f556030c",
   "metadata": {},
   "outputs": [],
   "source": [
    "print(f\"Delta-chi^2 = {deltachi2limit} for min chi2 = {minchi2}\")"
   ]
  },
  {
   "cell_type": "markdown",
   "id": "fd932079-33f4-4748-b8c7-28a78c95e0ed",
   "metadata": {},
   "source": [
    "We make plots for a few geometries:\n",
    "\n",
    "* `spubsmi`: passive disk, Ulrich envelope, cavity + ambient medium, and inner radius at the sublimation radius\n",
    "* `sp--s-i`: passive disk only, with inner radius set by the sublimation radius"
   ]
  },
  {
   "cell_type": "code",
   "execution_count": null,
   "id": "9a8ce1bc-e608-45b0-a61d-5cf4b4ed8355",
   "metadata": {},
   "outputs": [],
   "source": [
    "import plot_fit\n",
    "imp.reload(plot_fit)\n",
    "from plot_fit import plot_fit, datafunction"
   ]
  },
  {
   "cell_type": "code",
   "execution_count": null,
   "id": "homeless-concrete",
   "metadata": {},
   "outputs": [],
   "source": [
    "fit = fits['spubsmi']\n",
    "plot_fit({'spubsmi': fit}, ['spubsmi'], fieldid='CB26', chi2limit=chi2limit, min_chi2=minchi2, show_all_models=True, mass_ul=1)"
   ]
  },
  {
   "cell_type": "markdown",
   "id": "46138471-6bf6-4d02-b0aa-7bb6767c17c8",
   "metadata": {},
   "source": [
    "The disk-only model seems to substantially under-produce flux at long wavelengths, >100 microns"
   ]
  },
  {
   "cell_type": "code",
   "execution_count": null,
   "id": "integrated-reynolds",
   "metadata": {},
   "outputs": [],
   "source": [
    "geo = 'sp--s-i'\n",
    "fit = fits[geo]\n",
    "plot_fit({geo: fit}, [geo], chi2limit=chi2limit, fieldid='CB26', show_all_models=True, min_chi2=minchi2)"
   ]
  },
  {
   "cell_type": "markdown",
   "id": "fc006abc-59ef-497e-90f6-e484a096feed",
   "metadata": {},
   "source": [
    "We can compare all geometries that meet the minimum chi^2 limit"
   ]
  },
  {
   "cell_type": "code",
   "execution_count": null,
   "id": "pursuant-harbor",
   "metadata": {},
   "outputs": [],
   "source": [
    "okgeo = []\n",
    "for geom in geometries:\n",
    "    # we impose an _absolute_ chi^2 limit (the fitter uses a _relative_, delta chi2 limit)\n",
    "    print(f\"{geom}: {np.nanmin(fits[geom].chi2):12.1f}\")\n",
    "    if np.nanmin(fits[geom].chi2) < deltachi2limit+minchi2:\n",
    "        okgeo.append(geom)"
   ]
  },
  {
   "cell_type": "code",
   "execution_count": null,
   "id": "conceptual-jones",
   "metadata": {},
   "outputs": [],
   "source": [
    "plot_fit(fits, okgeo, chi2limit=chi2limit, min_chi2=minchi2)"
   ]
  },
  {
   "cell_type": "code",
   "execution_count": null,
   "id": "developing-ministry",
   "metadata": {},
   "outputs": [],
   "source": [
    "Image('/blue/adamginsburg/adamginsburg/SPICY_ALMAIMF/fitpars.png', width=600)"
   ]
  },
  {
   "cell_type": "markdown",
   "id": "certified-charity",
   "metadata": {},
   "source": [
    "The Robitaille models favor smaller, hotter stars - but similar-ish luminosities."
   ]
  },
  {
   "cell_type": "code",
   "execution_count": null,
   "id": "numeric-pregnancy",
   "metadata": {},
   "outputs": [],
   "source": [
    "L_rob = 0.2 *u.L_sun\n",
    "L_paper = ((4000*u.K)**4 * 4*np.pi*(2*u.R_sun)**2 * constants.sigma_sb).to(u.L_sun)\n",
    "print(f\"Robitaille: {L_rob:0.1f}, Paper: {L_paper:0.1f}, ratio rob/paper: {L_rob/L_paper:0.2f}\")"
   ]
  },
  {
   "cell_type": "markdown",
   "id": "f00f9065-b567-410d-811b-33b07a5276e4",
   "metadata": {},
   "source": [
    "In this plot:\n",
    "\n",
    " * White circles are the data\n",
    " * Green squares are the model evaluated at that specific aperture & wavelength\n",
    " * Green line is the model evaluated at the _default_ aperture"
   ]
  },
  {
   "cell_type": "code",
   "execution_count": null,
   "id": "fatty-ethiopia",
   "metadata": {},
   "outputs": [],
   "source": [
    "plot_fit(fits, ['spubhmi'], chi2limit=chi2limit, min_chi2=minchi2, fieldid='CB26',)"
   ]
  },
  {
   "cell_type": "code",
   "execution_count": null,
   "id": "annoying-stupid",
   "metadata": {},
   "outputs": [],
   "source": [
    "plot_fit(fits, ['spubhmi'], chi2limit=chi2limit, show_all_models=True, min_chi2=minchi2, alpha_allmodels=0.02, fieldid='CB26',)"
   ]
  },
  {
   "cell_type": "markdown",
   "id": "competent-novelty",
   "metadata": {},
   "source": [
    "# Look at A_V and distance vs. chi^2\n",
    "\n",
    "The above plots tell us that:\n",
    "\n",
    "1. Most models are \"pegged\" to the near near/far distance and the min/max A_V.  Models at these extremes are probably not useful (though the distance doesn't matter so much in this case).\n",
    "2. There seems to be a preferred A_V of ~15 (close to the ~13 from the paper)."
   ]
  },
  {
   "cell_type": "code",
   "execution_count": null,
   "id": "unexpected-instrument",
   "metadata": {},
   "outputs": [],
   "source": [
    "geom = 'spubhmi'\n",
    "\n",
    "pars, data, selection = datafunction(geom, deltachi2limit, fits, min_chi2=minchi2)\n",
    "fit = fits[geom]\n",
    "maxchi2 = minchi2 + deltachi2limit\n",
    "selection = fit.chi2 < maxchi2\n",
    "len(data)"
   ]
  },
  {
   "cell_type": "code",
   "execution_count": null,
   "id": "verified-pearl",
   "metadata": {},
   "outputs": [],
   "source": [
    "pl.scatter(10**fit.sc, fit.chi2, alpha=0.1)\n",
    "pl.scatter(10**fit.sc[selection], fit.chi2[selection], alpha=0.2, color='r')\n",
    "pl.ylim(0,5000)\n",
    "pl.ylabel(\"$\\chi^2$\")\n",
    "pl.xlabel(\"Distance (kpc)\")"
   ]
  },
  {
   "cell_type": "code",
   "execution_count": null,
   "id": "infinite-nurse",
   "metadata": {},
   "outputs": [],
   "source": [
    "pl.scatter(fit.av, fit.chi2, alpha=0.1)\n",
    "pl.scatter(fit.av[selection], fit.chi2[selection], alpha=0.2, color='r')\n",
    "pl.ylim(0,5000)\n",
    "pl.ylabel(\"$\\chi^2$\")\n",
    "pl.xlabel(\"Extinction (A_V)\")"
   ]
  },
  {
   "cell_type": "markdown",
   "id": "formal-festival",
   "metadata": {},
   "source": [
    "This is a sanity check to show that the fit is significantly limiting the mass:"
   ]
  },
  {
   "cell_type": "code",
   "execution_count": null,
   "id": "comparative-defensive",
   "metadata": {},
   "outputs": [],
   "source": [
    "bins = np.logspace(-3,3)\n",
    "pl.hist(pars['Sphere Masses'][:,9], bins=bins)\n",
    "pl.hist(data['Sphere Masses'][:,9], bins=bins)\n",
    "\n",
    "pl.loglog()"
   ]
  },
  {
   "cell_type": "code",
   "execution_count": null,
   "id": "cardiovascular-general",
   "metadata": {},
   "outputs": [],
   "source": [
    "bins = np.logspace(-4,7)\n",
    "pl.hist(pars['Model Luminosity'][:], bins=bins)\n",
    "pl.hist(data['Model Luminosity'][:], bins=bins)\n",
    "\n",
    "pl.loglog()"
   ]
  },
  {
   "cell_type": "code",
   "execution_count": null,
   "id": "40ee71bc-6087-4a83-896c-c1e74bbdaf34",
   "metadata": {},
   "outputs": [],
   "source": [
    "from sedfitter.sed import SEDCube"
   ]
  },
  {
   "cell_type": "code",
   "execution_count": null,
   "id": "centered-straight",
   "metadata": {},
   "outputs": [],
   "source": [
    "# need to check aperture sizes\n",
    "robitaille_modeldir='/blue/adamginsburg/richardson.t/research/flux/robitaille_models/'\n",
    "model_dir = f'{robitaille_modeldir}/{geom}'\n",
    "sedcube = SEDCube.read(f\"{model_dir}/flux.fits\",)\n",
    "sedcube.apertures"
   ]
  },
  {
   "cell_type": "code",
   "execution_count": null,
   "id": "extra-burner",
   "metadata": {},
   "outputs": [],
   "source": [
    "sedcube.apertures[5], sedcube.apertures[9]"
   ]
  },
  {
   "cell_type": "markdown",
   "id": "bigger-punch",
   "metadata": {},
   "source": [
    "# Disk and Envelope parameters"
   ]
  },
  {
   "cell_type": "code",
   "execution_count": null,
   "id": "adaptive-egyptian",
   "metadata": {},
   "outputs": [],
   "source": [
    "diskpars = ['disk.mass', 'disk.rmax', 'disk.beta', 'disk.p', 'disk.h100', 'envelope.rho_0', 'envelope.rc', 'envelope.rmin', 'cavity.power', ]"
   ]
  },
  {
   "cell_type": "markdown",
   "id": "distributed-ghost",
   "metadata": {},
   "source": [
    "# Different answer:\n",
    "spubhmi grid favors a much lower disk mass than the 0.076 Msun from Zhang+"
   ]
  },
  {
   "cell_type": "code",
   "execution_count": null,
   "id": "golden-mother",
   "metadata": {},
   "outputs": [],
   "source": [
    "#bins = np.logspace(-3,3)\n",
    "bins = np.logspace(-4, -1)\n",
    "pl.hist(pars['disk.mass'], bins=bins)\n",
    "pl.hist(data['disk.mass'], bins=bins)\n",
    "pl.axvline(7.6e-2)\n",
    "pl.loglog()\n",
    "pl.xlabel(\"Disk Mass (M$_\\odot$)\")"
   ]
  },
  {
   "cell_type": "markdown",
   "id": "white-chorus",
   "metadata": {},
   "source": [
    "## Robitaille grid favors a moderately larger envelope mass (at least for spubhmi)\n",
    "\n",
    "S4.4 of the paper says M_env = 0.033 Msun within 900 AU and M_env = 0.22 Msun within 10^4 AU"
   ]
  },
  {
   "cell_type": "code",
   "execution_count": null,
   "id": "illegal-kelly",
   "metadata": {},
   "outputs": [],
   "source": [
    "# mass comparisons\n",
    "pl.figure(figsize=(12,12))\n",
    "pl.subplot(2,2,1)\n",
    "bins = np.logspace(-4, 2)\n",
    "pl.hist(pars['Sphere Masses'][:,5], bins=bins)\n",
    "pl.hist(data['Sphere Masses'][:,5], bins=bins, alpha=0.7)\n",
    "pl.axvline(3.3e-2)\n",
    "pl.loglog()\n",
    "pl.xlabel(\"Sphere mass\")\n",
    "pl.title(\"Aperture 5=900 AU\")\n",
    "\n",
    "pl.subplot(2,2,2)\n",
    "pl.hist(pars['Line-of-Sight Masses'][:,5], bins=bins)\n",
    "pl.hist(data['Line-of-Sight Masses'][:,5], bins=bins, alpha=0.7)\n",
    "pl.axvline(3.3e-2)\n",
    "pl.loglog()\n",
    "pl.xlabel(\"LOS mass\")\n",
    "pl.title(\"Aperture 5=900 AU\")\n",
    "\n",
    "pl.subplot(2,2,3)\n",
    "pl.hist(pars['Sphere Masses'][:,9], bins=bins)\n",
    "pl.hist(data['Sphere Masses'][:,9], bins=bins, alpha=0.7)\n",
    "pl.axvline(0.22)\n",
    "pl.loglog()\n",
    "pl.xlabel(\"Sphere mass\")\n",
    "pl.title(\"Aperture 9=$10^4$ AU\")\n",
    "\n",
    "pl.subplot(2,2,4)\n",
    "pl.hist(pars['Line-of-Sight Masses'][:,9], bins=bins)\n",
    "pl.hist(data['Line-of-Sight Masses'][:,9], bins=bins, alpha=0.7)\n",
    "pl.axvline(0.22)\n",
    "pl.loglog()\n",
    "pl.xlabel(\"LOS mass\")\n",
    "pl.title(\"Aperture 9=$10^4$ AU\")"
   ]
  },
  {
   "cell_type": "code",
   "execution_count": null,
   "id": "dietary-cliff",
   "metadata": {},
   "outputs": [],
   "source": [
    "#bins = np.logspace(-3,3)\n",
    "bins = np.linspace(40, 1000)\n",
    "pl.hist(pars['disk.rmax'], bins=bins)\n",
    "pl.hist(data['disk.rmax'], bins=bins)\n",
    "pl.axvline(172)\n",
    "pl.semilogy()\n",
    "pl.xlabel(\"Disk max radius\")"
   ]
  },
  {
   "cell_type": "code",
   "execution_count": null,
   "id": "noted-quebec",
   "metadata": {},
   "outputs": [],
   "source": [
    "#bins = np.logspace(-3,3)\n",
    "bins = np.linspace(-2,0)\n",
    "pl.hist(pars['disk.p'], bins=bins)\n",
    "pl.hist(data['disk.p'], bins=bins)\n",
    "pl.axvline(-0.87)\n",
    "pl.semilogy()\n",
    "pl.xlabel(\"Disk power-law index $p$\")"
   ]
  },
  {
   "cell_type": "code",
   "execution_count": null,
   "id": "narrative-setting",
   "metadata": {},
   "outputs": [],
   "source": [
    "#bins = np.logspace(-3,3)\n",
    "bins = np.linspace(0,90)\n",
    "pl.hist(pars['inclination'], bins=bins)\n",
    "pl.hist(data['inclination'], bins=bins)\n",
    "pl.axvline(88) #Zhang number?\n",
    "pl.semilogy()\n",
    "pl.xlabel(\"Disk inclination\")"
   ]
  },
  {
   "cell_type": "code",
   "execution_count": null,
   "id": "quantitative-opening",
   "metadata": {},
   "outputs": [],
   "source": [
    "Image('/blue/adamginsburg/adamginsburg/SPICY_ALMAIMF/fitpars.png', width=600)"
   ]
  },
  {
   "cell_type": "markdown",
   "id": "rational-contamination",
   "metadata": {},
   "source": [
    "# Compare to Optically Thin dust model"
   ]
  },
  {
   "cell_type": "code",
   "execution_count": null,
   "id": "outstanding-rogers",
   "metadata": {},
   "outputs": [],
   "source": [
    "from dust_emissivity import dust"
   ]
  },
  {
   "cell_type": "code",
   "execution_count": null,
   "id": "first-expansion",
   "metadata": {},
   "outputs": [],
   "source": [
    "flux_1mm = 120*u.mJy\n",
    "distance = 140*u.pc\n",
    "optthinmass = dust.massofsnu(nu=(1110.0*u.um).to(u.GHz, u.spectral()),\n",
    "                             snu=flux_1mm, distance=distance, temperature=20*u.K)\n",
    "optthinmass"
   ]
  },
  {
   "cell_type": "code",
   "execution_count": null,
   "id": "rubber-float",
   "metadata": {},
   "outputs": [],
   "source": [
    "data['disk.mass', 'Line-of-Sight Masses', 'Sphere Masses']"
   ]
  },
  {
   "cell_type": "markdown",
   "id": "adopted-aquatic",
   "metadata": {},
   "source": [
    "## Plot: show the mass as a function of radius\n",
    "\n",
    "We're using a 5\" aperture in this case for the long-wavelength, mass-estimating scale"
   ]
  },
  {
   "cell_type": "code",
   "execution_count": null,
   "id": "ebb7d0a6-7be3-49c7-a8bb-9a10ae8d33b5",
   "metadata": {},
   "outputs": [],
   "source": [
    "from itertools import cycle\n",
    "from matplotlib import pyplot as plt"
   ]
  },
  {
   "cell_type": "code",
   "execution_count": null,
   "id": "undefined-celebration",
   "metadata": {},
   "outputs": [],
   "source": [
    "aperture_1mm = 5*u.arcsec\n",
    "\n",
    "prop_cycle = plt.rcParams['axes.prop_cycle']\n",
    "colors = cycle(prop_cycle.by_key()['color'])\n",
    "\n",
    "pl.figure(figsize=(14,6))\n",
    "pl.subplot(1,2,1)\n",
    "lines1 = pl.plot(sedcube.apertures, np.array(data['Line-of-Sight Masses']).T, label='LOS', linestyle='--', color=next(colors))\n",
    "lines2 = pl.plot(sedcube.apertures, np.array(data['Sphere Masses']).T, label='Sphere', linestyle=':', color=next(colors))\n",
    "pl.axvline((distance * aperture_1mm).to(u.au, u.dimensionless_angles()).value, color='r')\n",
    "pl.axis([90,1e4,0,3])\n",
    "pl.title(\"Linear\")\n",
    "pl.xlabel(\"Radius (AU)\")\n",
    "pl.ylabel(\"Mass (M$_\\odot$)\")\n",
    "pl.subplot(1,2,2)\n",
    "pl.plot(sedcube.apertures, np.array(data['Line-of-Sight Masses']).T, label='LOS', linestyle='--', color=lines1[0].get_color())\n",
    "pl.plot(sedcube.apertures, np.array(data['Sphere Masses']).T, label='Sphere', linestyle=':', color=lines2[0].get_color())\n",
    "pl.axvline((distance * aperture_1mm).to(u.au, u.dimensionless_angles()).value, color='r')\n",
    "pl.loglog()\n",
    "pl.legend(handles=[lines1[0], lines2[0]], loc='lower right')\n",
    "pl.axis([90,1e4,0,3])\n",
    "pl.title(\"Log\")\n",
    "pl.xlabel(\"Radius (AU)\")\n",
    "pl.ylabel(\"Mass (M$_\\odot$)\")"
   ]
  },
  {
   "cell_type": "markdown",
   "id": "three-balloon",
   "metadata": {},
   "source": [
    "# 2D Flux Plots\n",
    "\n",
    "The SEDs are calculated in a two-dimensional grid of wavelength and aperture.   Let's see where our measurements fall and how they compare."
   ]
  },
  {
   "cell_type": "code",
   "execution_count": null,
   "id": "medical-serum",
   "metadata": {
    "tags": []
   },
   "outputs": [],
   "source": [
    "obs_apertures = (cb26tbl['aperture'] * distance).to(u.au, u.dimensionless_angles())\n",
    "obs_apertures                                  "
   ]
  },
  {
   "cell_type": "code",
   "execution_count": null,
   "id": "touched-waterproof",
   "metadata": {},
   "outputs": [],
   "source": [
    "obs_apnums = np.interp(obs_apertures, sedcube.apertures, np.arange(len(sedcube.apertures)))\n",
    "obs_apnums"
   ]
  },
  {
   "cell_type": "code",
   "execution_count": null,
   "id": "opened-execution",
   "metadata": {},
   "outputs": [],
   "source": [
    "obs_wavs = cb26tbl['wavelength'].to(u.um)\n",
    "obs_wlnums = np.interp(obs_wavs, sedcube.wav[::-1], np.arange(len(sedcube.wav))[::-1])\n",
    "obs_wlnums, obs_wavs"
   ]
  },
  {
   "cell_type": "code",
   "execution_count": null,
   "id": "homeless-rebel",
   "metadata": {},
   "outputs": [],
   "source": [
    "from astropy.visualization import simple_norm"
   ]
  },
  {
   "cell_type": "code",
   "execution_count": null,
   "id": "running-attack",
   "metadata": {},
   "outputs": [],
   "source": [
    "sedcube.apertures.min()"
   ]
  },
  {
   "cell_type": "code",
   "execution_count": null,
   "id": "italic-study",
   "metadata": {},
   "outputs": [],
   "source": [
    "pl.figure(figsize=(12,12))\n",
    "pl.rcParams['font.size'] = 16\n",
    "ax = pl.gca()\n",
    "mdl = sedcube.get_sed(data['MODEL_NAME'][0]).flux.value\n",
    "norm = simple_norm(mdl, stretch='log')\n",
    "ax.pcolormesh(sedcube.wav.value, sedcube.apertures.value, mdl[:,:], norm=norm)# extent=[x.value for x in [sedcube.wav.min(), sedcube.wav.max(), sedcube.apertures.min(), sedcube.apertures.max()]],\n",
    "              #aspect=1./10,\n",
    "              #origin='lower')\n",
    "#ax.scatter(len(sedcube.wav) - obs_wlnums, obs_apnums, c=cb26tbl['flux'].to(u.mJy), norm=norm, edgecolors='w', linewidths=0.15)\n",
    "_=ax.scatter(obs_wavs.value, obs_apertures.value, c=cb26tbl['flux'].to(u.mJy).value, norm=norm, edgecolors='w', linewidths=0.5)\n",
    "#_=ax.axis([0.5*u.um, 1*u.cm, 90*u.au, 1e5*u.au])\n",
    "ax.loglog()\n",
    "_=ax.axis([0.5, 0.5e4, 90, 5e4])\n",
    "_=ax.set_xlabel(\"Wavelength ($\\mu$m)\")\n",
    "_=ax.set_ylabel(\"Aperture size (AU)\")\n",
    "#ax.set_xticklabels([f\"{x:0.1f}\" for x in np.interp(ax.get_xticks(), np.arange(len(sedcube.wav)), sedcube.wav)][::-1])\n",
    "#_=ax.set_yticklabels([f\"{x:0.1f}\" for x in np.interp(ax.get_yticks(), np.arange(len(sedcube.apertures)), sedcube.apertures)])"
   ]
  },
  {
   "cell_type": "code",
   "execution_count": null,
   "id": "outstanding-count",
   "metadata": {},
   "outputs": [],
   "source": [
    "pl.figure(figsize=(30,20))\n",
    "for ii in range(9):\n",
    "    ax = pl.subplot(3,3,ii+1)\n",
    "\n",
    "    ax.set_title(data['MODEL_NAME'][ii])\n",
    "    mdl = sedcube.get_sed(data['MODEL_NAME'][ii]).flux.value\n",
    "    norm = simple_norm(mdl, stretch='log')\n",
    "    ax.pcolormesh(sedcube.wav.value, sedcube.apertures.value, mdl[:,:], norm=norm)\n",
    "    _=ax.scatter(obs_wavs.value, obs_apertures.value, c=cb26tbl['flux'].to(u.mJy).value, norm=norm, edgecolors='w', linewidths=0.15)\n",
    "    ax.loglog()\n",
    "    _=ax.axis([0.5, 0.5e4, 90, 5e4])\n",
    "    _=ax.set_xlabel(\"Wavelength ($\\mu$m)\")\n",
    "    _=ax.set_ylabel(\"Aperture size (AU)\")"
   ]
  },
  {
   "cell_type": "markdown",
   "id": "future-abraham",
   "metadata": {},
   "source": [
    "These best-fitting plots all disagree with the measurements substantially.\n",
    "\n",
    "The most obvious issue is that the long-wavelength data are brighter than predictions uniformly.\n",
    "\n",
    "The agreement at short wavelengths isn't amazing either, but it's fine?  The color stretch might over-emphasize the disagreement at short wavelengths, not sure."
   ]
  },
  {
   "cell_type": "code",
   "execution_count": null,
   "id": "nominated-thumbnail",
   "metadata": {},
   "outputs": [],
   "source": [
    "plot_fit(fits, ['spubhmi'], chi2limit=chi2limit,\n",
    "         fieldid='CB26',\n",
    "         show_all_models=True, default_aperture=(5*u.arcsec*distance).to(u.au, u.dimensionless_angles()), min_chi2=minchi2)"
   ]
  },
  {
   "cell_type": "markdown",
   "id": "42a65966-862b-4ab4-8104-de547da3fce9",
   "metadata": {},
   "source": [
    "# What do the Robitaille model grids predict using the fitted parameters?\n",
    "\n",
    "Using the `spubhmi` grid, we can take the parameters from Zhang et al and see what they predict."
   ]
  },
  {
   "cell_type": "code",
   "execution_count": null,
   "id": "56e4b61a-a25b-4983-baa7-e6980a5c6105",
   "metadata": {},
   "outputs": [],
   "source": [
    "Image('/blue/adamginsburg/adamginsburg/SPICY_ALMAIMF/fitpars.png', width=600)"
   ]
  },
  {
   "cell_type": "code",
   "execution_count": null,
   "id": "abea0cf4-3bda-444c-9f1b-6cd5ab98528b",
   "metadata": {},
   "outputs": [],
   "source": [
    "matches = (pars['disk.rmax'] > 100) & (pars['disk.rmax'] < 300) & (pars['envelope.rho_0'] > 5.0e-20) & (pars['envelope.rho_0'] < 7.0e-20) & (pars['star.radius'] > 1.5) & (pars['star.radius'] < 2.5) & (pars['star.temperature'] < 5000) & (pars['star.temperature'] > 3000)\n",
    "matches.sum()"
   ]
  },
  {
   "cell_type": "code",
   "execution_count": null,
   "id": "1ec78708-72b4-46da-8c1b-8b6f6c27a932",
   "metadata": {},
   "outputs": [],
   "source": [
    "_=pl.loglog(sedcube.wav, sedcube.val[matches,9,:].T, alpha=0.1)\n",
    "_=pl.scatter(cb26tbl['wavelength'].quantity, cb26tbl['flux'].quantity, 's')\n",
    "_=pl.ylim(1e-3,1e3)"
   ]
  },
  {
   "cell_type": "markdown",
   "id": "2802dcf8-7cb9-4358-9a65-4f0add164835",
   "metadata": {},
   "source": [
    "# More constrained fits\n",
    "\n",
    "If we fix $A_V$, do we get closer results?"
   ]
  },
  {
   "cell_type": "code",
   "execution_count": null,
   "id": "effective-economy",
   "metadata": {
    "tags": []
   },
   "outputs": [],
   "source": [
    "fits_fixedAV = {geom:\n",
    "        fit_a_source(data=cb26tbl['flux'].quantity,\n",
    "             error=cb26tbl['eflux'].quantity,\n",
    "             valid=np.ones(len(cb26tbl)), aperture_size=cb26tbl['aperture'].quantity,\n",
    "             filters=cb26tbl['wavelength'].quantity,\n",
    "                   av_range=[13,14],\n",
    "                   distance_range=[110,170]*u.pc,\n",
    "                     geometry=geom,\n",
    "                  )\n",
    "        for geom in geometries}"
   ]
  },
  {
   "cell_type": "code",
   "execution_count": null,
   "id": "f32d3269-fa03-4691-84d9-0771c56da138",
   "metadata": {},
   "outputs": [],
   "source": []
  }
 ],
 "metadata": {
  "kernelspec": {
   "display_name": "python39",
   "language": "python",
   "name": "python39"
  },
  "language_info": {
   "codemirror_mode": {
    "name": "ipython",
    "version": 3
   },
   "file_extension": ".py",
   "mimetype": "text/x-python",
   "name": "python",
   "nbconvert_exporter": "python",
   "pygments_lexer": "ipython3",
   "version": "3.9.7"
  }
 },
 "nbformat": 4,
 "nbformat_minor": 5
}
