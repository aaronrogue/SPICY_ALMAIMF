{
 "cells": [
  {
   "cell_type": "code",
   "execution_count": 53,
   "id": "b110991e-d87c-4042-954f-d13ee30bf044",
   "metadata": {},
   "outputs": [
    {
     "name": "stdout",
     "output_type": "stream",
     "text": [
      "/home/spetz/SPICY sources/G12/SPICYTableG12.fits\n",
      "/home/spetz/SPICY sources/G333/SPICYTableG333.fits\n",
      "/home/spetz/SPICY sources/G351/SPICYTableG351.fits\n"
     ]
    }
   ],
   "source": [
    "ls /home/spetz/SPICY\\ sources/G*/*fits"
   ]
  },
  {
   "cell_type": "code",
   "execution_count": 54,
   "id": "03adcd43-4afe-4241-b901-09c3a983c9f5",
   "metadata": {},
   "outputs": [],
   "source": [
    "cp /home/spetz/SPICY\\ sources/G351/SPICYTableG351.fits /blue/adamginsburg/adamginsburg/ALMA_IMF/SPICY_ALMAIMF/tables/tbl_G351.fits"
   ]
  },
  {
   "cell_type": "code",
   "execution_count": 55,
   "id": "ff610684-ae04-4f9f-8a1a-cb0bf2a864c9",
   "metadata": {},
   "outputs": [],
   "source": [
    "cp /home/spetz/SPICY\\ sources/G333/SPICYTableG333.fits /blue/adamginsburg/adamginsburg/ALMA_IMF/SPICY_ALMAIMF/tables/tbl_G333.fits"
   ]
  },
  {
   "cell_type": "code",
   "execution_count": 56,
   "id": "ebdec032-0755-4453-bf57-bd802112c4b1",
   "metadata": {},
   "outputs": [],
   "source": [
    "cp /home/spetz/SPICY\\ sources/G12/SPICYTableG12.fits /blue/adamginsburg/adamginsburg/ALMA_IMF/SPICY_ALMAIMF/tables/tbl_G012.fits"
   ]
  },
  {
   "cell_type": "code",
   "execution_count": 57,
   "id": "162c82d2-e134-45ea-8ca8-d329f7cc54d8",
   "metadata": {},
   "outputs": [
    {
     "name": "stdout",
     "output_type": "stream",
     "text": [
      "cp: cannot create regular file ‘/blue/adamginsburg/adamginsburg/ALMA_IMF/SPICY_ALMAIMF/tables/tbl_G008.fits’: Permission denied\n"
     ]
    }
   ],
   "source": [
    "cp /blue/adamginsburg/morganhimes/SourceTableBuilding/Notebooks/SPICYTable_G008.fits  /blue/adamginsburg/adamginsburg/ALMA_IMF/SPICY_ALMAIMF/tables/tbl_G008.fits"
   ]
  },
  {
   "cell_type": "code",
   "execution_count": 58,
   "id": "454b897f-9659-40ff-86c1-ad6810e3a66d",
   "metadata": {},
   "outputs": [
    {
     "name": "stdout",
     "output_type": "stream",
     "text": [
      "total 448K\n",
      "-rw-r--r--+ 1 morganhimes  adamginsburg  79K Apr  5 03:54 tbl_G008.fits\n",
      "-rw-rwxr--+ 1 adamginsburg adamginsburg 197K Apr  5 16:46 \u001b[0m\u001b[01;32mtbl_G012.fits\u001b[0m*\n",
      "-rw-rw-r--+ 1 btingle      adamginsburg  85K Mar 31 16:49 tbl_G328\n",
      "-rw-rw-r--+ 1 btingle      adamginsburg  85K Mar 22 16:38 tbl_G328.fits\n",
      "-rw-rwxr--+ 1 adamginsburg adamginsburg 197K Apr  5 16:46 \u001b[01;32mtbl_G333.fits\u001b[0m*\n",
      "-rw-rw-r--+ 1 adamginsburg adamginsburg 197K Apr  5 16:46 tbl_G351.fits\n"
     ]
    }
   ],
   "source": [
    "ls -lh /blue/adamginsburg/adamginsburg/ALMA_IMF/SPICY_ALMAIMF/tables"
   ]
  },
  {
   "cell_type": "code",
   "execution_count": 59,
   "id": "b404e49e-1820-4c2c-b2a9-146c5c4a874c",
   "metadata": {},
   "outputs": [
    {
     "name": "stderr",
     "output_type": "stream",
     "text": [
      "setfacl: /blue/adamginsburg/adamginsburg/SPICY_ALMAIMF/tables/tbl_G328: Operation not permitted\n",
      "setfacl: /blue/adamginsburg/adamginsburg/SPICY_ALMAIMF/tables/tbl_G328.fits: Operation not permitted\n",
      "setfacl: /blue/adamginsburg/adamginsburg/SPICY_ALMAIMF/tables/tbl_G008.fits: Operation not permitted\n",
      "setfacl: /blue/adamginsburg/adamginsburg/SPICY_ALMAIMF/tables/tbl_G328: Operation not permitted\n",
      "setfacl: /blue/adamginsburg/adamginsburg/SPICY_ALMAIMF/tables/tbl_G328.fits: Operation not permitted\n",
      "setfacl: /blue/adamginsburg/adamginsburg/SPICY_ALMAIMF/tables/tbl_G008.fits: Operation not permitted\n",
      "setfacl: /blue/adamginsburg/adamginsburg/SPICY_ALMAIMF/tables/tbl_G328: Operation not permitted\n",
      "setfacl: /blue/adamginsburg/adamginsburg/SPICY_ALMAIMF/tables/tbl_G328.fits: Operation not permitted\n",
      "setfacl: /blue/adamginsburg/adamginsburg/SPICY_ALMAIMF/tables/tbl_G008.fits: Operation not permitted\n"
     ]
    }
   ],
   "source": [
    "%%bash\n",
    "setfacl -R -m d:u:morganhimes:rwX /blue/adamginsburg/adamginsburg/SPICY_ALMAIMF/tables\n",
    "setfacl -R -m u:morganhimes:rwX /blue/adamginsburg/adamginsburg/SPICY_ALMAIMF/tables\n",
    "setfacl -R -m u:btingle:rwX /blue/adamginsburg/adamginsburg/SPICY_ALMAIMF/tables\n",
    "setfacl -R -m d:u:btingle:rwX /blue/adamginsburg/adamginsburg/SPICY_ALMAIMF/tables\n",
    "setfacl -R -m u:spetz:rwX /blue/adamginsburg/adamginsburg/SPICY_ALMAIMF/tables\n",
    "setfacl -R -m d:u:spetz:rwX /blue/adamginsburg/adamginsburg/SPICY_ALMAIMF/tables"
   ]
  },
  {
   "cell_type": "code",
   "execution_count": 60,
   "id": "3f8639f8-0c63-428a-9967-6878c922663a",
   "metadata": {},
   "outputs": [],
   "source": [
    "g328fn = '/blue/adamginsburg/adamginsburg/ALMA_IMF/SPICY_ALMAIMF/tables/tbl_G328.fits'\n",
    "g008fn = '/blue/adamginsburg/adamginsburg/ALMA_IMF/SPICY_ALMAIMF/tables/tbl_G008.fits'\n",
    "g351fn = '/blue/adamginsburg/adamginsburg/ALMA_IMF/SPICY_ALMAIMF/tables/tbl_G351.fits'\n",
    "g012fn = '/blue/adamginsburg/adamginsburg/ALMA_IMF/SPICY_ALMAIMF/tables/tbl_G012.fits'\n",
    "g333fn = '/blue/adamginsburg/adamginsburg/ALMA_IMF/SPICY_ALMAIMF/tables/tbl_G333.fits'"
   ]
  },
  {
   "cell_type": "code",
   "execution_count": 61,
   "id": "fccc6b6e-ad70-4620-a08f-23813467345b",
   "metadata": {},
   "outputs": [
    {
     "name": "stdout",
     "output_type": "stream",
     "text": [
      "-rw-rw-r--+ 1 btingle adamginsburg 85K Mar 22 16:38 /blue/adamginsburg/adamginsburg/ALMA_IMF/SPICY_ALMAIMF/tables/tbl_G328.fits\n"
     ]
    }
   ],
   "source": [
    "ls -lhrt $g328fn"
   ]
  },
  {
   "cell_type": "code",
   "execution_count": 62,
   "id": "773846ad-81cd-4b7b-bedc-1384f492da82",
   "metadata": {},
   "outputs": [
    {
     "name": "stdout",
     "output_type": "stream",
     "text": [
      "-rw-r--r--+ 1 morganhimes adamginsburg 79K Apr  5 03:54 /blue/adamginsburg/adamginsburg/ALMA_IMF/SPICY_ALMAIMF/tables/tbl_G008.fits\n"
     ]
    }
   ],
   "source": [
    "ls -lhrt $g008fn"
   ]
  },
  {
   "cell_type": "code",
   "execution_count": 63,
   "id": "dcf17174-bab3-46c1-82c3-39186efd099b",
   "metadata": {},
   "outputs": [
    {
     "name": "stdout",
     "output_type": "stream",
     "text": [
      "-rw-rw-r--+ 1 adamginsburg adamginsburg 197K Apr  5 16:46 /blue/adamginsburg/adamginsburg/ALMA_IMF/SPICY_ALMAIMF/tables/tbl_G351.fits\n"
     ]
    }
   ],
   "source": [
    "ls -lh $g351fn"
   ]
  },
  {
   "cell_type": "code",
   "execution_count": 64,
   "id": "9f640624-4f38-44b6-bc9b-4a16666ab501",
   "metadata": {},
   "outputs": [],
   "source": [
    "from astropy.table import Table, vstack"
   ]
  },
  {
   "cell_type": "code",
   "execution_count": 65,
   "id": "f4116444-042f-4970-9d71-c8785189b878",
   "metadata": {},
   "outputs": [
    {
     "data": {
      "text/plain": [
       "13"
      ]
     },
     "execution_count": 65,
     "metadata": {},
     "output_type": "execute_result"
    }
   ],
   "source": [
    "g008tb = Table.read(g008fn)\n",
    "len(g008tb)"
   ]
  },
  {
   "cell_type": "code",
   "execution_count": 66,
   "id": "99a08d84-0874-48e5-b4f7-87e357118b28",
   "metadata": {},
   "outputs": [
    {
     "data": {
      "text/html": [
       "<div><i>Table length=13</i>\n",
       "<table id=\"table47904105118736\" class=\"table-striped table-bordered table-condensed\">\n",
       "<thead><tr><th>Luminosity Median</th><th>LOS mass Median</th></tr></thead>\n",
       "<thead><tr><th>float64</th><th>float64</th></tr></thead>\n",
       "<tr><td>2.4355659269151393</td><td>-1.0843212908102347</td></tr>\n",
       "<tr><td>2.585646937969941</td><td>-0.28943289716324627</td></tr>\n",
       "<tr><td>1.6736763437687703</td><td>-0.2774978452722406</td></tr>\n",
       "<tr><td>2.5703837214870386</td><td>0.12525864858286667</td></tr>\n",
       "<tr><td>2.3120088982061273</td><td>-1.1528129155157605</td></tr>\n",
       "<tr><td>3.481778050866666</td><td>-0.44445408096464634</td></tr>\n",
       "<tr><td>5.220798308456374</td><td>-0.3343741460964237</td></tr>\n",
       "<tr><td>2.2191380561604026</td><td>-1.3715946891945787</td></tr>\n",
       "<tr><td>2.179230241466306</td><td>0.6620143494668901</td></tr>\n",
       "<tr><td>1.7119685091509802</td><td>-1.1348180005856754</td></tr>\n",
       "<tr><td>2.2235830225525466</td><td>-1.070753409691567</td></tr>\n",
       "<tr><td>2.6665444307179227</td><td>-0.501256436591891</td></tr>\n",
       "<tr><td>2.882422926728311</td><td>-1.63753910571809</td></tr>\n",
       "</table></div>"
      ],
      "text/plain": [
       "<Table length=13>\n",
       "Luminosity Median    LOS mass Median   \n",
       "     float64             float64       \n",
       "------------------ --------------------\n",
       "2.4355659269151393  -1.0843212908102347\n",
       " 2.585646937969941 -0.28943289716324627\n",
       "1.6736763437687703  -0.2774978452722406\n",
       "2.5703837214870386  0.12525864858286667\n",
       "2.3120088982061273  -1.1528129155157605\n",
       " 3.481778050866666 -0.44445408096464634\n",
       " 5.220798308456374  -0.3343741460964237\n",
       "2.2191380561604026  -1.3715946891945787\n",
       " 2.179230241466306   0.6620143494668901\n",
       "1.7119685091509802  -1.1348180005856754\n",
       "2.2235830225525466   -1.070753409691567\n",
       "2.6665444307179227   -0.501256436591891\n",
       " 2.882422926728311    -1.63753910571809"
      ]
     },
     "execution_count": 66,
     "metadata": {},
     "output_type": "execute_result"
    }
   ],
   "source": [
    "g008tb['Luminosity Median', 'LOS mass Median']"
   ]
  },
  {
   "cell_type": "code",
   "execution_count": 67,
   "id": "42e11acc-c062-40b9-88cc-b4c725d330cc",
   "metadata": {},
   "outputs": [
    {
     "data": {
      "text/plain": [
       "17"
      ]
     },
     "execution_count": 67,
     "metadata": {},
     "output_type": "execute_result"
    }
   ],
   "source": [
    "g328tb = Table.read(g328fn)\n",
    "len(g328tb)"
   ]
  },
  {
   "cell_type": "code",
   "execution_count": 68,
   "id": "abc48e00-5efe-490f-b905-8b2307667fa9",
   "metadata": {},
   "outputs": [
    {
     "data": {
      "text/plain": [
       "118"
      ]
     },
     "execution_count": 68,
     "metadata": {},
     "output_type": "execute_result"
    }
   ],
   "source": [
    "g351tb = Table.read(g351fn)\n",
    "len(g351tb)"
   ]
  },
  {
   "cell_type": "code",
   "execution_count": 69,
   "id": "6324ca2a-e39e-43b0-95bd-20155d57307f",
   "metadata": {},
   "outputs": [
    {
     "data": {
      "text/plain": [
       "118"
      ]
     },
     "execution_count": 69,
     "metadata": {},
     "output_type": "execute_result"
    }
   ],
   "source": [
    "g333tb = Table.read(g333fn)\n",
    "len(g333tb)"
   ]
  },
  {
   "cell_type": "code",
   "execution_count": 71,
   "id": "5a4ee3df-f8c4-456e-89ca-e069d4077750",
   "metadata": {},
   "outputs": [
    {
     "data": {
      "text/plain": [
       "118"
      ]
     },
     "execution_count": 71,
     "metadata": {},
     "output_type": "execute_result"
    }
   ],
   "source": [
    "g012tb = Table.read(g012fn)\n",
    "len(g012tb)"
   ]
  },
  {
   "cell_type": "code",
   "execution_count": 72,
   "id": "0bd84753-f06e-482a-a2f9-8403c0e78442",
   "metadata": {},
   "outputs": [
    {
     "name": "stderr",
     "output_type": "stream",
     "text": [
      "WARNING: MergeConflictWarning: Cannot merge meta key 'null' types <class 'float'> and <class 'float'>, choosing null=nan [astropy.utils.metadata]\n",
      "WARNING: MergeConflictWarning: In merged column 'ALMA-IMF_3mm_flux' the 'unit' attribute does not match (Jy / beam != mJy / beam).  Using mJy / beam for merged output [astropy.utils.metadata]\n",
      "WARNING: MergeConflictWarning: In merged column 'ALMA-IMF_3mm_eflux' the 'unit' attribute does not match (Jy / beam != mJy / beam).  Using mJy / beam for merged output [astropy.utils.metadata]\n",
      "WARNING: MergeConflictWarning: In merged column 'ALMA-IMF_1mm_flux' the 'unit' attribute does not match (Jy / beam != mJy / beam).  Using mJy / beam for merged output [astropy.utils.metadata]\n",
      "WARNING: MergeConflictWarning: In merged column 'ALMA-IMF_1mm_eflux' the 'unit' attribute does not match (Jy / beam != mJy / beam).  Using mJy / beam for merged output [astropy.utils.metadata]\n"
     ]
    }
   ],
   "source": [
    "tb = vstack([g008tb, g328tb, g351tb, g333tb, g012tb])"
   ]
  },
  {
   "cell_type": "code",
   "execution_count": 73,
   "id": "01a4015f-dfac-413c-a926-eda781b4919d",
   "metadata": {},
   "outputs": [],
   "source": [
    "%matplotlib inline\n",
    "import pylab as pl\n",
    "pl.rcParams['figure.facecolor']='w'"
   ]
  },
  {
   "cell_type": "code",
   "execution_count": 77,
   "id": "5eec8a64-947a-42db-aaa4-4603ae2bb470",
   "metadata": {},
   "outputs": [
    {
     "data": {
      "text/plain": [
       "<matplotlib.legend.Legend at 0x2b91a22dc610>"
      ]
     },
     "execution_count": 77,
     "metadata": {},
     "output_type": "execute_result"
    },
    {
     "data": {
      "image/png": "[encoded data removed]",
      "text/plain": [
       "<Figure size 432x288 with 1 Axes>"
      ]
     },
     "metadata": {},
     "output_type": "display_data"
    }
   ],
   "source": [
    "pl.plot(g328tb['LOS mass Median'], g328tb['Luminosity Median'], 'o', label='G328, d=2.5')\n",
    "pl.plot(g008tb['LOS mass Median'], g008tb['Luminosity Median'], 'o', label='G008, d=4.5')\n",
    "pl.plot(g351tb['LOS mass Median'], g351tb['Luminosity Median'], 'o', label='G351, d=2.2')\n",
    "pl.plot(g333tb['LOS mass Median'], g333tb['Luminosity Median'], 'o', label='G333, d=2.6')\n",
    "pl.plot(g012tb['LOS mass Median'], g012tb['Luminosity Median'], 'o', label='G012, d=3.9')\n",
    "pl.xlabel(\"log LOS mass\")\n",
    "pl.ylabel(\"log Luminosity\")\n",
    "pl.legend(loc='best')"
   ]
  },
  {
   "cell_type": "code",
   "execution_count": 76,
   "id": "d34749b7-33e8-4579-8e15-addb62e01419",
   "metadata": {},
   "outputs": [
    {
     "data": {
      "image/png": "[encoded data removed]",
      "text/plain": [
       "<Figure size 432x288 with 1 Axes>"
      ]
     },
     "metadata": {},
     "output_type": "display_data"
    }
   ],
   "source": [
    "pl.hist([g328tb['Luminosity Median'],\n",
    "g008tb['Luminosity Median'],\n",
    "g351tb['Luminosity Median'],], histtype='barstacked')\n",
    "pl.xlabel(\"Luminosity Median\");"
   ]
  },
  {
   "cell_type": "code",
   "execution_count": 17,
   "id": "0d631649-c3d0-4018-a7d6-6b53375fa15d",
   "metadata": {},
   "outputs": [
    {
     "data": {
      "text/html": [
       "<div><i>Table length=17</i>\n",
       "<table id=\"table47904480622288\" class=\"table-striped table-bordered table-condensed\">\n",
       "<thead><tr><th>ALMA-IMF_1mm_flux</th><th>ALMA-IMF_1mm_eflux</th></tr></thead>\n",
       "<thead><tr><th>Jy / beam</th><th>Jy / beam</th></tr></thead>\n",
       "<thead><tr><th>float64</th><th>float64</th></tr></thead>\n",
       "<tr><td>--</td><td>0.38574923894221214</td></tr>\n",
       "<tr><td>--</td><td>0.38574923894221214</td></tr>\n",
       "<tr><td>--</td><td>0.38574923894221214</td></tr>\n",
       "<tr><td>--</td><td>--</td></tr>\n",
       "<tr><td>--</td><td>--</td></tr>\n",
       "<tr><td>1.3557265677295753</td><td>--</td></tr>\n",
       "<tr><td>--</td><td>0.38574923894221214</td></tr>\n",
       "<tr><td>82.70039656216524</td><td>0.38574923894221214</td></tr>\n",
       "<tr><td>32.41115591207202</td><td>--</td></tr>\n",
       "<tr><td>768.4964225841379</td><td>0.38574923894221214</td></tr>\n",
       "<tr><td>--</td><td>--</td></tr>\n",
       "<tr><td>3.592109612510786</td><td>0.38574923894221214</td></tr>\n",
       "<tr><td>--</td><td>--</td></tr>\n",
       "<tr><td>--</td><td>0.38574923894221214</td></tr>\n",
       "<tr><td>--</td><td>0.38574923894221214</td></tr>\n",
       "<tr><td>--</td><td>0.38574923894221214</td></tr>\n",
       "<tr><td>--</td><td>0.38574923894221214</td></tr>\n",
       "</table></div>"
      ],
      "text/plain": [
       "<Table length=17>\n",
       "ALMA-IMF_1mm_flux   ALMA-IMF_1mm_eflux\n",
       "    Jy / beam           Jy / beam     \n",
       "     float64             float64      \n",
       "------------------ -------------------\n",
       "                -- 0.38574923894221214\n",
       "                -- 0.38574923894221214\n",
       "                -- 0.38574923894221214\n",
       "                --                  --\n",
       "                --                  --\n",
       "1.3557265677295753                  --\n",
       "                -- 0.38574923894221214\n",
       " 82.70039656216524 0.38574923894221214\n",
       " 32.41115591207202                  --\n",
       " 768.4964225841379 0.38574923894221214\n",
       "                --                  --\n",
       " 3.592109612510786 0.38574923894221214\n",
       "                --                  --\n",
       "                -- 0.38574923894221214\n",
       "                -- 0.38574923894221214\n",
       "                -- 0.38574923894221214\n",
       "                -- 0.38574923894221214"
      ]
     },
     "execution_count": 17,
     "metadata": {},
     "output_type": "execute_result"
    }
   ],
   "source": [
    "g328tb['ALMA-IMF_1mm_flux', 'ALMA-IMF_1mm_eflux',]"
   ]
  },
  {
   "cell_type": "code",
   "execution_count": 18,
   "id": "62615bab-f4a6-4769-a135-0936afca627a",
   "metadata": {},
   "outputs": [
    {
     "data": {
      "text/plain": [
       "<matplotlib.legend.Legend at 0x2b91a1a725e0>"
      ]
     },
     "execution_count": 18,
     "metadata": {},
     "output_type": "execute_result"
    },
    {
     "data": {
      "image/png": "[encoded data removed]",
      "text/plain": [
       "<Figure size 432x288 with 1 Axes>"
      ]
     },
     "metadata": {},
     "output_type": "display_data"
    }
   ],
   "source": [
    "Lg328, = pl.plot(g328tb['LOS mass Median'][~g328tb['ALMA-IMF_1mm_flux'].mask], g328tb['Luminosity Median'][~g328tb['ALMA-IMF_1mm_flux'].mask], 'o', label='G328, d=2.5')\n",
    "Lg008, = pl.plot(g008tb['LOS mass Median'][~g008tb['ALMA-IMF_1mm_flux'].mask], g008tb['Luminosity Median'][~g008tb['ALMA-IMF_1mm_flux'].mask], 'o', label='G008, d=4.5')\n",
    "Lg351, = pl.plot(g351tb['LOS mass Median'][~g351tb['ALMA-IMF_1mm_flux'].mask], g351tb['Luminosity Median'][~g351tb['ALMA-IMF_1mm_flux'].mask], 'o', label='G351, d=2.2')\n",
    "pl.plot(g328tb['LOS mass Median'][g328tb['ALMA-IMF_1mm_flux'].mask], g328tb['Luminosity Median'][g328tb['ALMA-IMF_1mm_flux'].mask], 's', markerfacecolor='none', color=Lg328.get_color())\n",
    "pl.plot(g008tb['LOS mass Median'][g008tb['ALMA-IMF_1mm_flux'].mask], g008tb['Luminosity Median'][g008tb['ALMA-IMF_1mm_flux'].mask], 's', markerfacecolor='none', color=Lg008.get_color())\n",
    "pl.plot(g351tb['LOS mass Median'][g351tb['ALMA-IMF_1mm_flux'].mask], g351tb['Luminosity Median'][g351tb['ALMA-IMF_1mm_flux'].mask], 's', markerfacecolor='none', color=Lg351.get_color())\n",
    "\n",
    "pl.xlabel(\"log LOS mass\")\n",
    "pl.ylabel(\"log Luminosity\")\n",
    "pl.legend(loc='best')"
   ]
  },
  {
   "cell_type": "code",
   "execution_count": 19,
   "id": "f76c1894-9114-4421-998d-7fddc90e3e3a",
   "metadata": {},
   "outputs": [
    {
     "data": {
      "text/html": [
       "<div><i>Table length=17</i>\n",
       "<table id=\"table47904330263568\" class=\"table-striped table-bordered table-condensed\">\n",
       "<thead><tr><th>Luminosity Median</th><th>LOS mass Median</th></tr></thead>\n",
       "<thead><tr><th>float64</th><th>float64</th></tr></thead>\n",
       "<tr><td>1.687230420005407</td><td>0.012554904129778027</td></tr>\n",
       "<tr><td>1.5183951298045943</td><td>--</td></tr>\n",
       "<tr><td>1.0108152154722867</td><td>-0.4470735216522169</td></tr>\n",
       "<tr><td>2.184433739182887</td><td>0.5040565852889713</td></tr>\n",
       "<tr><td>1.678222681227759</td><td>0.8954165552891606</td></tr>\n",
       "<tr><td>1.0477507575912837</td><td>0.5691429405806151</td></tr>\n",
       "<tr><td>1.5173303957001467</td><td>-0.8447692605191803</td></tr>\n",
       "<tr><td>3.9939283913935153</td><td>1.1016593628664675</td></tr>\n",
       "<tr><td>4.325800410500175</td><td>1.2434300964079688</td></tr>\n",
       "<tr><td>5.272359894911699</td><td>1.085500829843883</td></tr>\n",
       "<tr><td>1.233065309650668</td><td>0.03136039444599552</td></tr>\n",
       "<tr><td>2.737585535092038</td><td>0.9679683534307642</td></tr>\n",
       "<tr><td>0.7368272531180856</td><td>0.13558589295721682</td></tr>\n",
       "<tr><td>0.7538815649625611</td><td>-0.7883100928936266</td></tr>\n",
       "<tr><td>2.0658102912787557</td><td>0.4679122118888171</td></tr>\n",
       "<tr><td>1.6599779441055624</td><td>0.0793136602339929</td></tr>\n",
       "<tr><td>1.8297678826359258</td><td>0.11702757998543278</td></tr>\n",
       "</table></div>"
      ],
      "text/plain": [
       "<Table length=17>\n",
       "Luminosity Median    LOS mass Median   \n",
       "     float64             float64       \n",
       "------------------ --------------------\n",
       " 1.687230420005407 0.012554904129778027\n",
       "1.5183951298045943                   --\n",
       "1.0108152154722867  -0.4470735216522169\n",
       " 2.184433739182887   0.5040565852889713\n",
       " 1.678222681227759   0.8954165552891606\n",
       "1.0477507575912837   0.5691429405806151\n",
       "1.5173303957001467  -0.8447692605191803\n",
       "3.9939283913935153   1.1016593628664675\n",
       " 4.325800410500175   1.2434300964079688\n",
       " 5.272359894911699    1.085500829843883\n",
       " 1.233065309650668  0.03136039444599552\n",
       " 2.737585535092038   0.9679683534307642\n",
       "0.7368272531180856  0.13558589295721682\n",
       "0.7538815649625611  -0.7883100928936266\n",
       "2.0658102912787557   0.4679122118888171\n",
       "1.6599779441055624   0.0793136602339929\n",
       "1.8297678826359258  0.11702757998543278"
      ]
     },
     "execution_count": 19,
     "metadata": {},
     "output_type": "execute_result"
    }
   ],
   "source": [
    "g328tb['Luminosity Median', 'LOS mass Median']"
   ]
  },
  {
   "cell_type": "code",
   "execution_count": 20,
   "id": "3ad5999c-7747-49e6-936d-701780c71558",
   "metadata": {},
   "outputs": [
    {
     "data": {
      "text/html": [
       "<div><i>Table length=13</i>\n",
       "<table id=\"table47904103561968\" class=\"table-striped table-bordered table-condensed\">\n",
       "<thead><tr><th>Luminosity Median</th><th>LOS mass Median</th></tr></thead>\n",
       "<thead><tr><th>float64</th><th>float64</th></tr></thead>\n",
       "<tr><td>2.4355659269151393</td><td>-1.0843212908102347</td></tr>\n",
       "<tr><td>2.585646937969941</td><td>-0.28943289716324627</td></tr>\n",
       "<tr><td>1.6736763437687703</td><td>-0.2774978452722406</td></tr>\n",
       "<tr><td>2.5703837214870386</td><td>0.12525864858286667</td></tr>\n",
       "<tr><td>2.3120088982061273</td><td>-1.1528129155157605</td></tr>\n",
       "<tr><td>3.481778050866666</td><td>-0.44445408096464634</td></tr>\n",
       "<tr><td>5.220798308456374</td><td>-0.3343741460964237</td></tr>\n",
       "<tr><td>2.2191380561604026</td><td>-1.3715946891945787</td></tr>\n",
       "<tr><td>2.179230241466306</td><td>0.6620143494668901</td></tr>\n",
       "<tr><td>1.7119685091509802</td><td>-1.1348180005856754</td></tr>\n",
       "<tr><td>2.2235830225525466</td><td>-1.070753409691567</td></tr>\n",
       "<tr><td>2.6665444307179227</td><td>-0.501256436591891</td></tr>\n",
       "<tr><td>2.882422926728311</td><td>-1.63753910571809</td></tr>\n",
       "</table></div>"
      ],
      "text/plain": [
       "<Table length=13>\n",
       "Luminosity Median    LOS mass Median   \n",
       "     float64             float64       \n",
       "------------------ --------------------\n",
       "2.4355659269151393  -1.0843212908102347\n",
       " 2.585646937969941 -0.28943289716324627\n",
       "1.6736763437687703  -0.2774978452722406\n",
       "2.5703837214870386  0.12525864858286667\n",
       "2.3120088982061273  -1.1528129155157605\n",
       " 3.481778050866666 -0.44445408096464634\n",
       " 5.220798308456374  -0.3343741460964237\n",
       "2.2191380561604026  -1.3715946891945787\n",
       " 2.179230241466306   0.6620143494668901\n",
       "1.7119685091509802  -1.1348180005856754\n",
       "2.2235830225525466   -1.070753409691567\n",
       "2.6665444307179227   -0.501256436591891\n",
       " 2.882422926728311    -1.63753910571809"
      ]
     },
     "execution_count": 20,
     "metadata": {},
     "output_type": "execute_result"
    }
   ],
   "source": [
    "g008tb['Luminosity Median', 'LOS mass Median']"
   ]
  },
  {
   "cell_type": "code",
   "execution_count": 21,
   "id": "46b35515-220e-439b-aa4f-88569e62fb78",
   "metadata": {},
   "outputs": [
    {
     "data": {
      "text/html": [
       "<div><i>Table length=23</i>\n",
       "<table id=\"table47904105117728\" class=\"table-striped table-bordered table-condensed\">\n",
       "<thead><tr><th>Luminosity Median</th><th>LOS mass Median</th></tr></thead>\n",
       "<thead><tr><th>float64</th><th>float64</th></tr></thead>\n",
       "<tr><td>1.298272320191103</td><td>-2.3592501928172624</td></tr>\n",
       "<tr><td>1.012821606474041</td><td>-2.548925863293799</td></tr>\n",
       "<tr><td>2.1283587713539274</td><td>-1.1997677949917245</td></tr>\n",
       "<tr><td>0.8791695691860197</td><td>-0.8661719374552129</td></tr>\n",
       "<tr><td>0.4572777556350963</td><td>-1.334308559869538</td></tr>\n",
       "<tr><td>0.9320426957915608</td><td>-1.9072313728279857</td></tr>\n",
       "<tr><td>0.8183163022803694</td><td>-2.701016269484034</td></tr>\n",
       "<tr><td>0.7996119018530254</td><td>-1.1178437452159673</td></tr>\n",
       "<tr><td>0.7274670512569907</td><td>-1.2318033800124315</td></tr>\n",
       "<tr><td>0.6586711712380241</td><td>0.6367232710414055</td></tr>\n",
       "<tr><td>...</td><td>...</td></tr>\n",
       "<tr><td>0.6957438372252484</td><td>-1.7817976635222745</td></tr>\n",
       "<tr><td>0.6415934273295649</td><td>-1.2168752050535838</td></tr>\n",
       "<tr><td>2.330627365889592</td><td>0.30320862628331885</td></tr>\n",
       "<tr><td>1.2062805446172824</td><td>-1.5151448831788337</td></tr>\n",
       "<tr><td>3.1807856755389126</td><td>-0.02574423415795402</td></tr>\n",
       "<tr><td>0.8828190603720771</td><td>--</td></tr>\n",
       "<tr><td>0.5466510992599652</td><td>-1.8898426947047748</td></tr>\n",
       "<tr><td>1.3519290497939696</td><td>-1.5513072914765984</td></tr>\n",
       "<tr><td>0.9896710371368052</td><td>-0.1676727968637504</td></tr>\n",
       "<tr><td>0.9425147318712149</td><td>-3.748699453665374</td></tr>\n",
       "</table></div>"
      ],
      "text/plain": [
       "<Table length=23>\n",
       "Luminosity Median    LOS mass Median   \n",
       "     float64             float64       \n",
       "------------------ --------------------\n",
       " 1.298272320191103  -2.3592501928172624\n",
       " 1.012821606474041   -2.548925863293799\n",
       "2.1283587713539274  -1.1997677949917245\n",
       "0.8791695691860197  -0.8661719374552129\n",
       "0.4572777556350963   -1.334308559869538\n",
       "0.9320426957915608  -1.9072313728279857\n",
       "0.8183163022803694   -2.701016269484034\n",
       "0.7996119018530254  -1.1178437452159673\n",
       "0.7274670512569907  -1.2318033800124315\n",
       "0.6586711712380241   0.6367232710414055\n",
       "               ...                  ...\n",
       "0.6957438372252484  -1.7817976635222745\n",
       "0.6415934273295649  -1.2168752050535838\n",
       " 2.330627365889592  0.30320862628331885\n",
       "1.2062805446172824  -1.5151448831788337\n",
       "3.1807856755389126 -0.02574423415795402\n",
       "0.8828190603720771                   --\n",
       "0.5466510992599652  -1.8898426947047748\n",
       "1.3519290497939696  -1.5513072914765984\n",
       "0.9896710371368052  -0.1676727968637504\n",
       "0.9425147318712149   -3.748699453665374"
      ]
     },
     "execution_count": 21,
     "metadata": {},
     "output_type": "execute_result"
    }
   ],
   "source": [
    "g351tb['Luminosity Median', 'LOS mass Median'][~g351tb['Luminosity Median'].mask]"
   ]
  },
  {
   "cell_type": "code",
   "execution_count": 22,
   "id": "d8bd7bc1-3ae9-49ea-aa7b-c6b753f3223b",
   "metadata": {},
   "outputs": [
    {
     "name": "stderr",
     "output_type": "stream",
     "text": [
      "/orange/adamginsburg/miniconda3/envs/python38/lib/python3.8/site-packages/numpy/core/_asarray.py:171: UserWarning: Warning: converting a masked element to nan.\n",
      "  return array(a, dtype, copy=False, order=order, subok=True)\n"
     ]
    },
    {
     "data": {
      "text/plain": [
       "<matplotlib.legend.Legend at 0x2b918b137a30>"
      ]
     },
     "execution_count": 22,
     "metadata": {},
     "output_type": "execute_result"
    },
    {
     "data": {
      "image/png": "[encoded data removed]",
      "text/plain": [
       "<Figure size 864x864 with 1 Axes>"
      ]
     },
     "metadata": {},
     "output_type": "display_data"
    }
   ],
   "source": [
    "pl.figure(figsize=(12,12))\n",
    "pl.errorbar(g328tb['LOS mass Median'], g328tb['Luminosity Median'], xerr=g328tb['LOS mass MAD'], yerr=g328tb['Luminosity MAD'], marker='o', linestyle='none', label='G328')\n",
    "pl.errorbar(g008tb['LOS mass Median'], g008tb['Luminosity Median'], xerr=g008tb['LOS mass MAD'], yerr=g008tb['Luminosity MAD'], marker='o', linestyle='none', label='G008')\n",
    "pl.errorbar(g351tb['LOS mass Median'], g351tb['Luminosity Median'], xerr=g351tb['LOS mass MAD'], yerr=g351tb['Luminosity MAD'], marker='o', linestyle='none', label='G351')\n",
    "\n",
    "pl.xlabel(\"log LOS mass\")\n",
    "pl.ylabel(\"log Luminosity\")\n",
    "pl.legend(loc='best')"
   ]
  },
  {
   "cell_type": "code",
   "execution_count": null,
   "id": "3bc8edaa-b70d-4844-b1c2-20de8fa15f49",
   "metadata": {},
   "outputs": [],
   "source": []
  }
 ],
 "metadata": {
  "kernelspec": {
   "display_name": "Python 3",
   "language": "python",
   "name": "python3"
  },
  "language_info": {
   "codemirror_mode": {
    "name": "ipython",
    "version": 3
   },
   "file_extension": ".py",
   "mimetype": "text/x-python",
   "name": "python",
   "nbconvert_exporter": "python",
   "pygments_lexer": "ipython3",
   "version": "3.8.8"
  }
 },
 "nbformat": 4,
 "nbformat_minor": 5
}
