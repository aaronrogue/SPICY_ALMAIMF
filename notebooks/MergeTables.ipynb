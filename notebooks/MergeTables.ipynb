{
 "cells": [
  {
   "cell_type": "code",
   "execution_count": 1,
   "id": "b110991e-d87c-4042-954f-d13ee30bf044",
   "metadata": {},
   "outputs": [
    {
     "name": "stdout",
     "output_type": "stream",
     "text": [
      "-rw-r--r-- 1 spetz adamginsburg 197K Apr 18 19:09 /home/spetz/SPICY sources/G12/SPICYTableG12.fits\n",
      "-rw-r--r-- 1 spetz adamginsburg 197K Apr 18 18:51 /home/spetz/SPICY sources/G333/SPICYTableG333.fits\n",
      "-rw-r--r-- 1 spetz adamginsburg 197K Apr 18 18:32 /home/spetz/SPICY sources/G351/SPICYTableG351.fits\n"
     ]
    }
   ],
   "source": [
    "ls -lh /home/spetz/SPICY\\ sources/G*/*fits"
   ]
  },
  {
   "cell_type": "code",
   "execution_count": 2,
   "id": "03adcd43-4afe-4241-b901-09c3a983c9f5",
   "metadata": {},
   "outputs": [],
   "source": [
    "cp /home/spetz/SPICY\\ sources/G351/SPICYTableG351.fits /blue/adamginsburg/adamginsburg/ALMA_IMF/SPICY_ALMAIMF/tables/tbl_G351.fits"
   ]
  },
  {
   "cell_type": "code",
   "execution_count": 3,
   "id": "ff610684-ae04-4f9f-8a1a-cb0bf2a864c9",
   "metadata": {},
   "outputs": [],
   "source": [
    "cp /home/spetz/SPICY\\ sources/G333/SPICYTableG333.fits /blue/adamginsburg/adamginsburg/ALMA_IMF/SPICY_ALMAIMF/tables/tbl_G333.fits"
   ]
  },
  {
   "cell_type": "code",
   "execution_count": 4,
   "id": "ebdec032-0755-4453-bf57-bd802112c4b1",
   "metadata": {},
   "outputs": [],
   "source": [
    "cp /home/spetz/SPICY\\ sources/G12/SPICYTableG12.fits /blue/adamginsburg/adamginsburg/ALMA_IMF/SPICY_ALMAIMF/tables/tbl_G012.fits"
   ]
  },
  {
   "cell_type": "code",
   "execution_count": 5,
   "id": "162c82d2-e134-45ea-8ca8-d329f7cc54d8",
   "metadata": {},
   "outputs": [],
   "source": [
    "cp /blue/adamginsburg/morganhimes/SourceTableBuilding/Notebooks/SPICYTable_G008.fits  /blue/adamginsburg/adamginsburg/ALMA_IMF/SPICY_ALMAIMF/tables/tbl_G008.fits"
   ]
  },
  {
   "cell_type": "code",
   "execution_count": 6,
   "id": "33056213-5977-48b6-97f9-f91857e5985d",
   "metadata": {},
   "outputs": [
    {
     "name": "stdout",
     "output_type": "stream",
     "text": [
      "-rw-rwxr--+ 1 morganhimes adamginsburg 79K Apr 19 16:09 \u001b[0m\u001b[01;32m/blue/adamginsburg/adamginsburg/ALMA_IMF/SPICY_ALMAIMF/tables/tbl_G008.fits\u001b[0m\u001b[K*\n"
     ]
    }
   ],
   "source": [
    "ls -lh /blue/adamginsburg/adamginsburg/ALMA_IMF/SPICY_ALMAIMF/tables/tbl_G008.fits"
   ]
  },
  {
   "cell_type": "code",
   "execution_count": 7,
   "id": "bd73d136-9c19-4387-86bc-4f1754faffd5",
   "metadata": {},
   "outputs": [],
   "source": [
    "#setfacl -m group:adamginsburg:rw /blue/adamginsburg/adamginsburg/ALMA_IMF/SPICY_ALMAIMF/tables/tbl_G008.fits"
   ]
  },
  {
   "cell_type": "code",
   "execution_count": 8,
   "id": "454b897f-9659-40ff-86c1-ad6810e3a66d",
   "metadata": {},
   "outputs": [
    {
     "name": "stdout",
     "output_type": "stream",
     "text": [
      "total 432K\n",
      "-rw-rwxr--+ 1 morganhimes  adamginsburg  79K Apr 19 16:09 \u001b[0m\u001b[01;32mtbl_G008.fits\u001b[0m*\n",
      "-rw-rwxr--+ 1 adamginsburg adamginsburg 197K Apr 19 16:09 \u001b[01;32mtbl_G012.fits\u001b[0m*\n",
      "-rw-rw-r--+ 1 btingle      adamginsburg  85K Apr 12 16:14 tbl_G328\n",
      "-rw-rw-r--+ 1 btingle      adamginsburg  85K Mar 22 16:38 tbl_G328.fits\n",
      "-rw-rwxr--+ 1 adamginsburg adamginsburg 197K Apr 19 16:09 \u001b[01;32mtbl_G333.fits\u001b[0m*\n",
      "-rw-rw-r--+ 1 adamginsburg adamginsburg 197K Apr 19 16:09 tbl_G351.fits\n"
     ]
    }
   ],
   "source": [
    "ls -lh /blue/adamginsburg/adamginsburg/ALMA_IMF/SPICY_ALMAIMF/tables"
   ]
  },
  {
   "cell_type": "markdown",
   "id": "50a93016-f3e1-4f5c-847c-cc636f50667d",
   "metadata": {},
   "source": [
    "%%bash\n",
    "setfacl -R -m d:u:morganhimes:rwX /blue/adamginsburg/adamginsburg/SPICY_ALMAIMF/tables\n",
    "setfacl -R -m u:morganhimes:rwX /blue/adamginsburg/adamginsburg/SPICY_ALMAIMF/tables\n",
    "setfacl -R -m u:btingle:rwX /blue/adamginsburg/adamginsburg/SPICY_ALMAIMF/tables\n",
    "setfacl -R -m d:u:btingle:rwX /blue/adamginsburg/adamginsburg/SPICY_ALMAIMF/tables\n",
    "setfacl -R -m u:spetz:rwX /blue/adamginsburg/adamginsburg/SPICY_ALMAIMF/tables\n",
    "setfacl -R -m d:u:spetz:rwX /blue/adamginsburg/adamginsburg/SPICY_ALMAIMF/tables"
   ]
  },
  {
   "cell_type": "code",
   "execution_count": 9,
   "id": "3f8639f8-0c63-428a-9967-6878c922663a",
   "metadata": {},
   "outputs": [],
   "source": [
    "g328fn = '/blue/adamginsburg/adamginsburg/ALMA_IMF/SPICY_ALMAIMF/tables/tbl_G328.fits'\n",
    "g008fn = '/blue/adamginsburg/adamginsburg/ALMA_IMF/SPICY_ALMAIMF/tables/tbl_G008.fits'\n",
    "g351fn = '/blue/adamginsburg/adamginsburg/ALMA_IMF/SPICY_ALMAIMF/tables/tbl_G351.fits'\n",
    "g012fn = '/blue/adamginsburg/adamginsburg/ALMA_IMF/SPICY_ALMAIMF/tables/tbl_G012.fits'\n",
    "g333fn = '/blue/adamginsburg/adamginsburg/ALMA_IMF/SPICY_ALMAIMF/tables/tbl_G333.fits'"
   ]
  },
  {
   "cell_type": "code",
   "execution_count": 10,
   "id": "fccc6b6e-ad70-4620-a08f-23813467345b",
   "metadata": {},
   "outputs": [
    {
     "name": "stdout",
     "output_type": "stream",
     "text": [
      "-rw-rw-r--+ 1 btingle adamginsburg 85K Mar 22 16:38 /blue/adamginsburg/adamginsburg/ALMA_IMF/SPICY_ALMAIMF/tables/tbl_G328.fits\n"
     ]
    }
   ],
   "source": [
    "ls -lhrt $g328fn"
   ]
  },
  {
   "cell_type": "code",
   "execution_count": 11,
   "id": "773846ad-81cd-4b7b-bedc-1384f492da82",
   "metadata": {},
   "outputs": [
    {
     "name": "stdout",
     "output_type": "stream",
     "text": [
      "-rw-rwxr--+ 1 morganhimes adamginsburg 79K Apr 19 16:09 \u001b[0m\u001b[01;32m/blue/adamginsburg/adamginsburg/ALMA_IMF/SPICY_ALMAIMF/tables/tbl_G008.fits\u001b[0m\u001b[K*\n"
     ]
    }
   ],
   "source": [
    "ls -lhrt $g008fn"
   ]
  },
  {
   "cell_type": "code",
   "execution_count": 12,
   "id": "dcf17174-bab3-46c1-82c3-39186efd099b",
   "metadata": {},
   "outputs": [
    {
     "name": "stdout",
     "output_type": "stream",
     "text": [
      "-rw-rw-r--+ 1 adamginsburg adamginsburg 197K Apr 19 16:09 /blue/adamginsburg/adamginsburg/ALMA_IMF/SPICY_ALMAIMF/tables/tbl_G351.fits\n"
     ]
    }
   ],
   "source": [
    "ls -lh $g351fn"
   ]
  },
  {
   "cell_type": "code",
   "execution_count": 13,
   "id": "9f640624-4f38-44b6-bc9b-4a16666ab501",
   "metadata": {},
   "outputs": [],
   "source": [
    "from astropy.table import Table, vstack"
   ]
  },
  {
   "cell_type": "code",
   "execution_count": 14,
   "id": "f4116444-042f-4970-9d71-c8785189b878",
   "metadata": {},
   "outputs": [
    {
     "data": {
      "text/plain": [
       "13"
      ]
     },
     "execution_count": 14,
     "metadata": {},
     "output_type": "execute_result"
    }
   ],
   "source": [
    "g008tb = Table.read(g008fn)\n",
    "len(g008tb)"
   ]
  },
  {
   "cell_type": "code",
   "execution_count": 15,
   "id": "99a08d84-0874-48e5-b4f7-87e357118b28",
   "metadata": {},
   "outputs": [
    {
     "data": {
      "text/html": [
       "<div><i>Table length=13</i>\n",
       "<table id=\"table47573092190384\" class=\"table-striped table-bordered table-condensed\">\n",
       "<thead><tr><th>Luminosity Median</th><th>LOS mass Median</th></tr></thead>\n",
       "<thead><tr><th>float64</th><th>float64</th></tr></thead>\n",
       "<tr><td>2.4355659269151393</td><td>-1.0843212908102347</td></tr>\n",
       "<tr><td>2.585646937969941</td><td>-0.28943289716324627</td></tr>\n",
       "<tr><td>1.6736763437687703</td><td>-0.2774978452722406</td></tr>\n",
       "<tr><td>2.5703837214870386</td><td>0.12525864858286667</td></tr>\n",
       "<tr><td>2.3120088982061273</td><td>-1.1528129155157605</td></tr>\n",
       "<tr><td>3.481778050866666</td><td>-0.44445408096464634</td></tr>\n",
       "<tr><td>5.220798308456374</td><td>-0.3343741460964237</td></tr>\n",
       "<tr><td>2.2191380561604026</td><td>-1.3715946891945787</td></tr>\n",
       "<tr><td>2.179230241466306</td><td>0.6620143494668901</td></tr>\n",
       "<tr><td>1.7119685091509802</td><td>-1.1348180005856754</td></tr>\n",
       "<tr><td>2.2235830225525466</td><td>-1.070753409691567</td></tr>\n",
       "<tr><td>2.6665444307179227</td><td>-0.501256436591891</td></tr>\n",
       "<tr><td>2.882422926728311</td><td>-1.63753910571809</td></tr>\n",
       "</table></div>"
      ],
      "text/plain": [
       "<Table length=13>\n",
       "Luminosity Median    LOS mass Median   \n",
       "     float64             float64       \n",
       "------------------ --------------------\n",
       "2.4355659269151393  -1.0843212908102347\n",
       " 2.585646937969941 -0.28943289716324627\n",
       "1.6736763437687703  -0.2774978452722406\n",
       "2.5703837214870386  0.12525864858286667\n",
       "2.3120088982061273  -1.1528129155157605\n",
       " 3.481778050866666 -0.44445408096464634\n",
       " 5.220798308456374  -0.3343741460964237\n",
       "2.2191380561604026  -1.3715946891945787\n",
       " 2.179230241466306   0.6620143494668901\n",
       "1.7119685091509802  -1.1348180005856754\n",
       "2.2235830225525466   -1.070753409691567\n",
       "2.6665444307179227   -0.501256436591891\n",
       " 2.882422926728311    -1.63753910571809"
      ]
     },
     "execution_count": 15,
     "metadata": {},
     "output_type": "execute_result"
    }
   ],
   "source": [
    "g008tb['Luminosity Median', 'LOS mass Median']"
   ]
  },
  {
   "cell_type": "code",
   "execution_count": 16,
   "id": "42e11acc-c062-40b9-88cc-b4c725d330cc",
   "metadata": {},
   "outputs": [
    {
     "data": {
      "text/plain": [
       "17"
      ]
     },
     "execution_count": 16,
     "metadata": {},
     "output_type": "execute_result"
    }
   ],
   "source": [
    "g328tb = Table.read(g328fn)\n",
    "len(g328tb)"
   ]
  },
  {
   "cell_type": "code",
   "execution_count": 17,
   "id": "abc48e00-5efe-490f-b905-8b2307667fa9",
   "metadata": {},
   "outputs": [
    {
     "data": {
      "text/plain": [
       "118"
      ]
     },
     "execution_count": 17,
     "metadata": {},
     "output_type": "execute_result"
    }
   ],
   "source": [
    "g351tb = Table.read(g351fn)\n",
    "len(g351tb)"
   ]
  },
  {
   "cell_type": "code",
   "execution_count": 18,
   "id": "6324ca2a-e39e-43b0-95bd-20155d57307f",
   "metadata": {},
   "outputs": [
    {
     "data": {
      "text/plain": [
       "118"
      ]
     },
     "execution_count": 18,
     "metadata": {},
     "output_type": "execute_result"
    }
   ],
   "source": [
    "g333tb = Table.read(g333fn)\n",
    "len(g333tb)"
   ]
  },
  {
   "cell_type": "code",
   "execution_count": 19,
   "id": "5a4ee3df-f8c4-456e-89ca-e069d4077750",
   "metadata": {},
   "outputs": [
    {
     "data": {
      "text/plain": [
       "118"
      ]
     },
     "execution_count": 19,
     "metadata": {},
     "output_type": "execute_result"
    }
   ],
   "source": [
    "g012tb = Table.read(g012fn)\n",
    "len(g012tb)"
   ]
  },
  {
   "cell_type": "code",
   "execution_count": 20,
   "id": "0bd84753-f06e-482a-a2f9-8403c0e78442",
   "metadata": {},
   "outputs": [
    {
     "name": "stderr",
     "output_type": "stream",
     "text": [
      "WARNING: MergeConflictWarning: Cannot merge meta key 'null' types <class 'float'> and <class 'float'>, choosing null=nan [astropy.utils.metadata]\n",
      "WARNING: MergeConflictWarning: In merged column 'ALMA-IMF_3mm_flux' the 'unit' attribute does not match (Jy / beam != mJy / beam).  Using mJy / beam for merged output [astropy.utils.metadata]\n",
      "WARNING: MergeConflictWarning: In merged column 'ALMA-IMF_3mm_eflux' the 'unit' attribute does not match (Jy / beam != mJy / beam).  Using mJy / beam for merged output [astropy.utils.metadata]\n",
      "WARNING: MergeConflictWarning: In merged column 'ALMA-IMF_1mm_flux' the 'unit' attribute does not match (Jy / beam != mJy / beam).  Using mJy / beam for merged output [astropy.utils.metadata]\n",
      "WARNING: MergeConflictWarning: In merged column 'ALMA-IMF_1mm_eflux' the 'unit' attribute does not match (Jy / beam != mJy / beam).  Using mJy / beam for merged output [astropy.utils.metadata]\n"
     ]
    }
   ],
   "source": [
    "tb = vstack([g008tb, g328tb, g351tb, g333tb, g012tb])"
   ]
  },
  {
   "cell_type": "code",
   "execution_count": 21,
   "id": "01a4015f-dfac-413c-a926-eda781b4919d",
   "metadata": {},
   "outputs": [],
   "source": [
    "%matplotlib inline\n",
    "import pylab as pl\n",
    "pl.rcParams['figure.facecolor']='w'"
   ]
  },
  {
   "cell_type": "code",
   "execution_count": 31,
   "id": "5eec8a64-947a-42db-aaa4-4603ae2bb470",
   "metadata": {},
   "outputs": [
    {
     "data": {
      "text/plain": [
       "<matplotlib.legend.Legend at 0x2b4482ca3f40>"
      ]
     },
     "execution_count": 31,
     "metadata": {},
     "output_type": "execute_result"
    },
    {
     "data": {
      "image/png": "[encoded data removed]",
      "text/plain": [
       "<Figure size 432x288 with 1 Axes>"
      ]
     },
     "metadata": {},
     "output_type": "display_data"
    }
   ],
   "source": [
    "pl.plot(g328tb['LOS mass Median'], g328tb['Luminosity Median'], 'o', label='G328, d=2.5')\n",
    "pl.plot(g008tb['LOS mass Median'], g008tb['Luminosity Median'], 'o', label='G008, d=4.5')\n",
    "pl.plot(g351tb['LOS mass Median'], g351tb['Luminosity Median'], 'o', label='G351, d=2.2')\n",
    "pl.plot(g333tb['LOS mass Median'], g333tb['Luminosity Median'], 'o', label='G333, d=2.6')\n",
    "pl.plot(g012tb['LOS mass Median'], g012tb['Luminosity Median'], 'o', label='G012, d=3.9')\n",
    "pl.xlabel(\"log LOS mass\")\n",
    "pl.ylabel(\"log Luminosity\")\n",
    "pl.legend(loc='upper left')"
   ]
  },
  {
   "cell_type": "code",
   "execution_count": 23,
   "id": "d34749b7-33e8-4579-8e15-addb62e01419",
   "metadata": {},
   "outputs": [
    {
     "data": {
      "image/png": "[encoded data removed]",
      "text/plain": [
       "<Figure size 432x288 with 1 Axes>"
      ]
     },
     "metadata": {},
     "output_type": "display_data"
    }
   ],
   "source": [
    "pl.hist([g328tb['Luminosity Median'],\n",
    "g008tb['Luminosity Median'],\n",
    "g351tb['Luminosity Median'],], histtype='barstacked')\n",
    "pl.xlabel(\"Luminosity Median\");"
   ]
  },
  {
   "cell_type": "code",
   "execution_count": 24,
   "id": "0d631649-c3d0-4018-a7d6-6b53375fa15d",
   "metadata": {},
   "outputs": [
    {
     "data": {
      "text/html": [
       "<div><i>Table length=17</i>\n",
       "<table id=\"table47573249833424\" class=\"table-striped table-bordered table-condensed\">\n",
       "<thead><tr><th>ALMA-IMF_1mm_flux</th><th>ALMA-IMF_1mm_eflux</th></tr></thead>\n",
       "<thead><tr><th>Jy / beam</th><th>Jy / beam</th></tr></thead>\n",
       "<thead><tr><th>float64</th><th>float64</th></tr></thead>\n",
       "<tr><td>--</td><td>0.38574923894221214</td></tr>\n",
       "<tr><td>--</td><td>0.38574923894221214</td></tr>\n",
       "<tr><td>--</td><td>0.38574923894221214</td></tr>\n",
       "<tr><td>--</td><td>--</td></tr>\n",
       "<tr><td>--</td><td>--</td></tr>\n",
       "<tr><td>1.3557265677295753</td><td>--</td></tr>\n",
       "<tr><td>--</td><td>0.38574923894221214</td></tr>\n",
       "<tr><td>82.70039656216524</td><td>0.38574923894221214</td></tr>\n",
       "<tr><td>32.41115591207202</td><td>--</td></tr>\n",
       "<tr><td>768.4964225841379</td><td>0.38574923894221214</td></tr>\n",
       "<tr><td>--</td><td>--</td></tr>\n",
       "<tr><td>3.592109612510786</td><td>0.38574923894221214</td></tr>\n",
       "<tr><td>--</td><td>--</td></tr>\n",
       "<tr><td>--</td><td>0.38574923894221214</td></tr>\n",
       "<tr><td>--</td><td>0.38574923894221214</td></tr>\n",
       "<tr><td>--</td><td>0.38574923894221214</td></tr>\n",
       "<tr><td>--</td><td>0.38574923894221214</td></tr>\n",
       "</table></div>"
      ],
      "text/plain": [
       "<Table length=17>\n",
       "ALMA-IMF_1mm_flux   ALMA-IMF_1mm_eflux\n",
       "    Jy / beam           Jy / beam     \n",
       "     float64             float64      \n",
       "------------------ -------------------\n",
       "                -- 0.38574923894221214\n",
       "                -- 0.38574923894221214\n",
       "                -- 0.38574923894221214\n",
       "                --                  --\n",
       "                --                  --\n",
       "1.3557265677295753                  --\n",
       "                -- 0.38574923894221214\n",
       " 82.70039656216524 0.38574923894221214\n",
       " 32.41115591207202                  --\n",
       " 768.4964225841379 0.38574923894221214\n",
       "                --                  --\n",
       " 3.592109612510786 0.38574923894221214\n",
       "                --                  --\n",
       "                -- 0.38574923894221214\n",
       "                -- 0.38574923894221214\n",
       "                -- 0.38574923894221214\n",
       "                -- 0.38574923894221214"
      ]
     },
     "execution_count": 24,
     "metadata": {},
     "output_type": "execute_result"
    }
   ],
   "source": [
    "g328tb['ALMA-IMF_1mm_flux', 'ALMA-IMF_1mm_eflux',]"
   ]
  },
  {
   "cell_type": "code",
   "execution_count": 25,
   "id": "62615bab-f4a6-4769-a135-0936afca627a",
   "metadata": {},
   "outputs": [
    {
     "data": {
      "text/plain": [
       "<matplotlib.legend.Legend at 0x2b4482b7ec40>"
      ]
     },
     "execution_count": 25,
     "metadata": {},
     "output_type": "execute_result"
    },
    {
     "data": {
      "image/png": "[encoded data removed]",
      "text/plain": [
       "<Figure size 432x288 with 1 Axes>"
      ]
     },
     "metadata": {},
     "output_type": "display_data"
    }
   ],
   "source": [
    "Lg328, = pl.plot(g328tb['LOS mass Median'][~g328tb['ALMA-IMF_1mm_flux'].mask], g328tb['Luminosity Median'][~g328tb['ALMA-IMF_1mm_flux'].mask], 'o', label='G328, d=2.5')\n",
    "Lg008, = pl.plot(g008tb['LOS mass Median'][~g008tb['ALMA-IMF_1mm_flux'].mask], g008tb['Luminosity Median'][~g008tb['ALMA-IMF_1mm_flux'].mask], 'o', label='G008, d=4.5')\n",
    "Lg351, = pl.plot(g351tb['LOS mass Median'][~g351tb['ALMA-IMF_1mm_flux'].mask], g351tb['Luminosity Median'][~g351tb['ALMA-IMF_1mm_flux'].mask], 'o', label='G351, d=2.2')\n",
    "pl.plot(g328tb['LOS mass Median'][g328tb['ALMA-IMF_1mm_flux'].mask], g328tb['Luminosity Median'][g328tb['ALMA-IMF_1mm_flux'].mask], 's', markerfacecolor='none', color=Lg328.get_color())\n",
    "pl.plot(g008tb['LOS mass Median'][g008tb['ALMA-IMF_1mm_flux'].mask], g008tb['Luminosity Median'][g008tb['ALMA-IMF_1mm_flux'].mask], 's', markerfacecolor='none', color=Lg008.get_color())\n",
    "pl.plot(g351tb['LOS mass Median'][g351tb['ALMA-IMF_1mm_flux'].mask], g351tb['Luminosity Median'][g351tb['ALMA-IMF_1mm_flux'].mask], 's', markerfacecolor='none', color=Lg351.get_color())\n",
    "\n",
    "pl.xlabel(\"log LOS mass\")\n",
    "pl.ylabel(\"log Luminosity\")\n",
    "pl.legend(loc='best')"
   ]
  },
  {
   "cell_type": "code",
   "execution_count": 26,
   "id": "f76c1894-9114-4421-998d-7fddc90e3e3a",
   "metadata": {},
   "outputs": [
    {
     "data": {
      "text/html": [
       "<div><i>Table length=17</i>\n",
       "<table id=\"table47573250126128\" class=\"table-striped table-bordered table-condensed\">\n",
       "<thead><tr><th>Luminosity Median</th><th>LOS mass Median</th></tr></thead>\n",
       "<thead><tr><th>float64</th><th>float64</th></tr></thead>\n",
       "<tr><td>1.687230420005407</td><td>0.012554904129778027</td></tr>\n",
       "<tr><td>1.5183951298045943</td><td>--</td></tr>\n",
       "<tr><td>1.0108152154722867</td><td>-0.4470735216522169</td></tr>\n",
       "<tr><td>2.184433739182887</td><td>0.5040565852889713</td></tr>\n",
       "<tr><td>1.678222681227759</td><td>0.8954165552891606</td></tr>\n",
       "<tr><td>1.0477507575912837</td><td>0.5691429405806151</td></tr>\n",
       "<tr><td>1.5173303957001467</td><td>-0.8447692605191803</td></tr>\n",
       "<tr><td>3.9939283913935153</td><td>1.1016593628664675</td></tr>\n",
       "<tr><td>4.325800410500175</td><td>1.2434300964079688</td></tr>\n",
       "<tr><td>5.272359894911699</td><td>1.085500829843883</td></tr>\n",
       "<tr><td>1.233065309650668</td><td>0.03136039444599552</td></tr>\n",
       "<tr><td>2.737585535092038</td><td>0.9679683534307642</td></tr>\n",
       "<tr><td>0.7368272531180856</td><td>0.13558589295721682</td></tr>\n",
       "<tr><td>0.7538815649625611</td><td>-0.7883100928936266</td></tr>\n",
       "<tr><td>2.0658102912787557</td><td>0.4679122118888171</td></tr>\n",
       "<tr><td>1.6599779441055624</td><td>0.0793136602339929</td></tr>\n",
       "<tr><td>1.8297678826359258</td><td>0.11702757998543278</td></tr>\n",
       "</table></div>"
      ],
      "text/plain": [
       "<Table length=17>\n",
       "Luminosity Median    LOS mass Median   \n",
       "     float64             float64       \n",
       "------------------ --------------------\n",
       " 1.687230420005407 0.012554904129778027\n",
       "1.5183951298045943                   --\n",
       "1.0108152154722867  -0.4470735216522169\n",
       " 2.184433739182887   0.5040565852889713\n",
       " 1.678222681227759   0.8954165552891606\n",
       "1.0477507575912837   0.5691429405806151\n",
       "1.5173303957001467  -0.8447692605191803\n",
       "3.9939283913935153   1.1016593628664675\n",
       " 4.325800410500175   1.2434300964079688\n",
       " 5.272359894911699    1.085500829843883\n",
       " 1.233065309650668  0.03136039444599552\n",
       " 2.737585535092038   0.9679683534307642\n",
       "0.7368272531180856  0.13558589295721682\n",
       "0.7538815649625611  -0.7883100928936266\n",
       "2.0658102912787557   0.4679122118888171\n",
       "1.6599779441055624   0.0793136602339929\n",
       "1.8297678826359258  0.11702757998543278"
      ]
     },
     "execution_count": 26,
     "metadata": {},
     "output_type": "execute_result"
    }
   ],
   "source": [
    "g328tb['Luminosity Median', 'LOS mass Median']"
   ]
  },
  {
   "cell_type": "code",
   "execution_count": 27,
   "id": "3ad5999c-7747-49e6-936d-701780c71558",
   "metadata": {},
   "outputs": [
    {
     "data": {
      "text/html": [
       "<div><i>Table length=13</i>\n",
       "<table id=\"table47573250981600\" class=\"table-striped table-bordered table-condensed\">\n",
       "<thead><tr><th>Luminosity Median</th><th>LOS mass Median</th></tr></thead>\n",
       "<thead><tr><th>float64</th><th>float64</th></tr></thead>\n",
       "<tr><td>2.4355659269151393</td><td>-1.0843212908102347</td></tr>\n",
       "<tr><td>2.585646937969941</td><td>-0.28943289716324627</td></tr>\n",
       "<tr><td>1.6736763437687703</td><td>-0.2774978452722406</td></tr>\n",
       "<tr><td>2.5703837214870386</td><td>0.12525864858286667</td></tr>\n",
       "<tr><td>2.3120088982061273</td><td>-1.1528129155157605</td></tr>\n",
       "<tr><td>3.481778050866666</td><td>-0.44445408096464634</td></tr>\n",
       "<tr><td>5.220798308456374</td><td>-0.3343741460964237</td></tr>\n",
       "<tr><td>2.2191380561604026</td><td>-1.3715946891945787</td></tr>\n",
       "<tr><td>2.179230241466306</td><td>0.6620143494668901</td></tr>\n",
       "<tr><td>1.7119685091509802</td><td>-1.1348180005856754</td></tr>\n",
       "<tr><td>2.2235830225525466</td><td>-1.070753409691567</td></tr>\n",
       "<tr><td>2.6665444307179227</td><td>-0.501256436591891</td></tr>\n",
       "<tr><td>2.882422926728311</td><td>-1.63753910571809</td></tr>\n",
       "</table></div>"
      ],
      "text/plain": [
       "<Table length=13>\n",
       "Luminosity Median    LOS mass Median   \n",
       "     float64             float64       \n",
       "------------------ --------------------\n",
       "2.4355659269151393  -1.0843212908102347\n",
       " 2.585646937969941 -0.28943289716324627\n",
       "1.6736763437687703  -0.2774978452722406\n",
       "2.5703837214870386  0.12525864858286667\n",
       "2.3120088982061273  -1.1528129155157605\n",
       " 3.481778050866666 -0.44445408096464634\n",
       " 5.220798308456374  -0.3343741460964237\n",
       "2.2191380561604026  -1.3715946891945787\n",
       " 2.179230241466306   0.6620143494668901\n",
       "1.7119685091509802  -1.1348180005856754\n",
       "2.2235830225525466   -1.070753409691567\n",
       "2.6665444307179227   -0.501256436591891\n",
       " 2.882422926728311    -1.63753910571809"
      ]
     },
     "execution_count": 27,
     "metadata": {},
     "output_type": "execute_result"
    }
   ],
   "source": [
    "g008tb['Luminosity Median', 'LOS mass Median']"
   ]
  },
  {
   "cell_type": "code",
   "execution_count": 28,
   "id": "46b35515-220e-439b-aa4f-88569e62fb78",
   "metadata": {},
   "outputs": [
    {
     "data": {
      "text/html": [
       "<div><i>Table length=21</i>\n",
       "<table id=\"table47573251144960\" class=\"table-striped table-bordered table-condensed\">\n",
       "<thead><tr><th>Luminosity Median</th><th>LOS mass Median</th></tr></thead>\n",
       "<thead><tr><th>float64</th><th>float64</th></tr></thead>\n",
       "<tr><td>1.3662943274198005</td><td>-0.117265790199047</td></tr>\n",
       "<tr><td>1.012821606474041</td><td>-0.9255992241378277</td></tr>\n",
       "<tr><td>0.8781899689371057</td><td>-0.9451117831004728</td></tr>\n",
       "<tr><td>0.45602073133754906</td><td>-0.1425136619465457</td></tr>\n",
       "<tr><td>0.9607500856306702</td><td>-0.24729731848222905</td></tr>\n",
       "<tr><td>1.6805399856279994</td><td>0.4893056494920608</td></tr>\n",
       "<tr><td>0.7996119018530254</td><td>-0.8365832680832903</td></tr>\n",
       "<tr><td>0.7220196335963861</td><td>-1.2748184138898433</td></tr>\n",
       "<tr><td>0.6084754362027296</td><td>0.9208014987643665</td></tr>\n",
       "<tr><td>0.8619976164547466</td><td>-1.407387036257425</td></tr>\n",
       "<tr><td>1.7830898562231088</td><td>0.06315975371761627</td></tr>\n",
       "<tr><td>0.5398451049348095</td><td>-0.9196008950852845</td></tr>\n",
       "<tr><td>0.7013724220091326</td><td>-0.961914884456869</td></tr>\n",
       "<tr><td>0.6507752998116263</td><td>-0.5919507414092564</td></tr>\n",
       "<tr><td>2.331740580607535</td><td>0.7524502666682058</td></tr>\n",
       "<tr><td>1.2062805446172824</td><td>-1.63697572924057</td></tr>\n",
       "<tr><td>3.175200850698123</td><td>0.7878357272533477</td></tr>\n",
       "<tr><td>1.724771987277156</td><td>-0.5415500661225997</td></tr>\n",
       "<tr><td>0.5553161606328851</td><td>-0.5831828895083662</td></tr>\n",
       "<tr><td>1.2725154824225187</td><td>0.0506060261396137</td></tr>\n",
       "<tr><td>0.9896710371368052</td><td>0.5500079466298664</td></tr>\n",
       "</table></div>"
      ],
      "text/plain": [
       "<Table length=21>\n",
       " Luminosity Median    LOS mass Median   \n",
       "      float64             float64       \n",
       "------------------- --------------------\n",
       " 1.3662943274198005   -0.117265790199047\n",
       "  1.012821606474041  -0.9255992241378277\n",
       " 0.8781899689371057  -0.9451117831004728\n",
       "0.45602073133754906  -0.1425136619465457\n",
       " 0.9607500856306702 -0.24729731848222905\n",
       " 1.6805399856279994   0.4893056494920608\n",
       " 0.7996119018530254  -0.8365832680832903\n",
       " 0.7220196335963861  -1.2748184138898433\n",
       " 0.6084754362027296   0.9208014987643665\n",
       " 0.8619976164547466   -1.407387036257425\n",
       " 1.7830898562231088  0.06315975371761627\n",
       " 0.5398451049348095  -0.9196008950852845\n",
       " 0.7013724220091326   -0.961914884456869\n",
       " 0.6507752998116263  -0.5919507414092564\n",
       "  2.331740580607535   0.7524502666682058\n",
       " 1.2062805446172824    -1.63697572924057\n",
       "  3.175200850698123   0.7878357272533477\n",
       "  1.724771987277156  -0.5415500661225997\n",
       " 0.5553161606328851  -0.5831828895083662\n",
       " 1.2725154824225187   0.0506060261396137\n",
       " 0.9896710371368052   0.5500079466298664"
      ]
     },
     "execution_count": 28,
     "metadata": {},
     "output_type": "execute_result"
    }
   ],
   "source": [
    "g351tb['Luminosity Median', 'LOS mass Median'][~g351tb['Luminosity Median'].mask]"
   ]
  },
  {
   "cell_type": "code",
   "execution_count": 29,
   "id": "d8bd7bc1-3ae9-49ea-aa7b-c6b753f3223b",
   "metadata": {},
   "outputs": [
    {
     "name": "stderr",
     "output_type": "stream",
     "text": [
      "/orange/adamginsburg/miniconda3/envs/python38/lib/python3.8/site-packages/numpy/core/_asarray.py:171: UserWarning: Warning: converting a masked element to nan.\n",
      "  return array(a, dtype, copy=False, order=order, subok=True)\n"
     ]
    },
    {
     "data": {
      "text/plain": [
       "<matplotlib.legend.Legend at 0x2b4482be3f10>"
      ]
     },
     "execution_count": 29,
     "metadata": {},
     "output_type": "execute_result"
    },
    {
     "data": {
      "image/png": "[encoded data removed]",
      "text/plain": [
       "<Figure size 864x864 with 1 Axes>"
      ]
     },
     "metadata": {},
     "output_type": "display_data"
    }
   ],
   "source": [
    "pl.figure(figsize=(12,12))\n",
    "pl.errorbar(g328tb['LOS mass Median'], g328tb['Luminosity Median'], xerr=g328tb['LOS mass MAD'], yerr=g328tb['Luminosity MAD'], marker='o', linestyle='none', label='G328')\n",
    "pl.errorbar(g008tb['LOS mass Median'], g008tb['Luminosity Median'], xerr=g008tb['LOS mass MAD'], yerr=g008tb['Luminosity MAD'], marker='o', linestyle='none', label='G008')\n",
    "pl.errorbar(g351tb['LOS mass Median'], g351tb['Luminosity Median'], xerr=g351tb['LOS mass MAD'], yerr=g351tb['Luminosity MAD'], marker='o', linestyle='none', label='G351')\n",
    "\n",
    "pl.xlabel(\"log LOS mass\")\n",
    "pl.ylabel(\"log Luminosity\")\n",
    "pl.legend(loc='best')"
   ]
  },
  {
   "cell_type": "code",
   "execution_count": 30,
   "id": "3bc8edaa-b70d-4844-b1c2-20de8fa15f49",
   "metadata": {},
   "outputs": [
    {
     "data": {
      "text/html": [
       "<div><i>Table length=384</i>\n",
       "<table id=\"table47573091877312\" class=\"table-striped table-bordered table-condensed\">\n",
       "<thead><tr><th>SPICY</th><th>ra</th><th>dec</th><th>l</th><th>b</th><th>p1</th><th>p2</th><th>p3</th><th>class</th><th>silicate</th><th>pah</th><th>alpha</th><th>alpha_8</th><th>alpha_24</th><th>alpha_w4</th><th>env</th><th>group</th><th>var</th><th>nr</th><th>r</th><th>sigmar</th><th>skewnessr</th><th>Spitzer</th><th>mag3_6</th><th>e_mag3_6</th><th>mag4_5</th><th>e_mag4_5</th><th>mag5_8</th><th>e_mag5_8</th><th>mag8_0</th><th>e_mag8_0</th><th>csf</th><th>m3_6</th><th>m4_5</th><th>m5_8</th><th>m8_0</th><th>2MASS</th><th>UKIDSS</th><th>VIRAC</th><th>GaiaDR2</th><th>MIPS</th><th>AllWISE</th><th>ZTFDR3</th><th>in_ALMAIMF</th><th>ALMAIMF_FIELDID</th><th>70</th><th>160</th><th>250</th><th>350</th><th>500</th><th>Spitzer/MIPS.24mu_flux</th><th>Spitzer/MIPS.24mu_eflux</th><th>M24_flux_uplim</th><th>RA_ICRS</th><th>DE_ICRS</th><th>Ksmag</th><th>KsEll</th><th>pm</th><th>e_pm</th><th>pmRA</th><th>e_pmRA</th><th>pmDE</th><th>e_pmDE</th><th>Nep</th><th>flgrel</th><th>Zmag</th><th>Zell</th><th>Ymag</th><th>Yell</th><th>Jmag</th><th>Jell</th><th>Hmag</th><th>Hell</th><th>Zdetflg</th><th>Ydetflg</th><th>Jdetflg</th><th>Hdetflg</th><th>ALMA-IMF_3mm_flux</th><th>ALMA-IMF_3mm_eflux</th><th>ALMA-IMF_1mm_flux</th><th>ALMA-IMF_1mm_eflux</th><th>Paranal/VISTA.Y_flux</th><th>Paranal/VISTA.Y_eflux</th><th>Paranal/VISTA.Z_flux</th><th>Paranal/VISTA.Z_eflux</th><th>Paranal/VISTA.J_flux</th><th>Paranal/VISTA.J_eflux</th><th>Paranal/VISTA.H_flux</th><th>Paranal/VISTA.H_eflux</th><th>Paranal/VISTA.Ks_flux</th><th>Paranal/VISTA.Ks_eflux</th><th>Spitzer/IRAC.I1_flux</th><th>Spitzer/IRAC.I1_eflux</th><th>Spitzer/IRAC.I2_flux</th><th>Spitzer/IRAC.I2_eflux</th><th>Spitzer/IRAC.I3_flux</th><th>Spitzer/IRAC.I3_eflux</th><th>Spitzer/IRAC.I4_flux</th><th>Spitzer/IRAC.I4_eflux</th><th>Herschel/Pacs.blue_eflux</th><th>Herschel/Pacs.red_eflux</th><th>Herschel/SPIRE.PSW_eflux</th><th>Herschel/SPIRE.PMW_eflux</th><th>Herschel/SPIRE.PLW_eflux</th><th>Herschel/Pacs.blue_flux</th><th>Herschel/Pacs.red_flux</th><th>Herschel/SPIRE.PSW_flux</th><th>Herschel/SPIRE.PMW_flux</th><th>Herschel/SPIRE.PLW_flux</th><th>Temperature mean</th><th>Temperature standard deviation</th><th>Temperature Median</th><th>Temperature MAD</th><th>Luminosity mean</th><th>Luminosity standard deviation</th><th>Luminosity Median</th><th>Luminosity MAD</th><th>Radius mean</th><th>Radius standard deviation</th><th>Radius Median</th><th>Radius MAD</th><th>LOS mass mean</th><th>LOS mass standard deviation</th><th>LOS mass Median</th><th>LOS mass MAD</th><th>Sphere mass mean</th><th>Sphere mass standard deviation</th><th>Sphere mass Median</th><th>Sphere mass MAD</th><th>Distance mean</th><th>Distance standard deviation</th><th>Distance Median</th><th>Distance MAD</th><th>Extinction mean</th><th>Extinction standard deviation</th><th>Extinction Median</th><th>Extinction MAD</th><th>Included Geometries</th><th>Chi2 threshold</th><th>NumberOfModels</th><th>Disk mass mean</th><th>Disk mass standard deviation</th><th>Disk mass Median</th><th>Disk mass MAD</th></tr></thead>\n",
       "<thead><tr><th></th><th>deg</th><th>deg</th><th>deg</th><th>deg</th><th></th><th></th><th></th><th></th><th></th><th></th><th></th><th></th><th></th><th></th><th></th><th></th><th></th><th></th><th></th><th></th><th></th><th></th><th>mag</th><th>mag</th><th>mag</th><th>mag</th><th>mag</th><th>mag</th><th>mag</th><th>mag</th><th></th><th></th><th></th><th></th><th></th><th></th><th></th><th></th><th></th><th></th><th></th><th></th><th></th><th></th><th>Jy / pix</th><th>Jy / pix</th><th>MJy / sr</th><th>MJy / sr</th><th>MJy / sr</th><th>mJy</th><th>mJy</th><th>MJy / sr</th><th>deg</th><th>deg</th><th>mag</th><th></th><th>mas / yr</th><th>mas / yr</th><th>mas / yr</th><th>mas / yr</th><th>mas / yr</th><th>mas / yr</th><th></th><th></th><th>mag</th><th></th><th>mag</th><th></th><th>mag</th><th></th><th>mag</th><th></th><th></th><th></th><th></th><th></th><th>mJy / beam</th><th>mJy / beam</th><th>mJy / beam</th><th>mJy / beam</th><th></th><th></th><th></th><th></th><th></th><th></th><th></th><th></th><th></th><th></th><th>mJy</th><th>mag mJy</th><th>mJy</th><th>mag mJy</th><th></th><th>mag</th><th></th><th>mag</th><th>mJy</th><th>mJy</th><th>mJy</th><th>mJy</th><th>mJy</th><th></th><th></th><th></th><th></th><th></th><th></th><th></th><th></th><th></th><th></th><th></th><th></th><th></th><th></th><th></th><th></th><th></th><th></th><th></th><th></th><th></th><th></th><th></th><th></th><th></th><th></th><th></th><th></th><th></th><th></th><th></th><th></th><th></th><th></th><th></th><th></th><th></th><th></th><th></th><th></th></tr></thead>\n",
       "<thead><tr><th>int64</th><th>float64</th><th>float64</th><th>float64</th><th>float64</th><th>float32</th><th>float32</th><th>float32</th><th>bytes9</th><th>bool</th><th>bool</th><th>float64</th><th>float64</th><th>float64</th><th>float64</th><th>bytes7</th><th>bytes10</th><th>int16</th><th>int16</th><th>float64</th><th>float64</th><th>float64</th><th>bytes26</th><th>float32</th><th>float32</th><th>float32</th><th>float32</th><th>float32</th><th>float32</th><th>float32</th><th>float32</th><th>int32</th><th>int32</th><th>int32</th><th>int32</th><th>int32</th><th>bytes18</th><th>bytes19</th><th>int32</th><th>int64</th><th>bytes18</th><th>bytes20</th><th>int64</th><th>bool</th><th>bytes8</th><th>float64</th><th>float64</th><th>float64</th><th>float64</th><th>float64</th><th>float64</th><th>float32</th><th>float32</th><th>float64</th><th>float64</th><th>float32</th><th>float32</th><th>float64</th><th>float64</th><th>float64</th><th>float64</th><th>float64</th><th>float64</th><th>int16</th><th>uint8</th><th>float64</th><th>float32</th><th>float64</th><th>float32</th><th>float32</th><th>float32</th><th>float64</th><th>float32</th><th>uint8</th><th>uint8</th><th>uint8</th><th>uint8</th><th>float64</th><th>float64</th><th>float64</th><th>float64</th><th>float64</th><th>float64</th><th>float64</th><th>float64</th><th>float32</th><th>float32</th><th>float64</th><th>float64</th><th>float32</th><th>float32</th><th>float32</th><th>float32</th><th>float32</th><th>float32</th><th>float32</th><th>float32</th><th>float32</th><th>float32</th><th>float64</th><th>float64</th><th>float64</th><th>float64</th><th>float64</th><th>float64</th><th>float64</th><th>float64</th><th>float64</th><th>float64</th><th>float64</th><th>float64</th><th>float64</th><th>float64</th><th>float64</th><th>float64</th><th>float64</th><th>float64</th><th>float64</th><th>float64</th><th>float64</th><th>float64</th><th>float64</th><th>float64</th><th>float64</th><th>float64</th><th>float64</th><th>float64</th><th>float64</th><th>float64</th><th>float64</th><th>float64</th><th>float64</th><th>float64</th><th>float64</th><th>float64</th><th>float64</th><th>float64</th><th>bytes143</th><th>float64</th><th>int64</th><th>float64</th><th>float64</th><th>float64</th><th>float64</th></tr></thead>\n",
       "<tr><td>73642</td><td>271.576385</td><td>-21.618896</td><td>8.673839</td><td>-0.350408</td><td>--</td><td>--</td><td>0.93</td><td>uncertain</td><td>False</td><td>False</td><td>--</td><td>--</td><td>--</td><td>--</td><td>EnvIII</td><td>G8.7-0.3</td><td>--</td><td>--</td><td>--</td><td>--</td><td>--</td><td>SSTGLMC G008.6738-00.3504</td><td>10.825</td><td>0.064</td><td>9.814</td><td>0.073</td><td>9.117</td><td>0.166</td><td>--</td><td>--</td><td>0</td><td>3</td><td>4</td><td>3</td><td>0</td><td></td><td></td><td>206172820</td><td>--</td><td></td><td>J180618.30-213708.5</td><td>--</td><td>True</td><td>G008</td><td>1.115453756812632</td><td>3.741185599705438</td><td>11824.778268001402</td><td>4633.310050425159</td><td>2122.0290014204234</td><td>--</td><td>--</td><td>--</td><td>271.576461</td><td>-21.618870</td><td>14.429</td><td>0.1</td><td>5.45</td><td>0.73</td><td>5.02</td><td>0.72</td><td>2.134</td><td>0.774</td><td>210</td><td>1</td><td>--</td><td>--</td><td>--</td><td>--</td><td>--</td><td>--</td><td>--</td><td>--</td><td>1</td><td>1</td><td>1</td><td>1</td><td>--</td><td>9.742119164913867e-05</td><td>--</td><td>0.0004115273830446027</td><td>--</td><td>--</td><td>--</td><td>--</td><td>--</td><td>--</td><td>--</td><td>--</td><td>1.1328994</td><td>0.1</td><td>12.966661</td><td>0.76134527</td><td>21.249166</td><td>1.4231092</td><td>25.675962</td><td>3.9102838</td><td>--</td><td>--</td><td>1115.453756812632</td><td>3741.185599705438</td><td>85804.46979993094</td><td>56583.19667874292</td><td>50868.78981189679</td><td>--</td><td>--</td><td>--</td><td>--</td><td>--</td><td>4.145076182381642</td><td>0.2828689070050449</td><td>4.224274014294258</td><td>0.20711617384743813</td><td>2.457232572818289</td><td>0.4979226023912725</td><td>2.4355659269151393</td><td>0.4587232282545887</td><td>0.46111708251035916</td><td>0.5848428901883986</td><td>0.37639444203726624</td><td>0.5193109683134378</td><td>-1.1729178661245976</td><td>0.9145425520323993</td><td>-1.0843212908102347</td><td>1.0120791679189944</td><td>-1.7983730819107029</td><td>1.465454664106527</td><td>-1.608628758891901</td><td>1.533776644395162</td><td>0.6523563125327224</td><td>0.017282250076848235</td><td>0.6527831567576521</td><td>0.028636018816372587</td><td>1.4414658790077968</td><td>0.16285688576374086</td><td>1.5081658038435357</td><td>0.104895544742575</td><td>sp--s-i,sp--h-i,sp--smi,sp--hmi,s-p-smi,s-p-hmi,s-pbsmi,s-pbhmi,s-u-smi,s-u-hmi,s-ubsmi,spu-smi,spu-hmi,spubsmi,spubhmi</td><td>3.0</td><td>1728</td><td>--</td><td>--</td><td>--</td><td>--</td></tr>\n",
       "<tr><td>73650</td><td>271.580146</td><td>-21.631193</td><td>8.664812</td><td>-0.359461</td><td>0.83</td><td>--</td><td>--</td><td>ClassII</td><td>False</td><td>False</td><td>-0.510173382412563</td><td>-0.510173382412563</td><td>--</td><td>--</td><td>EnvIII</td><td>G8.7-0.3</td><td>--</td><td>--</td><td>--</td><td>--</td><td>--</td><td>SSTGLMC G008.6648-00.3594</td><td>12.453</td><td>0.063</td><td>10.489</td><td>0.05</td><td>9.566</td><td>0.052</td><td>9.085</td><td>0.035</td><td>0</td><td>3</td><td>3</td><td>3</td><td>3</td><td></td><td></td><td>-2147483648</td><td>--</td><td></td><td></td><td>--</td><td>True</td><td>G008</td><td>2.501482694627411</td><td>7.176781384141276</td><td>11414.513489341307</td><td>7227.591393938725</td><td>1780.9857480635492</td><td>--</td><td>62.344</td><td>65.02428</td><td>--</td><td>--</td><td>--</td><td>--</td><td>--</td><td>--</td><td>--</td><td>--</td><td>--</td><td>--</td><td>--</td><td>--</td><td>--</td><td>--</td><td>--</td><td>--</td><td>--</td><td>--</td><td>--</td><td>--</td><td>--</td><td>--</td><td>--</td><td>--</td><td>--</td><td>9.742119164913867e-05</td><td>0.009200145405990274</td><td>0.0004115273830446027</td><td>--</td><td>--</td><td>--</td><td>--</td><td>--</td><td>--</td><td>--</td><td>--</td><td>--</td><td>--</td><td>2.8948622</td><td>0.16731772</td><td>11.411478</td><td>0.5234623</td><td>16.979563</td><td>0.81003416</td><td>14.400354</td><td>0.46239668</td><td>2501.482694627411</td><td>7176.781384141276</td><td>82827.4539935732</td><td>88265.24038021106</td><td>42693.379598292864</td><td>--</td><td>--</td><td>--</td><td>--</td><td>--</td><td>3.737149090897818</td><td>0.2992271029190852</td><td>3.651762447380111</td><td>0.29059632740007296</td><td>2.6615845849565147</td><td>0.5726173813829347</td><td>2.585646937969941</td><td>0.5319657936142649</td><td>1.3791472715471182</td><td>0.6433034547056589</td><td>1.6439459127480667</td><td>0.38653744566417053</td><td>-0.17057949434930972</td><td>0.38177787871575997</td><td>-0.28943289716324627</td><td>0.24542883548901212</td><td>-0.5137748995442537</td><td>0.8966880031445416</td><td>-0.561849500670585</td><td>0.6808532186294057</td><td>0.6481031555351221</td><td>0.017781921127969405</td><td>0.6334684555795865</td><td>0.0</td><td>1.323014420072291</td><td>0.22291987746537895</td><td>1.364834628738344</td><td>0.2684310281278487</td><td>s-pbsmi,s-pbhmi,s-ubhmi,spubsmi,spubhmi</td><td>166.5071552574032</td><td>188</td><td>--</td><td>--</td><td>--</td><td>--</td></tr>\n",
       "<tr><td>73653</td><td>271.581761</td><td>-21.626881</td><td>8.669308</td><td>-0.358667</td><td>0.78</td><td>--</td><td>0.93</td><td>ClassII</td><td>False</td><td>False</td><td>-0.365643747091121</td><td>-0.365643747091121</td><td>--</td><td>--</td><td>EnvIII</td><td>G8.7-0.3</td><td>--</td><td>--</td><td>--</td><td>--</td><td>--</td><td>SSTGLMC G008.6693-00.3586</td><td>13.987</td><td>0.089</td><td>12.939</td><td>0.116</td><td>11.763</td><td>0.143</td><td>11.447</td><td>0.106</td><td>1</td><td>3</td><td>3</td><td>2</td><td>3</td><td></td><td></td><td>206180987</td><td>--</td><td></td><td></td><td>--</td><td>True</td><td>G008</td><td>18.088380020640052</td><td>43.94210335066507</td><td>--</td><td>--</td><td>--</td><td>--</td><td>--</td><td>--</td><td>271.581728</td><td>-21.626890</td><td>16.565</td><td>0.2</td><td>6.32</td><td>4.43</td><td>4.83</td><td>4.31</td><td>4.071</td><td>4.603</td><td>110</td><td>0</td><td>--</td><td>--</td><td>--</td><td>--</td><td>--</td><td>--</td><td>--</td><td>--</td><td>1</td><td>1</td><td>1</td><td>1</td><td>0.00037268544311459107</td><td>9.742119164913867e-05</td><td>--</td><td>0.0004115273830446027</td><td>--</td><td>--</td><td>--</td><td>--</td><td>--</td><td>--</td><td>--</td><td>--</td><td>0.15841296</td><td>0.0</td><td>0.7047387</td><td>0.057542883</td><td>1.1949283</td><td>0.12716667</td><td>2.244537</td><td>0.29446682</td><td>1.6352099</td><td>0.15902041</td><td>18088.380020640052</td><td>43942.10335066507</td><td>--</td><td>--</td><td>--</td><td>--</td><td>--</td><td>--</td><td>--</td><td>--</td><td>3.8169918114693657</td><td>0.30082170891055915</td><td>3.785044958331544</td><td>0.34705228057997495</td><td>1.6914015766418478</td><td>0.5889526543099576</td><td>1.6736763437687703</td><td>0.5403097190290915</td><td>0.7343703262466921</td><td>0.6669747694675148</td><td>0.9023293058583187</td><td>0.6412645761232586</td><td>-0.034385542465090575</td><td>0.6379866200396713</td><td>-0.2774978452722406</td><td>0.7031145339273601</td><td>-0.10592671365035465</td><td>0.9498330966134988</td><td>0.30567362610871424</td><td>0.8854047737142662</td><td>0.6487590849245279</td><td>0.01779146338100473</td><td>0.6334684555795865</td><td>0.0</td><td>1.3512810796428074</td><td>0.2039633710699067</td><td>1.4004868873102556</td><td>0.2148093023992739</td><td>sp--s-i,sp--h-i,sp--smi,sp--hmi,s-pbsmi,s-pbhmi,s-u-smi,s-u-hmi,s-ubsmi,s-ubhmi,spu-smi,spu-hmi,spubsmi,spubhmi</td><td>40.792166326633385</td><td>1225</td><td>--</td><td>--</td><td>--</td><td>--</td></tr>\n",
       "<tr><td>73659</td><td>271.587379</td><td>-21.627898</td><td>8.67097</td><td>-0.363722</td><td>0.86</td><td>--</td><td>0.86</td><td>uncertain</td><td>False</td><td>False</td><td>--</td><td>--</td><td>--</td><td>--</td><td>EnvIII</td><td>G8.7-0.3</td><td>--</td><td>--</td><td>--</td><td>--</td><td>--</td><td>SSTGLMC G008.6709-00.3637</td><td>11.875</td><td>0.21</td><td>10.694</td><td>0.116</td><td>9.198</td><td>0.256</td><td>--</td><td>--</td><td>0</td><td>2</td><td>2</td><td>1</td><td>0</td><td>18062099-2137404</td><td></td><td>206154310</td><td>--</td><td></td><td>J180620.94-213739.5</td><td>--</td><td>True</td><td>G008</td><td>0.9654723754908762</td><td>4.205816907635978</td><td>11332.836926673435</td><td>4379.865575282602</td><td>2495.712361438285</td><td>--</td><td>96.008</td><td>100.13581</td><td>271.587471</td><td>-21.627898</td><td>13.760</td><td>0.2</td><td>1.15</td><td>0.57</td><td>0.23</td><td>0.59</td><td>1.132</td><td>0.567</td><td>211</td><td>1</td><td>--</td><td>--</td><td>19.132</td><td>0.3625</td><td>17.461</td><td>0.2370</td><td>15.455</td><td>0.1523</td><td>1</td><td>0</td><td>0</td><td>0</td><td>--</td><td>9.742119164913867e-05</td><td>0.006090426964904263</td><td>0.0004115273830446027</td><td>0.046367138231404835</td><td>0.0154</td><td>--</td><td>--</td><td>0.1607398</td><td>0.0349</td><td>0.6756344069667848</td><td>0.0944</td><td>2.0979295</td><td>0.4</td><td>4.929786</td><td>0.9497753</td><td>9.448037</td><td>1.0054791</td><td>23.830141</td><td>5.5968037</td><td>--</td><td>--</td><td>965.4723754908762</td><td>4205.816907635978</td><td>82234.78206383713</td><td>53488.066323109546</td><td>59826.64113448854</td><td>--</td><td>--</td><td>--</td><td>--</td><td>--</td><td>3.920574776563261</td><td>0.25665152595198754</td><td>3.931915317081246</td><td>0.2516897028135713</td><td>2.6719012015392787</td><td>0.6554823795640019</td><td>2.5703837214870386</td><td>0.6255328868529811</td><td>1.0174542085076168</td><td>0.5303053162708308</td><td>1.0802656273398448</td><td>0.5803883958598375</td><td>0.0901494657589841</td><td>0.705123202020866</td><td>0.12525864858286667</td><td>1.0271304055272394</td><td>-0.0016669371754037925</td><td>0.968382200913887</td><td>0.4911092433400523</td><td>0.6845147543551637</td><td>0.649200889043938</td><td>0.017749624142887284</td><td>0.6334684555795865</td><td>0.0</td><td>1.0984548427658152</td><td>0.13258974961332143</td><td>1.075154937204486</td><td>0.17656462214803456</td><td>sp--s-i,sp--h-i,sp--smi,sp--hmi,s-pbsmi,s-pbhmi,s-u-hmi,s-ubsmi,s-ubhmi,spu-smi,spu-hmi,spubsmi,spubhmi</td><td>66.23141204616928</td><td>551</td><td>--</td><td>--</td><td>--</td><td>--</td></tr>\n",
       "<tr><td>73662</td><td>271.589849</td><td>-21.638591</td><td>8.662757</td><td>-0.370944</td><td>--</td><td>--</td><td>0.95</td><td>ClassII</td><td>False</td><td>False</td><td>-1.26731158563055</td><td>-1.26731158563055</td><td>--</td><td>--</td><td>EnvIII</td><td>G8.7-0.3</td><td>--</td><td>--</td><td>--</td><td>--</td><td>--</td><td>SSTGLMC G008.6627-00.3709</td><td>11.055</td><td>0.156</td><td>10.195</td><td>0.126</td><td>9.704</td><td>0.068</td><td>9.252</td><td>0.041</td><td>0</td><td>1</td><td>1</td><td>3</td><td>3</td><td>18062162-2138188</td><td></td><td>205755140</td><td>--</td><td></td><td></td><td>--</td><td>True</td><td>G008</td><td>1.3820360865261758</td><td>1.4545057231601093</td><td>4140.374182671018</td><td>1743.1424597974217</td><td>795.1113554872607</td><td>--</td><td>33.766</td><td>35.217484</td><td>271.589762</td><td>-21.638561</td><td>13.673</td><td>0.1</td><td>1.55</td><td>0.62</td><td>1.40</td><td>0.61</td><td>0.676</td><td>0.671</td><td>143</td><td>1</td><td>--</td><td>--</td><td>--</td><td>--</td><td>--</td><td>--</td><td>15.944</td><td>0.1777</td><td>1</td><td>1</td><td>1</td><td>0</td><td>--</td><td>9.742119164913867e-05</td><td>--</td><td>0.0004115273830446027</td><td>--</td><td>--</td><td>--</td><td>--</td><td>--</td><td>--</td><td>0.43063741324342203</td><td>0.0702</td><td>2.272956</td><td>0.2</td><td>10.491272</td><td>1.5015031</td><td>14.960352</td><td>1.7293618</td><td>14.952933</td><td>0.93284357</td><td>12.347337</td><td>0.4644411</td><td>1382.0360865261757</td><td>1454.5057231601093</td><td>30043.913168230156</td><td>21287.71257877175</td><td>19060.22603473385</td><td>--</td><td>--</td><td>--</td><td>--</td><td>--</td><td>3.657866133484315</td><td>0.3338578389137778</td><td>3.4867137759824853</td><td>0.100937173038772</td><td>2.269792003890727</td><td>0.3870346486021607</td><td>2.3120088982061273</td><td>0.30926867116413953</td><td>1.3418168958412315</td><td>0.7779994122721718</td><td>1.6895752157599382</td><td>0.30356850830388543</td><td>-1.089386858228932</td><td>1.318036296463809</td><td>-1.1528129155157605</td><td>0.6190647304081512</td><td>-1.3353475407190123</td><td>1.4838204456967687</td><td>-1.3011652097432953</td><td>1.183985977588515</td><td>0.6554992866108176</td><td>0.016680675228964353</td><td>0.6527831567576521</td><td>0.028636018816372587</td><td>1.39586496226471</td><td>0.16034517295415474</td><td>1.4555047230778784</td><td>0.07796241991178754</td><td>sp--s-i,sp--h-i,sp--smi,s-u-hmi,spu-hmi,spubsmi,spubhmi</td><td>3.0</td><td>24</td><td>--</td><td>--</td><td>--</td><td>--</td></tr>\n",
       "<tr><td>73668</td><td>271.592338</td><td>-21.640527</td><td>8.662196</td><td>-0.373908</td><td>0.86</td><td>--</td><td>1.0</td><td>FS</td><td>False</td><td>False</td><td>0.240395291927179</td><td>0.240395291927179</td><td>--</td><td>--</td><td>EnvIII</td><td>G8.7-0.3</td><td>--</td><td>--</td><td>--</td><td>--</td><td>--</td><td>SSTGLMC G008.6622-00.3739</td><td>8.952</td><td>0.102</td><td>6.718</td><td>0.056</td><td>5.494</td><td>0.026</td><td>4.857</td><td>0.022</td><td>0</td><td>3</td><td>3</td><td>3</td><td>3</td><td>18062218-2138263</td><td></td><td>205755093</td><td>--</td><td></td><td></td><td>--</td><td>True</td><td>G008</td><td>3.2188014076004627</td><td>1.875211309940878</td><td>4197.672439883943</td><td>1743.1424597974217</td><td>655.7332386322512</td><td>--</td><td>30.529</td><td>31.841345</td><td>271.592375</td><td>-21.640584</td><td>13.182</td><td>0.1</td><td>9.98</td><td>4.97</td><td>9.98</td><td>4.97</td><td>0.228</td><td>3.215</td><td>143</td><td>0</td><td>--</td><td>--</td><td>--</td><td>--</td><td>--</td><td>--</td><td>--</td><td>--</td><td>1</td><td>1</td><td>1</td><td>1</td><td>--</td><td>9.742119164913867e-05</td><td>--</td><td>0.0004115273830446027</td><td>--</td><td>--</td><td>--</td><td>--</td><td>--</td><td>--</td><td>--</td><td>--</td><td>3.572656</td><td>0.3</td><td>72.782715</td><td>6.8108587</td><td>367.91022</td><td>18.90181</td><td>722.315</td><td>17.229532</td><td>707.2506</td><td>14.274782</td><td>3218.801407600463</td><td>1875.211309940878</td><td>30459.688117171005</td><td>21287.71257877175</td><td>15719.085962694477</td><td>--</td><td>--</td><td>--</td><td>--</td><td>--</td><td>4.153274902322536</td><td>0.21335562525389856</td><td>4.172894697752176</td><td>0.2492899886355486</td><td>3.5497656324748856</td><td>0.5057660632946201</td><td>3.481778050866666</td><td>0.355323511141328</td><td>0.9909861724568676</td><td>0.4822892820396077</td><td>0.966939163021113</td><td>0.5350433661117406</td><td>-0.3116567328237421</td><td>0.6300919729607266</td><td>-0.44445408096464634</td><td>0.5862611098030424</td><td>-0.6385520342229543</td><td>1.0179869283454601</td><td>-0.7120413984237927</td><td>0.954301150500059</td><td>0.6512710189680534</td><td>0.01837492063636976</td><td>0.6527831567576521</td><td>0.028636018816372587</td><td>1.3264618755301207</td><td>0.22581889200024616</td><td>1.374911492994153</td><td>0.26935605020150194</td><td>sp--s-i,sp--h-i,sp--smi,sp--hmi,s-p-smi,s-p-hmi,s-pbsmi,s-pbhmi,s-u-smi,s-ubsmi,s-ubhmi,spu-smi,spu-hmi,spubsmi,spubhmi</td><td>286.78254140794587</td><td>387</td><td>--</td><td>--</td><td>--</td><td>--</td></tr>\n",
       "<tr><td>73673</td><td>271.598592</td><td>-21.619073</td><td>8.683759</td><td>-0.368514</td><td>0.94</td><td>--</td><td>--</td><td>ClassII</td><td>False</td><td>False</td><td>-1.01274234159848</td><td>-1.01274234159848</td><td>--</td><td>--</td><td>EnvIII</td><td>G8.7-0.3</td><td>--</td><td>--</td><td>--</td><td>--</td><td>--</td><td>SSTGLMC G008.6837-00.3685</td><td>13.773</td><td>0.115</td><td>11.004</td><td>0.174</td><td>9.968</td><td>0.086</td><td>9.906</td><td>0.057</td><td>0</td><td>3</td><td>3</td><td>2</td><td>4</td><td></td><td></td><td>-2147483648</td><td>--</td><td></td><td>J180623.57-213708.7</td><td>--</td><td>True</td><td>G008</td><td>14.839536562268487</td><td>25.481118526578513</td><td>--</td><td>--</td><td>--</td><td>--</td><td>36.789</td><td>38.370407</td><td>--</td><td>--</td><td>--</td><td>--</td><td>--</td><td>--</td><td>--</td><td>--</td><td>--</td><td>--</td><td>--</td><td>--</td><td>--</td><td>--</td><td>--</td><td>--</td><td>--</td><td>--</td><td>--</td><td>--</td><td>--</td><td>--</td><td>--</td><td>--</td><td>0.010192496358286677</td><td>9.742119164913867e-05</td><td>0.13468452306540016</td><td>0.0004115273830446027</td><td>--</td><td>--</td><td>--</td><td>--</td><td>--</td><td>--</td><td>--</td><td>--</td><td>--</td><td>--</td><td>0.85827804</td><td>0.09055227</td><td>7.101368</td><td>1.1336128</td><td>11.725363</td><td>0.9251204</td><td>6.7604136</td><td>0.3535262</td><td>14839.536562268488</td><td>25481.118526578513</td><td>--</td><td>--</td><td>--</td><td>--</td><td>--</td><td>--</td><td>--</td><td>--</td><td>4.253884445717024</td><td>0.2256123215442336</td><td>4.330413773349191</td><td>0.14632132653582117</td><td>4.879871681821871</td><td>0.8553372520187438</td><td>5.220798308456374</td><td>0.3657837918719255</td><td>1.4548201103413856</td><td>0.2891038676678741</td><td>1.387033701282363</td><td>0.13517821075578113</td><td>-0.16173547849593156</td><td>0.6920336739811775</td><td>-0.3343741460964237</td><td>0.5263317933624799</td><td>0.19457586297254198</td><td>1.2792993492483336</td><td>0.5424589039616958</td><td>0.535709443917271</td><td>0.6530307811317297</td><td>0.01789932024073637</td><td>0.6527831567576521</td><td>0.028636018816372587</td><td>1.3642417829498659</td><td>0.25936690751247465</td><td>1.457082817622354</td><td>0.21494347936860717</td><td>s-p-hmi,s-pbsmi,s-pbhmi,s-u-hmi,s-ubhmi,spubhmi</td><td>1963.0027124581352</td><td>53</td><td>--</td><td>--</td><td>--</td><td>--</td></tr>\n",
       "<tr><td>73675</td><td>271.600004</td><td>-21.611082</td><td>8.691375</td><td>-0.365761</td><td>0.11</td><td>--</td><td>0.54</td><td>uncertain</td><td>True</td><td>False</td><td>-2.2757342684415</td><td>-2.2757342684415</td><td>--</td><td>--</td><td>EnvIII</td><td>G8.7-0.3</td><td>--</td><td>--</td><td>--</td><td>--</td><td>--</td><td>SSTGLMC G008.6913-00.3657</td><td>11.029</td><td>0.037</td><td>9.891</td><td>0.043</td><td>9.419</td><td>0.044</td><td>9.562</td><td>0.038</td><td>1</td><td>3</td><td>3</td><td>3</td><td>3</td><td>18062398-2136394</td><td></td><td>206154761</td><td>--</td><td></td><td>J180623.99-213639.8</td><td>--</td><td>True</td><td>G008</td><td>0.14280085076289334</td><td>1.0015381463235107</td><td>4112.852118983495</td><td>2824.7161409155756</td><td>885.8647925990151</td><td>--</td><td>31.773</td><td>33.13874</td><td>271.599963</td><td>-21.611099</td><td>13.392</td><td>0.1</td><td>1.58</td><td>0.60</td><td>-1.19</td><td>0.64</td><td>-1.044</td><td>0.557</td><td>211</td><td>1</td><td>--</td><td>--</td><td>--</td><td>--</td><td>--</td><td>--</td><td>--</td><td>--</td><td>1</td><td>1</td><td>1</td><td>1</td><td>--</td><td>9.742119164913867e-05</td><td>--</td><td>0.0004115273830446027</td><td>--</td><td>--</td><td>--</td><td>--</td><td>--</td><td>--</td><td>--</td><td>--</td><td>2.944361</td><td>0.3</td><td>10.745534</td><td>0.36475664</td><td>19.794384</td><td>0.7808794</td><td>19.441362</td><td>0.7847889</td><td>9.28054</td><td>0.32354176</td><td>142.80085076289333</td><td>1001.5381463235107</td><td>29844.2040465041</td><td>34496.17384193387</td><td>21235.746498429147</td><td>--</td><td>--</td><td>--</td><td>--</td><td>--</td><td>3.589490780398134</td><td>0.2924078018560429</td><td>3.4777722023354443</td><td>0.1766588921075329</td><td>2.368118012426668</td><td>0.6819764133008833</td><td>2.2191380561604026</td><td>0.42600094157162993</td><td>1.5277306062815632</td><td>0.49390242611012186</td><td>1.6832272060414348</td><td>0.23230978616308784</td><td>-1.739502753301234</td><td>1.8560320757592912</td><td>-1.3715946891945787</td><td>1.4977377435522168</td><td>-2.3901076398866468</td><td>2.139964139152182</td><td>-2.0779008972611375</td><td>2.2091585011442008</td><td>0.6470866118842531</td><td>0.017778495239341604</td><td>0.6334684555795865</td><td>0.0</td><td>1.3536164094010694</td><td>0.18631666730145222</td><td>1.3865621697410095</td><td>0.1912518485856039</td><td>s---s-i,sp--s-i,sp--h-i,s---smi,sp--smi,sp--hmi,s-p-smi,s-p-hmi,s-pbsmi,s-pbhmi,s-u-smi,s-u-hmi,s-ubsmi,s-ubhmi,spu-smi,spu-hmi,spubsmi,spubhmi</td><td>349.9520457206936</td><td>13439</td><td>--</td><td>--</td><td>--</td><td>--</td></tr>\n",
       "<tr><td>73676</td><td>271.600214</td><td>-21.60446</td><td>8.697251</td><td>-0.3627</td><td>0.57</td><td>--</td><td>0.2</td><td>uncertain</td><td>False</td><td>False</td><td>--</td><td>--</td><td>--</td><td>--</td><td>EnvIII</td><td>G8.7-0.3</td><td>--</td><td>--</td><td>--</td><td>--</td><td>--</td><td>SSTGLMC G008.6972-00.3627</td><td>13.072</td><td>0.072</td><td>12.394</td><td>0.091</td><td>12.157</td><td>0.224</td><td>--</td><td>--</td><td>0</td><td>3</td><td>3</td><td>1</td><td>0</td><td>18062403-2136155</td><td></td><td>206154926</td><td>4070004502543732352</td><td></td><td></td><td>--</td><td>True</td><td>G008</td><td>0.04779060793036123</td><td>0.5118214509139641</td><td>2391.8168916433897</td><td>1228.0311086675167</td><td>554.6539625948933</td><td>--</td><td>44.455</td><td>46.36653</td><td>271.600130</td><td>-21.604318</td><td>13.813</td><td>0.2</td><td>1.84</td><td>0.66</td><td>1.25</td><td>0.65</td><td>1.350</td><td>0.670</td><td>211</td><td>1</td><td>17.465</td><td>0.0858</td><td>16.328</td><td>0.0360</td><td>15.210</td><td>0.1564</td><td>14.459</td><td>0.0417</td><td>0</td><td>0</td><td>0</td><td>0</td><td>0.0012439364918430719</td><td>9.742119164913867e-05</td><td>--</td><td>0.0004115273830446027</td><td>0.6134939611652668</td><td>0.0203</td><td>0.23386004589694387</td><td>0.0184</td><td>1.2779787</td><td>0.1834</td><td>1.6908759930361434</td><td>0.0647</td><td>1.9979805</td><td>0.4</td><td>1.6369232</td><td>0.108127035</td><td>1.9739757</td><td>0.1647998</td><td>1.5614457</td><td>0.32088426</td><td>--</td><td>--</td><td>47.79060793036123</td><td>511.82145091396416</td><td>17355.807914076617</td><td>14997.037753381663</td><td>13296.036869754984</td><td>--</td><td>--</td><td>--</td><td>--</td><td>--</td><td>3.91104656605719</td><td>0.16178990439812002</td><td>3.898396045930009</td><td>0.1431255119473178</td><td>2.3052684866916198</td><td>0.536753061106452</td><td>2.179230241466306</td><td>0.5253364996336557</td><td>0.8531942720959281</td><td>0.24641293845501583</td><td>0.8217099972983763</td><td>0.14774461129756566</td><td>0.08624528454009042</td><td>1.1859676621672899</td><td>0.6620143494668901</td><td>0.36819487241887394</td><td>0.16555662750759537</td><td>1.1631792803772307</td><td>0.6455966761905368</td><td>0.3362976215753117</td><td>0.6448393488118053</td><td>0.016766042528074464</td><td>0.6334684555795865</td><td>0.0</td><td>0.9617043286479184</td><td>0.021396118140541723</td><td>0.9542425094393249</td><td>0.0</td><td>sp--s-i,sp--h-i,sp--hmi,s-pbhmi,s-ubsmi,s-ubhmi,spu-hmi,spubsmi,spubhmi</td><td>758.0216567478507</td><td>116</td><td>--</td><td>--</td><td>--</td><td>--</td></tr>\n",
       "<tr><td>...</td><td>...</td><td>...</td><td>...</td><td>...</td><td>...</td><td>...</td><td>...</td><td>...</td><td>...</td><td>...</td><td>...</td><td>...</td><td>...</td><td>...</td><td>...</td><td>...</td><td>...</td><td>...</td><td>...</td><td>...</td><td>...</td><td>...</td><td>...</td><td>...</td><td>...</td><td>...</td><td>...</td><td>...</td><td>...</td><td>...</td><td>...</td><td>...</td><td>...</td><td>...</td><td>...</td><td>...</td><td>...</td><td>...</td><td>...</td><td>...</td><td>...</td><td>...</td><td>...</td><td>...</td><td>...</td><td>...</td><td>...</td><td>...</td><td>...</td><td>...</td><td>...</td><td>...</td><td>...</td><td>...</td><td>...</td><td>...</td><td>...</td><td>...</td><td>...</td><td>...</td><td>...</td><td>...</td><td>...</td><td>...</td><td>...</td><td>...</td><td>...</td><td>...</td><td>...</td><td>...</td><td>...</td><td>...</td><td>...</td><td>...</td><td>...</td><td>...</td><td>...</td><td>...</td><td>...</td><td>...</td><td>...</td><td>...</td><td>...</td><td>...</td><td>...</td><td>...</td><td>...</td><td>...</td><td>...</td><td>...</td><td>...</td><td>...</td><td>...</td><td>...</td><td>...</td><td>...</td><td>...</td><td>...</td><td>...</td><td>...</td><td>...</td><td>...</td><td>...</td><td>...</td><td>...</td><td>...</td><td>...</td><td>...</td><td>...</td><td>...</td><td>...</td><td>...</td><td>...</td><td>...</td><td>...</td><td>...</td><td>...</td><td>...</td><td>...</td><td>...</td><td>...</td><td>...</td><td>...</td><td>...</td><td>...</td><td>...</td><td>...</td><td>...</td><td>...</td><td>...</td><td>...</td><td>...</td><td>...</td><td>...</td><td>...</td><td>...</td><td>...</td><td>...</td><td>...</td><td>...</td><td>...</td><td>...</td><td>...</td></tr>\n",
       "<tr><td>40362</td><td>250.310797</td><td>-47.116839</td><td>337.936458</td><td>-0.474064</td><td>--</td><td>--</td><td>0.91</td><td>uncertain</td><td>False</td><td>False</td><td>--</td><td>--</td><td>--</td><td>--</td><td>EnvII</td><td>G337.8-0.2</td><td>--</td><td>--</td><td>--</td><td>--</td><td>--</td><td>SSTGLMC G337.9364-00.4740</td><td>13.865</td><td>0.078</td><td>12.947</td><td>0.085</td><td>11.829</td><td>0.112</td><td>--</td><td>--</td><td>1</td><td>6</td><td>5</td><td>4</td><td>0</td><td></td><td></td><td>344157968</td><td>--</td><td></td><td></td><td>--</td><td>True</td><td>G337</td><td>1.2277451770317538</td><td>0.5804466444420397</td><td>1498.7151730272408</td><td>700.3173080413773</td><td>285.51920738001763</td><td>--</td><td>229.112</td><td>238.96352</td><td>250.310814</td><td>-47.116778</td><td>15.988</td><td>0.1</td><td>6.16</td><td>2.16</td><td>4.42</td><td>2.15</td><td>-4.288</td><td>2.168</td><td>92</td><td>0</td><td>--</td><td>--</td><td>--</td><td>--</td><td>--</td><td>--</td><td>--</td><td>--</td><td>1</td><td>1</td><td>1</td><td>1</td><td>--</td><td>0.08014094502891284</td><td>--</td><td>0.19566992413526146</td><td>--</td><td>--</td><td>--</td><td>--</td><td>--</td><td>--</td><td>--</td><td>--</td><td>0.26952022</td><td>0.0</td><td>0.78854793</td><td>0.056428198</td><td>1.1861572</td><td>0.092498496</td><td>2.1121573</td><td>0.217029</td><td>--</td><td>--</td><td>1227.7451770317539</td><td>580.4466444420398</td><td>10875.168894346569</td><td>8552.458511771058</td><td>6844.400589130283</td><td>--</td><td>--</td><td>--</td><td>--</td><td>--</td><td>--</td><td>--</td><td>--</td><td>--</td><td>--</td><td>--</td><td>--</td><td>--</td><td>--</td><td>--</td><td>--</td><td>--</td><td>--</td><td>--</td><td>--</td><td>--</td><td>--</td><td>--</td><td>--</td><td>--</td><td>--</td><td>--</td><td>--</td><td>--</td><td>--</td><td>--</td><td>--</td><td>--</td><td></td><td>--</td><td>--</td><td>--</td><td>--</td><td>--</td><td>--</td></tr>\n",
       "<tr><td>40365</td><td>250.312044</td><td>-47.115284</td><td>337.938186</td><td>-0.473672</td><td>0.62</td><td>--</td><td>0.7</td><td>ClassII</td><td>False</td><td>False</td><td>-0.882994146253093</td><td>-0.882994146253093</td><td>--</td><td>--</td><td>EnvII</td><td>G337.8-0.2</td><td>--</td><td>--</td><td>--</td><td>--</td><td>--</td><td>SSTGLMC G337.9381-00.4736</td><td>11.534</td><td>0.03</td><td>10.988</td><td>0.05</td><td>10.509</td><td>0.047</td><td>9.811</td><td>0.055</td><td>0</td><td>6</td><td>5</td><td>6</td><td>5</td><td>16411490-4706547</td><td></td><td>344158148</td><td>5942614366775460736</td><td></td><td></td><td>--</td><td>True</td><td>G337</td><td>1.0984163818994923</td><td>0.5348972222330335</td><td>1454.0337824755504</td><td>690.1743267125973</td><td>260.81288440509826</td><td>--</td><td>135.518</td><td>141.3447</td><td>250.312046</td><td>-47.115273</td><td>13.063</td><td>0.3</td><td>2.17</td><td>0.94</td><td>1.20</td><td>0.92</td><td>-1.804</td><td>0.949</td><td>103</td><td>1</td><td>17.762</td><td>0.1277</td><td>17.009</td><td>0.2287</td><td>15.733</td><td>0.3046</td><td>14.187</td><td>0.2781</td><td>0</td><td>0</td><td>0</td><td>0</td><td>--</td><td>0.08014094502891284</td><td>--</td><td>0.19566992413526146</td><td>0.3276500904425649</td><td>0.0687</td><td>0.17789184138191647</td><td>0.0208</td><td>0.7894483</td><td>0.2206</td><td>2.1722597645005393</td><td>0.5542</td><td>3.986497</td><td>1.1</td><td>6.74882</td><td>0.18574733</td><td>7.206794</td><td>0.33058688</td><td>7.1240444</td><td>0.30718353</td><td>7.3785906</td><td>0.37231418</td><td>1098.4163818994923</td><td>534.8972222330335</td><td>10550.946068402669</td><td>8428.589765412822</td><td>6252.146312871683</td><td>--</td><td>--</td><td>--</td><td>--</td><td>--</td><td>--</td><td>--</td><td>--</td><td>--</td><td>--</td><td>--</td><td>--</td><td>--</td><td>--</td><td>--</td><td>--</td><td>--</td><td>--</td><td>--</td><td>--</td><td>--</td><td>--</td><td>--</td><td>--</td><td>--</td><td>--</td><td>--</td><td>--</td><td>--</td><td>--</td><td>--</td><td>--</td><td>--</td><td></td><td>--</td><td>--</td><td>--</td><td>--</td><td>--</td><td>--</td></tr>\n",
       "<tr><td>40380</td><td>250.324384</td><td>-47.119003</td><td>337.940947</td><td>-0.482431</td><td>0.94</td><td>--</td><td>0.7</td><td>ClassII</td><td>False</td><td>False</td><td>-1.20490106128721</td><td>-1.20490106128721</td><td>--</td><td>--</td><td>EnvII</td><td>G337.8-0.2</td><td>--</td><td>--</td><td>--</td><td>--</td><td>--</td><td>SSTGLMC G337.9409-00.4824</td><td>12.303</td><td>0.043</td><td>11.796</td><td>0.06</td><td>11.293</td><td>0.062</td><td>10.815</td><td>0.062</td><td>0</td><td>6</td><td>4</td><td>6</td><td>4</td><td>16411785-4707084</td><td></td><td>344158385</td><td>--</td><td></td><td></td><td>--</td><td>True</td><td>G337</td><td>0.6486373191129359</td><td>0.4428722419824612</td><td>1341.3759119689266</td><td>645.2497936881277</td><td>233.80055101137296</td><td>--</td><td>129.597</td><td>135.1692</td><td>250.324363</td><td>-47.118999</td><td>13.606</td><td>0.2</td><td>2.34</td><td>0.65</td><td>1.73</td><td>0.65</td><td>-1.577</td><td>0.661</td><td>103</td><td>1</td><td>--</td><td>--</td><td>18.337</td><td>0.6630</td><td>16.416</td><td>0.4852</td><td>14.702</td><td>0.2561</td><td>1</td><td>0</td><td>0</td><td>0</td><td>--</td><td>0.08014094502891284</td><td>--</td><td>0.19566992413526146</td><td>0.09642958377033205</td><td>0.0587</td><td>--</td><td>--</td><td>0.42084643</td><td>0.1873</td><td>1.3517978709101757</td><td>0.3176</td><td>2.4176373</td><td>0.4</td><td>3.323746</td><td>0.13112026</td><td>3.4240642</td><td>0.18848059</td><td>3.460402</td><td>0.1968302</td><td>2.9266684</td><td>0.16647103</td><td>648.6373191129359</td><td>442.8722419824612</td><td>9733.463606700327</td><td>7879.959593859553</td><td>5604.612886695829</td><td>--</td><td>--</td><td>--</td><td>--</td><td>--</td><td>--</td><td>--</td><td>--</td><td>--</td><td>--</td><td>--</td><td>--</td><td>--</td><td>--</td><td>--</td><td>--</td><td>--</td><td>--</td><td>--</td><td>--</td><td>--</td><td>--</td><td>--</td><td>--</td><td>--</td><td>--</td><td>--</td><td>--</td><td>--</td><td>--</td><td>--</td><td>--</td><td>--</td><td></td><td>--</td><td>--</td><td>--</td><td>--</td><td>--</td><td>--</td></tr>\n",
       "<tr><td>40344</td><td>250.298867</td><td>-47.118547</td><td>337.929808</td><td>-0.469103</td><td>--</td><td>--</td><td>0.69</td><td>uncertain</td><td>False</td><td>False</td><td>--</td><td>--</td><td>--</td><td>--</td><td>EnvIII</td><td>G337.8-0.2</td><td>--</td><td>--</td><td>--</td><td>--</td><td>--</td><td>SSTGLMC G337.9298-00.4691</td><td>12.589</td><td>0.08</td><td>11.63</td><td>0.188</td><td>10.414</td><td>0.162</td><td>--</td><td>--</td><td>0</td><td>5</td><td>3</td><td>1</td><td>0</td><td></td><td></td><td>344622620</td><td>--</td><td></td><td></td><td>--</td><td>True</td><td>G337</td><td>2.328486127949008</td><td>1.031710611141656</td><td>2594.221560230035</td><td>974.0668153025044</td><td>438.77288878363794</td><td>--</td><td>469.766</td><td>489.96472</td><td>250.298804</td><td>-47.118374</td><td>14.223</td><td>0.4</td><td>3.54</td><td>1.46</td><td>-1.08</td><td>1.41</td><td>-3.372</td><td>1.459</td><td>154</td><td>1</td><td>--</td><td>--</td><td>--</td><td>--</td><td>--</td><td>--</td><td>15.304</td><td>0.5090</td><td>1</td><td>1</td><td>1</td><td>0</td><td>1.9077062949361587</td><td>0.08014094502891284</td><td>--</td><td>0.19566992413526146</td><td>--</td><td>--</td><td>--</td><td>--</td><td>--</td><td>--</td><td>0.7764468959557638</td><td>0.3626</td><td>1.369592</td><td>0.5</td><td>2.554044</td><td>0.18745276</td><td>3.989716</td><td>0.68813443</td><td>7.775471</td><td>1.1556205</td><td>--</td><td>--</td><td>2328.4861279490083</td><td>1031.710611141656</td><td>18824.522580812027</td><td>11895.55924137666</td><td>10518.162494364311</td><td>--</td><td>--</td><td>--</td><td>--</td><td>--</td><td>--</td><td>--</td><td>--</td><td>--</td><td>--</td><td>--</td><td>--</td><td>--</td><td>--</td><td>--</td><td>--</td><td>--</td><td>--</td><td>--</td><td>--</td><td>--</td><td>--</td><td>--</td><td>--</td><td>--</td><td>--</td><td>--</td><td>--</td><td>--</td><td>--</td><td>--</td><td>--</td><td>--</td><td></td><td>--</td><td>--</td><td>--</td><td>--</td><td>--</td><td>--</td></tr>\n",
       "<tr><td>40382</td><td>250.324538</td><td>-47.13889</td><td>337.926094</td><td>-0.495656</td><td>--</td><td>--</td><td>0.83</td><td>uncertain</td><td>False</td><td>False</td><td>--</td><td>--</td><td>--</td><td>--</td><td>EnvIII</td><td>G337.8-0.2</td><td>--</td><td>--</td><td>--</td><td>--</td><td>--</td><td>SSTGLMC G337.9260-00.4956</td><td>11.34</td><td>0.078</td><td>10.331</td><td>0.078</td><td>--</td><td>--</td><td>--</td><td>--</td><td>0</td><td>6</td><td>4</td><td>0</td><td>0</td><td>16411789-4708200</td><td></td><td>344766978</td><td>--</td><td></td><td></td><td>--</td><td>True</td><td>G337</td><td>3.867880729241532</td><td>2.9354215994408794</td><td>4087.34235004916</td><td>1783.174252264128</td><td>591.1940676317427</td><td>--</td><td>1423.047</td><td>1484.2347</td><td>250.324525</td><td>-47.138923</td><td>13.200</td><td>0.1</td><td>1.20</td><td>0.61</td><td>-0.81</td><td>0.61</td><td>0.890</td><td>0.607</td><td>207</td><td>1</td><td>--</td><td>--</td><td>--</td><td>--</td><td>17.841</td><td>0.1870</td><td>15.165</td><td>0.2035</td><td>1</td><td>1</td><td>0</td><td>0</td><td>--</td><td>0.08014094502891284</td><td>--</td><td>0.19566992413526146</td><td>--</td><td>--</td><td>--</td><td>--</td><td>0.11327236</td><td>0.0194</td><td>0.8824939934002364</td><td>0.1648</td><td>3.5139163</td><td>0.3</td><td>8.069151</td><td>0.5774255</td><td>13.199026</td><td>0.94451743</td><td>--</td><td>--</td><td>--</td><td>--</td><td>3867.880729241532</td><td>2935.4215994408796</td><td>29659.096795567104</td><td>21776.591320296593</td><td>14171.967840340178</td><td>--</td><td>--</td><td>--</td><td>--</td><td>--</td><td>--</td><td>--</td><td>--</td><td>--</td><td>--</td><td>--</td><td>--</td><td>--</td><td>--</td><td>--</td><td>--</td><td>--</td><td>--</td><td>--</td><td>--</td><td>--</td><td>--</td><td>--</td><td>--</td><td>--</td><td>--</td><td>--</td><td>--</td><td>--</td><td>--</td><td>--</td><td>--</td><td>--</td><td></td><td>--</td><td>--</td><td>--</td><td>--</td><td>--</td><td>--</td></tr>\n",
       "<tr><td>40328</td><td>250.287375</td><td>-47.118255</td><td>337.924855</td><td>-0.463044</td><td>0.41</td><td>--</td><td>0.58</td><td>uncertain</td><td>False</td><td>False</td><td>--</td><td>--</td><td>--</td><td>--</td><td>EnvIII</td><td>G337.8-0.2</td><td>--</td><td>--</td><td>--</td><td>--</td><td>--</td><td>SSTGLMC G337.9248-00.4630</td><td>11.288</td><td>0.067</td><td>10.123</td><td>0.114</td><td>8.391</td><td>0.09</td><td>--</td><td>--</td><td>0</td><td>7</td><td>3</td><td>6</td><td>0</td><td>16410896-4707056</td><td></td><td>344767314</td><td>5942614401135184000</td><td></td><td></td><td>--</td><td>True</td><td>G337</td><td>5.600785686167698</td><td>2.0540853078407286</td><td>4637.007588424937</td><td>3891.416047440635</td><td>1201.2571598478605</td><td>--</td><td>2007.594</td><td>2093.9153</td><td>250.287404</td><td>-47.118233</td><td>12.158</td><td>0.3</td><td>2.34</td><td>1.05</td><td>-2.02</td><td>1.04</td><td>1.170</td><td>1.062</td><td>200</td><td>0</td><td>17.278</td><td>0.2986</td><td>15.646</td><td>0.1703</td><td>14.375</td><td>0.5922</td><td>12.984</td><td>0.2251</td><td>0</td><td>0</td><td>0</td><td>0</td><td>4.3985310385818455</td><td>0.08014094502891284</td><td>--</td><td>0.19566992413526146</td><td>1.1497681981569126</td><td>0.1796</td><td>0.27781521735794035</td><td>0.0761</td><td>2.757552</td><td>1.4982</td><td>6.578270958780944</td><td>1.3585</td><td>9.174681</td><td>2.5</td><td>8.465019</td><td>0.52032685</td><td>15.986075</td><td>1.6719381</td><td>50.11025</td><td>4.1375437</td><td>--</td><td>--</td><td>5600.785686167698</td><td>2054.0853078407285</td><td>33647.6480628593</td><td>47522.99267150166</td><td>28796.259586195123</td><td>--</td><td>--</td><td>--</td><td>--</td><td>--</td><td>--</td><td>--</td><td>--</td><td>--</td><td>--</td><td>--</td><td>--</td><td>--</td><td>--</td><td>--</td><td>--</td><td>--</td><td>--</td><td>--</td><td>--</td><td>--</td><td>--</td><td>--</td><td>--</td><td>--</td><td>--</td><td>--</td><td>--</td><td>--</td><td>--</td><td>--</td><td>--</td><td>--</td><td></td><td>--</td><td>--</td><td>--</td><td>--</td><td>--</td><td>--</td></tr>\n",
       "<tr><td>40141</td><td>250.142678</td><td>-45.713557</td><td>338.911515</td><td>0.541772</td><td>--</td><td>--</td><td>0.61</td><td>ClassII</td><td>False</td><td>False</td><td>-1.19504676796984</td><td>-1.19504676796984</td><td>--</td><td>--</td><td>EnvIII</td><td>G338.9+0.4</td><td>--</td><td>--</td><td>--</td><td>--</td><td>--</td><td>SSTGLMC G338.9115+00.5417</td><td>11.396</td><td>0.07</td><td>10.804</td><td>0.087</td><td>10.301</td><td>0.085</td><td>9.817</td><td>0.306</td><td>0</td><td>2</td><td>2</td><td>2</td><td>1</td><td>16403421-4542487</td><td></td><td>378090427</td><td>--</td><td></td><td></td><td>--</td><td>True</td><td>G338</td><td>0.4699874867516551</td><td>0.8835858782972763</td><td>2956.402481055559</td><td>1305.31170395556</td><td>573.4610303268623</td><td>--</td><td>254.044</td><td>264.96753</td><td>250.142616</td><td>-45.713545</td><td>13.306</td><td>0.2</td><td>0.94</td><td>0.78</td><td>0.49</td><td>0.77</td><td>0.802</td><td>0.778</td><td>102</td><td>1</td><td>--</td><td>--</td><td>18.931</td><td>0.0262</td><td>16.609</td><td>0.0887</td><td>14.793</td><td>0.4967</td><td>1</td><td>0</td><td>0</td><td>0</td><td>1.6393321852996103</td><td>0.06961052725212083</td><td>--</td><td>0.23045982117996405</td><td>0.055796928441767236</td><td>0.0013</td><td>--</td><td>--</td><td>0.35230938</td><td>0.0287</td><td>1.2431162915274412</td><td>0.5665</td><td>3.1870658</td><td>0.6</td><td>7.6635137</td><td>0.49215224</td><td>8.537721</td><td>0.681451</td><td>8.628327</td><td>0.6728512</td><td>7.33792</td><td>2.0600033</td><td>469.98748675165507</td><td>883.5858782972763</td><td>21452.62614256595</td><td>15940.808637489115</td><td>13746.875559893173</td><td>--</td><td>--</td><td>--</td><td>--</td><td>--</td><td>--</td><td>--</td><td>--</td><td>--</td><td>--</td><td>--</td><td>--</td><td>--</td><td>--</td><td>--</td><td>--</td><td>--</td><td>--</td><td>--</td><td>--</td><td>--</td><td>--</td><td>--</td><td>--</td><td>--</td><td>--</td><td>--</td><td>--</td><td>--</td><td>--</td><td>--</td><td>--</td><td>--</td><td></td><td>--</td><td>--</td><td>--</td><td>--</td><td>--</td><td>--</td></tr>\n",
       "<tr><td>40114</td><td>250.119712</td><td>-45.69581</td><td>338.914171</td><td>0.565544</td><td>0.95</td><td>--</td><td>0.87</td><td>ClassI</td><td>False</td><td>False</td><td>0.327441549563956</td><td>0.327441549563956</td><td>--</td><td>--</td><td>EnvIII</td><td>G338.9+0.4</td><td>--</td><td>--</td><td>--</td><td>--</td><td>--</td><td>SSTGLMC G338.9141+00.5655</td><td>9.913</td><td>0.055</td><td>8.975</td><td>0.051</td><td>7.939</td><td>0.05</td><td>7.061</td><td>0.103</td><td>0</td><td>2</td><td>2</td><td>2</td><td>2</td><td>16402869-4541448</td><td></td><td>378090526</td><td>--</td><td></td><td>J164028.73-454144.6</td><td>--</td><td>True</td><td>G338</td><td>1.9390097371499155</td><td>2.705295657341805</td><td>5315.812715237521</td><td>2565.011752531303</td><td>825.2952229785908</td><td>--</td><td>50.975</td><td>53.16674</td><td>250.119570</td><td>-45.695794</td><td>12.883</td><td>0.1</td><td>0.64</td><td>0.67</td><td>0.19</td><td>0.66</td><td>0.610</td><td>0.671</td><td>102</td><td>1</td><td>--</td><td>--</td><td>--</td><td>--</td><td>--</td><td>--</td><td>15.916</td><td>0.0730</td><td>1</td><td>1</td><td>1</td><td>0</td><td>--</td><td>0.06961052725212083</td><td>--</td><td>0.23045982117996405</td><td>--</td><td>--</td><td>--</td><td>--</td><td>--</td><td>--</td><td>0.441887542292909</td><td>0.0296</td><td>4.7053394</td><td>0.4</td><td>30.035036</td><td>1.5155293</td><td>46.019485</td><td>2.1532052</td><td>75.984764</td><td>3.4855397</td><td>92.89092</td><td>8.777765</td><td>1939.0097371499155</td><td>2705.295657341805</td><td>38573.28072028019</td><td>31324.595785133748</td><td>19783.786744836703</td><td>--</td><td>--</td><td>--</td><td>--</td><td>--</td><td>--</td><td>--</td><td>--</td><td>--</td><td>--</td><td>--</td><td>--</td><td>--</td><td>--</td><td>--</td><td>--</td><td>--</td><td>--</td><td>--</td><td>--</td><td>--</td><td>--</td><td>--</td><td>--</td><td>--</td><td>--</td><td>--</td><td>--</td><td>--</td><td>--</td><td>--</td><td>--</td><td>--</td><td></td><td>--</td><td>--</td><td>--</td><td>--</td><td>--</td><td>--</td></tr>\n",
       "<tr><td>40136</td><td>250.139041</td><td>-45.69148</td><td>338.926363</td><td>0.558306</td><td>--</td><td>--</td><td>0.6</td><td>uncertain</td><td>False</td><td>False</td><td>--</td><td>--</td><td>--</td><td>--</td><td>EnvIII</td><td>G338.9+0.4</td><td>--</td><td>--</td><td>--</td><td>--</td><td>--</td><td>SSTGLMC G338.9263+00.5583</td><td>13.205</td><td>0.287</td><td>11.925</td><td>0.167</td><td>--</td><td>--</td><td>--</td><td>--</td><td>0</td><td>1</td><td>3</td><td>0</td><td>0</td><td></td><td></td><td>378090974</td><td>5943344962174283136</td><td></td><td></td><td>--</td><td>True</td><td>G338</td><td>8.544916756342769</td><td>18.827023571753713</td><td>29641.5907737859</td><td>18263.162754841636</td><td>4246.465937691872</td><td>--</td><td>59.507</td><td>62.065804</td><td>250.139080</td><td>-45.691530</td><td>15.437</td><td>0.4</td><td>4.89</td><td>4.48</td><td>-4.63</td><td>4.45</td><td>-1.562</td><td>4.699</td><td>102</td><td>1</td><td>17.980</td><td>0.0743</td><td>17.522</td><td>0.0868</td><td>16.904</td><td>0.0681</td><td>16.180</td><td>0.2535</td><td>0</td><td>0</td><td>0</td><td>0</td><td>--</td><td>0.06961052725212083</td><td>--</td><td>0.23045982117996405</td><td>0.20427268254726136</td><td>0.0163</td><td>0.14553117325134074</td><td>0.0099</td><td>0.26848754</td><td>0.0168</td><td>0.3465067970291709</td><td>0.0806</td><td>0.44770423</td><td>0.2</td><td>1.4481983</td><td>0.38131458</td><td>3.0404785</td><td>0.46583474</td><td>--</td><td>--</td><td>--</td><td>--</td><td>8544.916756342769</td><td>18827.023571753714</td><td>215089.1054975444</td><td>223034.53014940614</td><td>101795.30208269286</td><td>--</td><td>--</td><td>--</td><td>--</td><td>--</td><td>--</td><td>--</td><td>--</td><td>--</td><td>--</td><td>--</td><td>--</td><td>--</td><td>--</td><td>--</td><td>--</td><td>--</td><td>--</td><td>--</td><td>--</td><td>--</td><td>--</td><td>--</td><td>--</td><td>--</td><td>--</td><td>--</td><td>--</td><td>--</td><td>--</td><td>--</td><td>--</td><td>--</td><td></td><td>--</td><td>--</td><td>--</td><td>--</td><td>--</td><td>--</td></tr>\n",
       "<tr><td>40135</td><td>250.13863</td><td>-45.685984</td><td>338.930289</td><td>0.562164</td><td>--</td><td>--</td><td>0.83</td><td>uncertain</td><td>False</td><td>False</td><td>--</td><td>--</td><td>--</td><td>--</td><td>EnvIII</td><td>G338.9+0.4</td><td>--</td><td>--</td><td>--</td><td>--</td><td>--</td><td>SSTGLMC G338.9302+00.5621</td><td>11.995</td><td>0.071</td><td>10.716</td><td>0.076</td><td>9.639</td><td>0.093</td><td>--</td><td>--</td><td>0</td><td>2</td><td>3</td><td>2</td><td>0</td><td></td><td></td><td>378091100</td><td>--</td><td></td><td></td><td>--</td><td>True</td><td>G338</td><td>1.522641424342413</td><td>2.7192289906095826</td><td>6790.02114009461</td><td>3873.0096000448193</td><td>2338.397905368877</td><td>--</td><td>82.988</td><td>86.55673</td><td>250.138542</td><td>-45.685939</td><td>15.815</td><td>0.3</td><td>22.50</td><td>3.69</td><td>16.47</td><td>3.84</td><td>-15.332</td><td>3.505</td><td>101</td><td>0</td><td>--</td><td>--</td><td>--</td><td>--</td><td>--</td><td>--</td><td>--</td><td>--</td><td>1</td><td>1</td><td>1</td><td>1</td><td>2.078053378463646</td><td>0.06961052725212083</td><td>1.609266977076151</td><td>0.23045982117996405</td><td>--</td><td>--</td><td>--</td><td>--</td><td>--</td><td>--</td><td>--</td><td>--</td><td>0.3160759</td><td>0.1</td><td>4.4139585</td><td>0.28751475</td><td>9.25853</td><td>0.6455488</td><td>15.875472</td><td>1.3545127</td><td>--</td><td>--</td><td>1522.6414243424128</td><td>2719.2289906095825</td><td>49270.62061135906</td><td>47298.20831176325</td><td>56055.53527551535</td><td>--</td><td>--</td><td>--</td><td>--</td><td>--</td><td>--</td><td>--</td><td>--</td><td>--</td><td>--</td><td>--</td><td>--</td><td>--</td><td>--</td><td>--</td><td>--</td><td>--</td><td>--</td><td>--</td><td>--</td><td>--</td><td>--</td><td>--</td><td>--</td><td>--</td><td>--</td><td>--</td><td>--</td><td>--</td><td>--</td><td>--</td><td>--</td><td>--</td><td></td><td>--</td><td>--</td><td>--</td><td>--</td><td>--</td><td>--</td></tr>\n",
       "</table></div>"
      ],
      "text/plain": [
       "<Table length=384>\n",
       "SPICY     ra        dec     ... Disk mass Median Disk mass MAD\n",
       "         deg        deg     ...                               \n",
       "int64  float64    float64   ...     float64         float64   \n",
       "----- ---------- ---------- ... ---------------- -------------\n",
       "73642 271.576385 -21.618896 ...               --            --\n",
       "73650 271.580146 -21.631193 ...               --            --\n",
       "73653 271.581761 -21.626881 ...               --            --\n",
       "73659 271.587379 -21.627898 ...               --            --\n",
       "73662 271.589849 -21.638591 ...               --            --\n",
       "73668 271.592338 -21.640527 ...               --            --\n",
       "73673 271.598592 -21.619073 ...               --            --\n",
       "73675 271.600004 -21.611082 ...               --            --\n",
       "73676 271.600214  -21.60446 ...               --            --\n",
       "  ...        ...        ... ...              ...           ...\n",
       "40362 250.310797 -47.116839 ...               --            --\n",
       "40365 250.312044 -47.115284 ...               --            --\n",
       "40380 250.324384 -47.119003 ...               --            --\n",
       "40344 250.298867 -47.118547 ...               --            --\n",
       "40382 250.324538  -47.13889 ...               --            --\n",
       "40328 250.287375 -47.118255 ...               --            --\n",
       "40141 250.142678 -45.713557 ...               --            --\n",
       "40114 250.119712  -45.69581 ...               --            --\n",
       "40136 250.139041  -45.69148 ...               --            --\n",
       "40135  250.13863 -45.685984 ...               --            --"
      ]
     },
     "execution_count": 30,
     "metadata": {},
     "output_type": "execute_result"
    }
   ],
   "source": [
    "tb"
   ]
  },
  {
   "cell_type": "code",
   "execution_count": null,
   "id": "3295f4b1-4139-4727-a676-7656e7420a06",
   "metadata": {},
   "outputs": [],
   "source": []
  },
  {
   "cell_type": "code",
   "execution_count": null,
   "id": "cccc37b5-65da-47d4-a0ed-9f615408673f",
   "metadata": {},
   "outputs": [],
   "source": []
  },
  {
   "cell_type": "code",
   "execution_count": null,
   "id": "a023aacf-4233-43f6-b559-7dc2340e313d",
   "metadata": {},
   "outputs": [],
   "source": []
  },
  {
   "cell_type": "code",
   "execution_count": null,
   "id": "97897ad3-8518-41d1-b480-eb9b178eb461",
   "metadata": {},
   "outputs": [],
   "source": []
  }
 ],
 "metadata": {
  "kernelspec": {
   "display_name": "Python 3",
   "language": "python",
   "name": "python3"
  },
  "language_info": {
   "codemirror_mode": {
    "name": "ipython",
    "version": 3
   },
   "file_extension": ".py",
   "mimetype": "text/x-python",
   "name": "python",
   "nbconvert_exporter": "python",
   "pygments_lexer": "ipython3",
   "version": "3.8.8"
  }
 },
 "nbformat": 4,
 "nbformat_minor": 5
}
