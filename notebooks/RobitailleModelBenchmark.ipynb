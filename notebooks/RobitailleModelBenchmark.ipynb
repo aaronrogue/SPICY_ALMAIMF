{
 "cells": [
  {
   "cell_type": "markdown",
   "id": "matched-judgment",
   "metadata": {},
   "source": [
    "# Benchmark Robitaille model grid against a well-sampled & tested SED\n",
    "\n",
    "We're using the SED from https://ui.adsabs.harvard.edu/abs/2021A%26A...646A..18Z / https://www.aanda.org/articles/aa/abs/2021/02/aa39536-20/aa39536-20.html as our test case.\n",
    "\n"
   ]
  },
  {
   "cell_type": "code",
   "execution_count": 1,
   "id": "acknowledged-genetics",
   "metadata": {},
   "outputs": [
    {
     "name": "stdout",
     "output_type": "stream",
     "text": [
      "/blue/adamginsburg/adamginsburg/SPICY_ALMAIMF\n"
     ]
    }
   ],
   "source": [
    "cd  /blue/adamginsburg/adamginsburg/SPICY_ALMAIMF/"
   ]
  },
  {
   "cell_type": "code",
   "execution_count": null,
   "id": "cordless-classroom",
   "metadata": {},
   "outputs": [],
   "source": [
    "import imp, table_loading\n",
    "imp.reload(table_loading)"
   ]
  },
  {
   "cell_type": "code",
   "execution_count": null,
   "id": "random-silver",
   "metadata": {},
   "outputs": [],
   "source": [
    "from table_loading import *"
   ]
  },
  {
   "cell_type": "code",
   "execution_count": null,
   "id": "handmade-killer",
   "metadata": {},
   "outputs": [],
   "source": [
    "tbl = Table.read('SPICY_withAddOns.fits')"
   ]
  },
  {
   "cell_type": "code",
   "execution_count": null,
   "id": "serial-child",
   "metadata": {},
   "outputs": [],
   "source": [
    "# wavelength, flux, eflux, aperture\n",
    "data = [\n",
    "    [0.9, 0.062, 0.019, 24],\n",
    "    [1.25, 2.2, 0.2, 12],\n",
    "    [1.65, 8.2, 0.8, 12],\n",
    "    [2.20, 17.1, 1.7, 12],\n",
    "    [3.6, 18.3, 0.8, 12],\n",
    "    [4.5, 17.0, 0.8, 12],\n",
    "    [4.6, 17.96, 0.5, 12],\n",
    "    [5.8, 12.5, 0.7, 12],\n",
    "    [8.0, 6.8, 0.5, 12],\n",
    "    [11.6, 4.5, 0.5, 8],\n",
    "    [24, 160.6, 16.0, 30],\n",
    "    [65, 4398, 274, 90],\n",
    "    [70, 5555, 1000, 120],\n",
    "    [100, 11000, 3000, 125],\n",
    "    [160, 19000, 4000, 80],\n",
    "    [250, 23700, 5000, 90],\n",
    "    [350, 15000, 3000, 90],\n",
    "    [450, 6700, 2500, 60],\n",
    "    [500, 6200, 2000, 90],\n",
    "    [850, 1000, 300, 60],\n",
    "    [1110, 238, 45, 5],\n",
    "    [1300, 120, 30, 5],\n",
    "    [2900, 14.5, 3.0, 5],\n",
    "    [8100, 1.10, 0.15, 5],\n",
    "    [10300, 0.65, 0.1, 5],\n",
    "    [40000, 0.05, 0.01, 5],\n",
    "    [64000, 0.047, 0.02, 5],\n",
    "]"
   ]
  },
  {
   "cell_type": "markdown",
   "id": "internal-distributor",
   "metadata": {},
   "source": [
    "A screenshot of the table, so we can cross-check with the transcribed data above:"
   ]
  },
  {
   "cell_type": "code",
   "execution_count": null,
   "id": "finnish-trainer",
   "metadata": {},
   "outputs": [],
   "source": [
    "from IPython.display import Image\n",
    "\n",
    "Image('sed.png')"
   ]
  },
  {
   "cell_type": "code",
   "execution_count": null,
   "id": "hydraulic-apartment",
   "metadata": {},
   "outputs": [],
   "source": [
    "cb26tbl = Table(rows=data,\n",
    "                names=['wavelength', 'flux', 'eflux', 'aperture'],\n",
    "                units=(u.um, u.mJy, u.mJy, u.arcsec)\n",
    "               )\n",
    "cb26tbl"
   ]
  },
  {
   "cell_type": "code",
   "execution_count": null,
   "id": "blocked-creator",
   "metadata": {},
   "outputs": [],
   "source": [
    "cb26tbl['aperture'].quantity"
   ]
  },
  {
   "cell_type": "code",
   "execution_count": null,
   "id": "simplified-complaint",
   "metadata": {},
   "outputs": [],
   "source": [
    "cb26tbl['flux']"
   ]
  },
  {
   "cell_type": "code",
   "execution_count": null,
   "id": "actual-october",
   "metadata": {},
   "outputs": [],
   "source": [
    "fits = {geom:\n",
    "        fit_a_source(data=cb26tbl['flux'].quantity,\n",
    "             error=cb26tbl['eflux'].quantity,\n",
    "             valid=np.ones(len(cb26tbl)), aperture_size=cb26tbl['aperture'].quantity,\n",
    "             filters=cb26tbl['wavelength'].quantity,\n",
    "                   av_range=[1,30],\n",
    "                   distance_range=[110,170]*u.pc,\n",
    "                     geometry=geom,\n",
    "                  )\n",
    "        for geom in geometries}"
   ]
  },
  {
   "cell_type": "code",
   "execution_count": null,
   "id": "refined-attack",
   "metadata": {},
   "outputs": [],
   "source": [
    "%matplotlib inline\n",
    "import pylab as pl\n",
    "pl.rcParams['font.size'] = 16"
   ]
  },
  {
   "cell_type": "code",
   "execution_count": null,
   "id": "falling-product",
   "metadata": {},
   "outputs": [],
   "source": [
    "pl.style.use('dark_background')"
   ]
  },
  {
   "cell_type": "code",
   "execution_count": null,
   "id": "hollow-powder",
   "metadata": {},
   "outputs": [],
   "source": [
    "%run plot_fit.py"
   ]
  },
  {
   "cell_type": "markdown",
   "id": "visible-spider",
   "metadata": {},
   "source": [
    "`plot_fit` will show the default aperture, 3\", as a solid line by default.\n",
    "\n",
    "It also shows the per-aperture convolved flux as squares with size scaled by aperture size."
   ]
  },
  {
   "cell_type": "code",
   "execution_count": null,
   "id": "thirty-proposal",
   "metadata": {},
   "outputs": [],
   "source": [
    "fit = fits['s-u-hmi']\n",
    "plot_fit({'s-u-hmi': fit}, ['s-u-hmi'], chi2limit=1000,)"
   ]
  },
  {
   "cell_type": "code",
   "execution_count": null,
   "id": "acute-aging",
   "metadata": {},
   "outputs": [],
   "source": [
    "okgeo = []\n",
    "for geom in geometries:\n",
    "    # we impose an _absolute_ chi^2 limit (the fitter uses a _relative_, delta chi2 limit)\n",
    "    print(f\"{geom}: {np.nanmin(fits[geom].chi2):12.1f}\")\n",
    "    if np.nanmin(fits[geom].chi2) < 1000:\n",
    "        okgeo.append(geom)"
   ]
  },
  {
   "cell_type": "code",
   "execution_count": null,
   "id": "expensive-sucking",
   "metadata": {},
   "outputs": [],
   "source": [
    "plot_fit(fits, okgeo, chi2limit=1000,)"
   ]
  },
  {
   "cell_type": "code",
   "execution_count": null,
   "id": "proof-prior",
   "metadata": {},
   "outputs": [],
   "source": [
    "Image('fitpars.png', width=600)"
   ]
  },
  {
   "cell_type": "markdown",
   "id": "charitable-columbia",
   "metadata": {},
   "source": [
    "The Robitaille models favor smaller, hotter stars - but similar-ish luminosities."
   ]
  },
  {
   "cell_type": "code",
   "execution_count": null,
   "id": "convertible-terror",
   "metadata": {},
   "outputs": [],
   "source": [
    "from astropy import constants"
   ]
  },
  {
   "cell_type": "code",
   "execution_count": null,
   "id": "legendary-montana",
   "metadata": {},
   "outputs": [],
   "source": [
    "L_rob = 0.2 *u.L_sun\n",
    "L_paper = ((4000*u.K)**4 * 4*np.pi*(2*u.R_sun)**2 * constants.sigma_sb).to(u.L_sun)\n",
    "print(f\"Robitaille: {L_rob:0.1f}, Paper: {L_paper:0.1f}, ratio rob/paper: {L_rob/L_paper:0.2f}\")"
   ]
  },
  {
   "cell_type": "code",
   "execution_count": null,
   "id": "incorrect-warrant",
   "metadata": {},
   "outputs": [],
   "source": [
    "plot_fit(fits, ['spubhmi'], chi2limit=1000,)"
   ]
  },
  {
   "cell_type": "markdown",
   "id": "painted-grocery",
   "metadata": {},
   "source": [
    "# Look at A_V and distance vs. chi^2\n",
    "\n",
    "The above plots tell us that:\n",
    "\n",
    "1. Most models are \"pegged\" to the near near/far distance and the min/max A_V.  Models at these extremes are probably not useful (though the distance doesn't matter so much in this case).\n",
    "2. There seems to be a preferred A_V of ~15 (close to the ~13 from the paper)."
   ]
  },
  {
   "cell_type": "code",
   "execution_count": null,
   "id": "graphic-saudi",
   "metadata": {},
   "outputs": [],
   "source": [
    "geom = 'spubhmi'\n",
    "chi2limit=1000\n",
    "pars, data = datafunction(geom, chi2limit, fits)\n",
    "fit = fits[geom]"
   ]
  },
  {
   "cell_type": "code",
   "execution_count": null,
   "id": "bronze-sheet",
   "metadata": {},
   "outputs": [],
   "source": [
    "pl.scatter(10**fit.sc, fit.chi2, alpha=0.1)\n",
    "pl.ylim(0,5000)"
   ]
  },
  {
   "cell_type": "code",
   "execution_count": null,
   "id": "suffering-glory",
   "metadata": {},
   "outputs": [],
   "source": [
    "pl.scatter(fit.av, fit.chi2, alpha=0.1)\n",
    "pl.ylim(0,5000)"
   ]
  },
  {
   "cell_type": "markdown",
   "id": "olympic-checklist",
   "metadata": {},
   "source": [
    "This is a sanity check to show that the fit is significantly limiting the mass:"
   ]
  },
  {
   "cell_type": "code",
   "execution_count": null,
   "id": "middle-genome",
   "metadata": {},
   "outputs": [],
   "source": [
    "bins = np.logspace(-3,3)\n",
    "pl.hist(pars['Sphere Masses'][:,9], bins=bins)\n",
    "pl.hist(data['Sphere Masses'][:,9], bins=bins)\n",
    "\n",
    "pl.loglog()"
   ]
  },
  {
   "cell_type": "code",
   "execution_count": null,
   "id": "killing-paradise",
   "metadata": {},
   "outputs": [],
   "source": [
    "# need to check aperture sizes\n",
    "robitaille_modeldir='/blue/adamginsburg/richardson.t/research/flux/robitaille_models/'\n",
    "model_dir = f'{robitaille_modeldir}/{geom}'\n",
    "sedcube = SEDCube.read(f\"{model_dir}/flux.fits\",)\n",
    "sedcube.apertures"
   ]
  },
  {
   "cell_type": "code",
   "execution_count": null,
   "id": "framed-herald",
   "metadata": {},
   "outputs": [],
   "source": [
    "sedcube.apertures[5], sedcube.apertures[9]"
   ]
  },
  {
   "cell_type": "markdown",
   "id": "frozen-shower",
   "metadata": {},
   "source": [
    "# Disk and Envelope parameters"
   ]
  },
  {
   "cell_type": "code",
   "execution_count": null,
   "id": "responsible-german",
   "metadata": {},
   "outputs": [],
   "source": [
    "diskpars = ['disk.mass', 'disk.rmax', 'disk.beta', 'disk.p', 'disk.h100', 'envelope.rho_0', 'envelope.rc', 'envelope.rmin', 'cavity.power', ]"
   ]
  },
  {
   "cell_type": "markdown",
   "id": "lasting-arctic",
   "metadata": {},
   "source": [
    "# spubhmi grid favors a much lower disk mass than the 0.076 Msun from Zhang+"
   ]
  },
  {
   "cell_type": "code",
   "execution_count": null,
   "id": "fixed-greensboro",
   "metadata": {},
   "outputs": [],
   "source": [
    "#bins = np.logspace(-3,3)\n",
    "bins = np.logspace(-4, -1)\n",
    "pl.hist(pars['disk.mass'], bins=bins)\n",
    "pl.hist(data['disk.mass'], bins=bins)\n",
    "pl.axvline(7.6e-2)\n",
    "pl.loglog()\n",
    "pl.xlabel(\"Disk Mass (M$_\\odot$)\")"
   ]
  },
  {
   "cell_type": "markdown",
   "id": "north-register",
   "metadata": {},
   "source": [
    "## Robitaille grid favors a moderately larger envelope mass (at least for spubhmi)\n",
    "\n",
    "S4.4 of the paper says M_env = 0.033 Msun within 900 AU and M_env = 0.22 Msun within 10^4 AU"
   ]
  },
  {
   "cell_type": "code",
   "execution_count": null,
   "id": "mineral-pollution",
   "metadata": {},
   "outputs": [],
   "source": [
    "# mass comparisons\n",
    "pl.figure(figsize=(12,12))\n",
    "pl.subplot(2,2,1)\n",
    "bins = np.logspace(-4, 2)\n",
    "pl.hist(pars['Sphere Masses'][:,5], bins=bins)\n",
    "pl.hist(data['Sphere Masses'][:,5], bins=bins, alpha=0.7)\n",
    "pl.axvline(3.3e-2)\n",
    "pl.loglog()\n",
    "\n",
    "pl.subplot(2,2,2)\n",
    "pl.hist(pars['Line-of-Sight Masses'][:,5], bins=bins)\n",
    "pl.hist(data['Line-of-Sight Masses'][:,5], bins=bins, alpha=0.7)\n",
    "pl.axvline(3.3e-2)\n",
    "pl.loglog()\n",
    "\n",
    "pl.subplot(2,2,3)\n",
    "pl.hist(pars['Sphere Masses'][:,9], bins=bins)\n",
    "pl.hist(data['Sphere Masses'][:,9], bins=bins, alpha=0.7)\n",
    "pl.axvline(0.22)\n",
    "pl.loglog()\n",
    "\n",
    "pl.subplot(2,2,4)\n",
    "pl.hist(pars['Line-of-Sight Masses'][:,9], bins=bins)\n",
    "pl.hist(data['Line-of-Sight Masses'][:,9], bins=bins, alpha=0.7)\n",
    "pl.axvline(0.22)\n",
    "pl.loglog()"
   ]
  },
  {
   "cell_type": "code",
   "execution_count": null,
   "id": "turkish-oriental",
   "metadata": {},
   "outputs": [],
   "source": [
    "#bins = np.logspace(-3,3)\n",
    "bins = np.linspace(40, 1000)\n",
    "pl.hist(pars['disk.rmax'], bins=bins)\n",
    "pl.hist(data['disk.rmax'], bins=bins)\n",
    "pl.axvline(172)\n",
    "pl.semilogy()"
   ]
  },
  {
   "cell_type": "code",
   "execution_count": null,
   "id": "royal-paraguay",
   "metadata": {},
   "outputs": [],
   "source": [
    "#bins = np.logspace(-3,3)\n",
    "bins = np.linspace(-2,0)\n",
    "pl.hist(pars['disk.p'], bins=bins)\n",
    "pl.hist(data['disk.p'], bins=bins)\n",
    "pl.axvline(-0.87)\n",
    "pl.semilogy()"
   ]
  },
  {
   "cell_type": "code",
   "execution_count": null,
   "id": "balanced-amazon",
   "metadata": {},
   "outputs": [],
   "source": [
    "#bins = np.logspace(-3,3)\n",
    "bins = np.linspace(0,90)\n",
    "pl.hist(pars['inclination'], bins=bins)\n",
    "pl.hist(data['inclination'], bins=bins)\n",
    "pl.axvline(88)\n",
    "pl.semilogy()"
   ]
  },
  {
   "cell_type": "code",
   "execution_count": null,
   "id": "anticipated-parts",
   "metadata": {},
   "outputs": [],
   "source": [
    "Image('fitpars.png', width=600)"
   ]
  }
 ],
 "metadata": {
  "kernelspec": {
   "display_name": "Py 3.9",
   "language": "python",
   "name": "python39"
  },
  "language_info": {
   "codemirror_mode": {
    "name": "ipython",
    "version": 3
   },
   "file_extension": ".py",
   "mimetype": "text/x-python",
   "name": "python",
   "nbconvert_exporter": "python",
   "pygments_lexer": "ipython3",
   "version": "3.9.2"
  }
 },
 "nbformat": 4,
 "nbformat_minor": 5
}
