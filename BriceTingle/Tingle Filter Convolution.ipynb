{
 "cells": [
  {
   "cell_type": "markdown",
   "id": "679c9fa6-ec10-4b2c-9541-a7ff07fb071f",
   "metadata": {},
   "source": [
    "# ALMA-IMF+SPICY tool: Filter Convolution\n",
    "Workspace to convolve SED filters into a robitaille_models folder. Search for \"!filepath!\" to locate files/filepath references if they need to be changed."
   ]
  },
  {
   "cell_type": "code",
   "execution_count": null,
   "id": "dc194051-695b-47c2-b5be-367098645bc4",
   "metadata": {},
   "outputs": [],
   "source": [
    "import numpy as np\n",
    "from sedfitter.filter import Filter\n",
    "from sedfitter.convolve import convolve_model_dir\n",
    "from astropy import units as u\n",
    "from astroquery.svo_fps import SvoFps\n",
    "from glob import glob\n",
    "import os"
   ]
  },
  {
   "cell_type": "code",
   "execution_count": null,
   "id": "7d369d97-cfdf-4bdc-93ea-9e29feb91347",
   "metadata": {},
   "outputs": [],
   "source": [
    "#define ALMA bands 3 and 6\n",
    "almaimf_bandends_1mm = [[216.10085679, 216.36181569],\n",
    "                        [217.05104378, 217.31175857],\n",
    "                        [219.90488464, 220.04866835],\n",
    "                        [218.13102322, 218.39222624],\n",
    "                        [219.51976276, 219.66379059],\n",
    "                        [230.31532951, 230.81137113],\n",
    "                        [231.06503709, 231.56181105],\n",
    "                        [231.52507012, 233.42623749]]*u.GHz\n",
    "\n",
    "nu_1mm = np.linspace(almaimf_bandends_1mm.min(), almaimf_bandends_1mm.max(), 5000)\n",
    "response_1mm = np.zeros(nu_1mm.size, dtype='bool')\n",
    "for start, stop in almaimf_bandends_1mm:\n",
    "    response_1mm |= (nu_1mm > start) & (nu_1mm < stop)\n",
    "\n",
    "almaimf_bandends_3mm = [[ 93.13410936,  93.25141259],\n",
    "                        [ 91.75059068,  92.68755174],\n",
    "                        [102.15273354, 103.0896946 ],\n",
    "                        [104.55323851, 105.49019957]]*u.GHz\n",
    "\n",
    "nu_3mm = np.linspace(almaimf_bandends_3mm.min(), almaimf_bandends_3mm.max(), 5000)\n",
    "response_3mm = np.zeros(nu_3mm.size, dtype='bool')\n",
    "\n",
    "for start, stop in almaimf_bandends_3mm:\n",
    "    response_3mm |= (nu_3mm > start) & (nu_3mm < stop)\n",
    "\n",
    "def convolve(filternames, dirs, includeALMA=True):\n",
    "    filtercurves = {filtername: SvoFps.get_transmission_data(filtername) for filtername in filternames}\n",
    "    wavelengths = [np.average(filtercurves[filtername]['Wavelength'],weights=filtercurves[filtername]['Transmission']) \n",
    "                   for filtername in filternames]\n",
    "\n",
    "    filterfreqs = {filtername: u.Quantity(filtercurves[filtername]['Wavelength'], u.AA).to(u.Hz, u.spectral()) for filtername in filternames}\n",
    "    filtertrans = {filtername: np.array(filtercurves[filtername]['Transmission'])[np.argsort(filterfreqs[filtername])]\n",
    "                   for filtername in filternames}\n",
    "    filterfreqs = {filtername: np.sort(filterfreqs[filtername]) for filtername in filternames}\n",
    "\n",
    "    sed_filters = [Filter(name=filtername,central_wavelength=wl*u.AA,\n",
    "                      nu=filterfreqs[filtername],response=filtertrans[filtername])\n",
    "                   for filtername, wl in zip(filternames, wavelengths)]\n",
    "                                                                        \n",
    "    if includeALMA:\n",
    "        sed_filters.append(Filter(name='user_filters/ALMA-IMF_1mm',central_wavelength=(228.15802*u.GHz).to(u.mm, u.spectral()),\n",
    "                                  nu=nu_1mm,response=response_1mm.astype(float),))\n",
    "        sed_filters.append(Filter(name='user_filters/ALMA-IMF_3mm',central_wavelength=(99.68314596*u.GHz).to(u.mm, u.spectral()),\n",
    "                                  nu=nu_3mm,response=response_3mm.astype(float),))\n",
    "\n",
    "    for filterfunc in sed_filters:\n",
    "        filterfunc.normalize()\n",
    "\n",
    "    for model_dir in dirs:\n",
    "        convolve_model_dir(model_dir, sed_filters,overwrite=True)"
   ]
  },
  {
   "cell_type": "code",
   "execution_count": null,
   "id": "bb82b116-c0a9-46ae-971c-50ee0a068217",
   "metadata": {},
   "outputs": [],
   "source": [
    "#copy theo's directory to mine\n",
    "import shutil\n",
    "#shutil.rmtree('/blue/adamginsburg/adamginsburg/ALMA_IMF/SPICY_ALMAIMF/BriceTingle/robitaille_models-1.2/')\n",
    "shutil.copytree('/blue/adamginsburg/richardson.t/research/flux/robitaille_models-1.2/','/blue/adamginsburg/adamginsburg/ALMA_IMF/SPICY_ALMAIMF/BriceTingle/robitaille_models-1.2/') # !filepath!"
   ]
  },
  {
   "cell_type": "code",
   "execution_count": null,
   "id": "d9d20e3f-3ce5-4705-adf3-52669bfc41f0",
   "metadata": {},
   "outputs": [],
   "source": [
    "dirs_tingle = glob('/blue/adamginsburg/adamginsburg/ALMA_IMF/SPICY_ALMAIMF/BriceTingle/robitaille_models-1.2/s*') # !filepath!"
   ]
  },
  {
   "cell_type": "code",
   "execution_count": null,
   "id": "746cac29-d2ed-426b-82ea-225c94e223d4",
   "metadata": {},
   "outputs": [],
   "source": [
    "#make any missing directories\n",
    "for model_dir in dirs_tingle:\n",
    "    if not os.path.exists(f'{model_dir}/convolved'):\n",
    "        os.makedirs(f'{model_dir}/convolved')\n",
    "    if not os.path.exists(f'{model_dir}/convolved/user_filters'):\n",
    "        os.makedirs(f'{model_dir}/convolved/user_filters') # !filepath!"
   ]
  },
  {
   "cell_type": "raw",
   "id": "85aa8115-d126-4270-84dc-47b9367cb3e6",
   "metadata": {},
   "source": [
    "#retrieve user-defined filters from the \"user_filters\" directory\n",
    "user_filters = glob('/blue/adamginsburg/adamginsburg/ALMA_IMF/SPICY_ALMAIMF/BriceTingle/robitaille_models-1.2/user_filters/*.txt')\n",
    "filters = []\n",
    "for filter_name in user_filters:\n",
    "    f = Filter.read(filter_name)\n",
    "    filters.append(f)\n",
    "\n",
    "#perform convolution\n",
    "for model_dir in dirs_tingle:\n",
    "    convolve_model_dir(model_dir,filters,overwrite=True,memmap=False)\n",
    "    os.system(f'mv {model_dir}/convolved/*.fits {model_dir}/convolved/user_filters')"
   ]
  },
  {
   "cell_type": "code",
   "execution_count": null,
   "id": "d08ebaea-8d69-4e17-878e-4a7d759b244b",
   "metadata": {},
   "outputs": [],
   "source": [
    "#retrieve and convolve R17 filters + other specific ones\n",
    "svo_filters = ['UKIRT/UKIDSS.J', 'UKIRT/UKIDSS.H', 'UKIRT/UKIDSS.K',\n",
    "               '2MASS/2MASS.J','2MASS/2MASS.H','2MASS/2MASS.Ks','Herschel/Pacs.blue',\n",
    "               'Herschel/Pacs.green','Herschel/Pacs.red','Herschel/SPIRE.PSW','Herschel/SPIRE.PMW',\n",
    "               'Herschel/SPIRE.PLW','Paranal/VISTA.Y','Paranal/VISTA.Z','Paranal/VISTA.J',\n",
    "               'Paranal/VISTA.H','Paranal/VISTA.Ks','Spitzer/IRAC.I1','Spitzer/IRAC.I2',\n",
    "               'Spitzer/IRAC.I3','Spitzer/IRAC.I4','Spitzer/MIPS.24mu','Spitzer/MIPS.70mu',\n",
    "               'Spitzer/MIPS.160mu','WISE/WISE.W1','WISE/WISE.W2','WISE/WISE.W3','WISE/WISE.W4']\n",
    "for model_dir in dirs_tingle:\n",
    "    for name in svo_filters:\n",
    "        instrument = name.split('/')[0]\n",
    "        if not os.path.exists(f'{model_dir}/convolved/{instrument}'):\n",
    "            os.system(f'mkdir {model_dir}/convolved/{instrument}') # !filepath!\n",
    "convolve(svo_filters,dirs_tingle,includeALMA=True)"
   ]
  },
  {
   "cell_type": "code",
   "execution_count": null,
   "id": "4127a735-b975-4300-8622-06a683b79116",
   "metadata": {},
   "outputs": [],
   "source": [
    "#retrieve and convolve JWST filters\n",
    "jwst_filters = SvoFps.get_filter_list('JWST')['filterID']\n",
    "for model_dir in dirs_tingle:\n",
    "    for name in jwst_filters:\n",
    "        instrument = name.split('/')[0]\n",
    "        if not os.path.exists(f'{model_dir}/convolved/{instrument}'):\n",
    "            os.system(f'mkdir {model_dir}/convolved/{instrument}') # !filepath!\n",
    "convolve(jwst_filters,dirs_tingle,includeALMA=False)"
   ]
  }
 ],
 "metadata": {
  "kernelspec": {
   "display_name": "Python 3 (ipykernel)",
   "language": "python",
   "name": "python3"
  },
  "language_info": {
   "codemirror_mode": {
    "name": "ipython",
    "version": 3
   },
   "file_extension": ".py",
   "mimetype": "text/x-python",
   "name": "python",
   "nbconvert_exporter": "python",
   "pygments_lexer": "ipython3",
   "version": "3.9.13"
  }
 },
 "nbformat": 4,
 "nbformat_minor": 5
}
