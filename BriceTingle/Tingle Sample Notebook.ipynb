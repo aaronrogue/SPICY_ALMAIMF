{
 "cells": [
  {
   "cell_type": "markdown",
   "id": "5f3660d5-d292-4039-83a8-267b510b607a",
   "metadata": {},
   "source": [
    "# Tingle SED Fitting/Analysis Sample"
   ]
  },
  {
   "cell_type": "markdown",
   "id": "dbab5d82-fb21-467a-a090-f74740adae24",
   "metadata": {},
   "source": [
    "This notebook is set up to demonstrate fitting and plot creation for a single source. The Tingle SED Fitter notebook is set up to fit sources per-region."
   ]
  },
  {
   "cell_type": "code",
   "execution_count": 1,
   "id": "63ed0bf3-df26-4241-a87b-84368faa2832",
   "metadata": {},
   "outputs": [],
   "source": [
    "from plot_fit import *\n",
    "from table_loading import *"
   ]
  },
  {
   "cell_type": "markdown",
   "id": "736c8589-b336-47d9-b188-ed9cac543b97",
   "metadata": {},
   "source": [
    "## SED Fitting"
   ]
  },
  {
   "cell_type": "code",
   "execution_count": 2,
   "id": "1c5647da-2e55-4d50-8778-e89c9f58bae5",
   "metadata": {},
   "outputs": [],
   "source": [
    "# get rid of ALMA points for comparison?\n",
    "almaoverride = False\n",
    "\n",
    "# select SPICY source(s) of interest (must be in the ALMA-IMF+SPICY sample)\n",
    "sources_to_fit = [30416]"
   ]
  },
  {
   "cell_type": "code",
   "execution_count": null,
   "id": "0327a0f2-b956-4ecb-a232-bd6725a2e567",
   "metadata": {
    "tags": []
   },
   "outputs": [],
   "source": [
    "all_fitinfo = {}\n",
    "\n",
    "for spicyid in tqdm(sources_to_fit):\n",
    "    \n",
    "    fieldid = field_lookup(spicyid)\n",
    "    print(\"Field: \",fieldid)\n",
    "\n",
    "    # load table from Table Prep notebook\n",
    "    tbl = Table.read(f'/blue/adamginsburg/adamginsburg/SPICY_ALMAIMF/BriceTingle/Region_tables/Unfitted/{fieldid}', format='fits') # !filepath!\n",
    "\n",
    "    if almaoverride:\n",
    "        for x in ['ALMA-IMF_3mm_flux','ALMA-IMF_3mm_eflux','ALMA-IMF_1mm_flux','ALMA-IMF_1mm_eflux']:\n",
    "            tbl[x] = 0\n",
    "            tbl[x] = np.nan\n",
    "            tbl[x] = np.ma.masked\n",
    "\n",
    "    # define constant sizes, based on literature values\n",
    "    apertures = [2.4, 2.4, 2.4, 2.4, 6, 10, 13.5, 23, 30, 41, 3, 3]*u.arcsec\n",
    "    \n",
    "    # determine filters and add aperture sizes based on whether we're using UKDISS or VIRAC data\n",
    "    ukidss_fields = ['G10','G12','W43MM1','W43MM2','W43MM3','W51-E','W51IRS2']\n",
    "    virac_fields = ['G008','G327','G328','G333','G337','G338','G351','G353']\n",
    "    \n",
    "    if any(x in virac_fields for x in tbl['ALMAIMF_FIELDID']):\n",
    "        print(\"Grabbing VIRAC filters\")\n",
    "        sed_filters, wavelength_dict, filternames, zpts = get_filters(\"south\")\n",
    "        apertures = apertures.insert(0,[1.415, 1.415, 1.415, 1.415, 1.415]*u.arcsec)\n",
    "        hemisphere = \"south\"\n",
    "    elif any(x in ukidss_fields for x in tbl['ALMAIMF_FIELDID']):\n",
    "        print(\"Grabbing UKIDSS filters\")\n",
    "        sed_filters, wavelength_dict, filternames, zpts = get_filters(\"north\")\n",
    "        apertures = apertures.insert(0,[2, 2, 2]*u.arcsec)\n",
    "        hemisphere = \"north\"\n",
    "    print(\"Filters:\"+str(filternames))\n",
    "    print(\"Apertures:\"+str(apertures))\n",
    "\n",
    "    # read distance from table (in kpc)\n",
    "    regiondistance = np.nanmax(tbl['Distance'])\n",
    "    print(\"Region literature distance (kpc): \"+str(regiondistance))\n",
    "    \n",
    "    # infer allowable distance range (in kpc)\n",
    "    distance_range=[regiondistance-0.2, regiondistance+0.2]\n",
    "    print(\"Distance range (kpc):\"+str(distance_range))\n",
    "    \n",
    "    # determine appropriate extinction, using 2*region distance as a lower bound\n",
    "    av_range=[regiondistance*2,60]\n",
    "    print(\"Extinction range (kpc): \"+str(av_range))\n",
    "    \n",
    "    # make extinction law\n",
    "    extinction = make_extinction()\n",
    "    \n",
    "    # run fitting on each source in region, store data to an array\n",
    "    \n",
    "    tbl.add_index('SPICY')\n",
    "    rownum = tbl.loc_indices[spicyid]\n",
    "    \n",
    "    fits = full_source_fit(tbl, rownum, filternames, apertures, \n",
    "                           '/blue/adamginsburg/adamginsburg/SPICY_ALMAIMF/BriceTingle/robitaille_models', \n",
    "                           extinction, distance_range*u.kpc, av_range) # !filepath!\n",
    "    \n",
    "    # append fit data to data array\n",
    "    all_fitinfo[tbl['SPICY'][rownum]] = fits"
   ]
  },
  {
   "cell_type": "code",
   "execution_count": 4,
   "id": "e6ed7482-3a82-47d9-a0b4-3c149bb28c9c",
   "metadata": {},
   "outputs": [
    {
     "data": {
      "application/json": {
       "ascii": false,
       "bar_format": null,
       "colour": null,
       "elapsed": 0.0113067626953125,
       "initial": 0,
       "n": 0,
       "ncols": null,
       "nrows": 30,
       "postfix": null,
       "prefix": "",
       "rate": null,
       "total": 1,
       "unit": "it",
       "unit_divisor": 1000,
       "unit_scale": false
      },
      "application/vnd.jupyter.widget-view+json": {
       "model_id": "40f1ca6c42344146815df540da06e3a3",
       "version_major": 2,
       "version_minor": 0
      },
      "text/plain": [
       "  0%|          | 0/1 [00:00<?, ?it/s]"
      ]
     },
     "metadata": {},
     "output_type": "display_data"
    },
    {
     "name": "stdout",
     "output_type": "stream",
     "text": [
      "30416\n"
     ]
    },
    {
     "data": {
      "application/json": {
       "ascii": false,
       "bar_format": null,
       "colour": null,
       "elapsed": 0.013793468475341797,
       "initial": 0,
       "n": 0,
       "ncols": null,
       "nrows": 30,
       "postfix": null,
       "prefix": "",
       "rate": null,
       "total": 18,
       "unit": "it",
       "unit_divisor": 1000,
       "unit_scale": false
      },
      "application/vnd.jupyter.widget-view+json": {
       "model_id": "683b4737ec5642a2aa1430affb9afe9b",
       "version_major": 2,
       "version_minor": 0
      },
      "text/plain": [
       "  0%|          | 0/18 [00:00<?, ?it/s]"
      ]
     },
     "metadata": {},
     "output_type": "display_data"
    }
   ],
   "source": [
    "fitinfo_tbl = construct_fitinfo_tbl(all_fitinfo)"
   ]
  },
  {
   "cell_type": "code",
   "execution_count": 5,
   "id": "3fc50bc5-ccaf-4498-9c07-cc842104090e",
   "metadata": {},
   "outputs": [],
   "source": [
    "fitinfo_tbl.write(f'/blue/adamginsburg/adamginsburg/SPICY_ALMAIMF/BriceTingle/fit_results', format='fits', overwrite=True)"
   ]
  },
  {
   "cell_type": "markdown",
   "id": "ae8f202f-c02b-4811-8fc5-1a378263a947",
   "metadata": {},
   "source": [
    "## Using plot_fit"
   ]
  },
  {
   "cell_type": "code",
   "execution_count": 6,
   "id": "bc9667ad-48b3-4588-bbec-19540e830093",
   "metadata": {},
   "outputs": [],
   "source": [
    "fit_rslt = Table.read('/blue/adamginsburg/adamginsburg/SPICY_ALMAIMF/BriceTingle/fit_results')"
   ]
  },
  {
   "cell_type": "code",
   "execution_count": 7,
   "id": "987c1323-c29e-43cc-9283-2b021c909490",
   "metadata": {},
   "outputs": [
    {
     "data": {
      "application/json": {
       "ascii": false,
       "bar_format": null,
       "colour": null,
       "elapsed": 0.005969047546386719,
       "initial": 0,
       "n": 0,
       "ncols": null,
       "nrows": 30,
       "postfix": null,
       "prefix": "",
       "rate": null,
       "total": 1,
       "unit": "it",
       "unit_divisor": 1000,
       "unit_scale": false
      },
      "application/vnd.jupyter.widget-view+json": {
       "model_id": "f3621ebb9ec34de1a519671f31ded37b",
       "version_major": 2,
       "version_minor": 0
      },
      "text/plain": [
       "  0%|          | 0/1 [00:00<?, ?it/s]"
      ]
     },
     "metadata": {},
     "output_type": "display_data"
    }
   ],
   "source": [
    "fit_results = deconstruct_fitinfo_tbl(fit_rslt)"
   ]
  },
  {
   "cell_type": "code",
   "execution_count": null,
   "id": "e066304d-e101-4341-b421-e6f357c5de90",
   "metadata": {},
   "outputs": [
    {
     "data": {
      "application/json": {
       "ascii": false,
       "bar_format": null,
       "colour": null,
       "elapsed": 0.007646083831787109,
       "initial": 0,
       "n": 0,
       "ncols": null,
       "nrows": 30,
       "postfix": null,
       "prefix": "",
       "rate": null,
       "total": 1,
       "unit": "it",
       "unit_divisor": 1000,
       "unit_scale": false
      },
      "application/vnd.jupyter.widget-view+json": {
       "model_id": "30be9ac45ab44aefaf5ed7a16f7158bd",
       "version_major": 2,
       "version_minor": 0
      },
      "text/plain": [
       "  0%|          | 0/1 [00:00<?, ?it/s]"
      ]
     },
     "metadata": {},
     "output_type": "display_data"
    },
    {
     "name": "stdout",
     "output_type": "stream",
     "text": [
      "30416\n"
     ]
    }
   ],
   "source": [
    "for spicyid in tqdm(fit_results.keys()):\n",
    "    fig = None\n",
    "    print(spicyid)\n",
    "    fieldid = field_lookup(spicyid)\n",
    "    fig = plot_fit(spicyid, fit_results)\n",
    "    fig.savefig(f'/blue/adamginsburg/adamginsburg/SPICY_ALMAIMF/BriceTingle/SED_plots/{fieldid}_{spicyid}.jpg', format=\"jpg\")\n",
    "    print(\"Success\")"
   ]
  },
  {
   "cell_type": "code",
   "execution_count": null,
   "id": "87ef182b-d6fd-4eaf-a9d2-a254fca0e760",
   "metadata": {},
   "outputs": [],
   "source": []
  }
 ],
 "metadata": {
  "kernelspec": {
   "display_name": "Python 3 (ipykernel)",
   "language": "python",
   "name": "python3"
  },
  "language_info": {
   "codemirror_mode": {
    "name": "ipython",
    "version": 3
   },
   "file_extension": ".py",
   "mimetype": "text/x-python",
   "name": "python",
   "nbconvert_exporter": "python",
   "pygments_lexer": "ipython3",
   "version": "3.9.13"
  }
 },
 "nbformat": 4,
 "nbformat_minor": 5
}
