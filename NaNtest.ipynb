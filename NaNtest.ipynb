{
 "cells": [
  {
   "cell_type": "code",
   "execution_count": 1,
   "id": "sacred-disco",
   "metadata": {},
   "outputs": [
    {
     "name": "stderr",
     "output_type": "stream",
     "text": [
      "/orange/adamginsburg/miniconda3/lib/python3.7/site-packages/secretstorage/dhcrypto.py:16: CryptographyDeprecationWarning: int_from_bytes is deprecated, use int.from_bytes instead\n",
      "  from cryptography.utils import int_from_bytes\n",
      "/orange/adamginsburg/miniconda3/lib/python3.7/site-packages/secretstorage/util.py:25: CryptographyDeprecationWarning: int_from_bytes is deprecated, use int.from_bytes instead\n",
      "  from cryptography.utils import int_from_bytes\n"
     ]
    },
    {
     "data": {
      "text/plain": [
       "<module 'table_loading' from '/home/btingle/table_loading.py'>"
      ]
     },
     "execution_count": 1,
     "metadata": {},
     "output_type": "execute_result"
    }
   ],
   "source": [
    "import imp, table_loading\n",
    "imp.reload(table_loading)"
   ]
  },
  {
   "cell_type": "code",
   "execution_count": 2,
   "id": "mineral-cinema",
   "metadata": {},
   "outputs": [],
   "source": [
    "from table_loading import *"
   ]
  },
  {
   "cell_type": "code",
   "execution_count": 3,
   "id": "hybrid-infrastructure",
   "metadata": {},
   "outputs": [
    {
     "name": "stdout",
     "output_type": "stream",
     "text": [
      "read ('/blue/adamginsburg/adamginsburg/ALMA_IMF/SPICY_ALMAIMF/SPICY_withAddOns.fits', <_io.FileIO name='/blue/adamginsburg/adamginsburg/ALMA_IMF/SPICY_ALMAIMF/SPICY_withAddOns.fits' mode='rb' closefd=True>, <_io.FileIO name='/blue/adamginsburg/adamginsburg/ALMA_IMF/SPICY_ALMAIMF/SPICY_withAddOns.fits' mode='rb' closefd=True>) {}\n"
     ]
    }
   ],
   "source": [
    "fulltbl = Table.read('/blue/adamginsburg/adamginsburg/ALMA_IMF/SPICY_ALMAIMF/SPICY_withAddOns.fits')\n",
    "fulltbl.add_index('ALMAIMF_FIELDID')\n",
    "tbl = fulltbl.loc['G328']"
   ]
  },
  {
   "cell_type": "code",
   "execution_count": 4,
   "id": "dangerous-england",
   "metadata": {},
   "outputs": [
    {
     "data": {
      "text/html": [
       "<div><i>Table length=17</i>\n",
       "<table id=\"table47914360099504\" class=\"table-striped table-bordered table-condensed\">\n",
       "<thead><tr><th>SPICY</th><th>ra</th><th>dec</th><th>l</th><th>b</th><th>p1</th><th>p2</th><th>p3</th><th>class</th><th>silicate</th><th>pah</th><th>alpha</th><th>alpha_8</th><th>alpha_24</th><th>alpha_w4</th><th>env</th><th>group</th><th>var</th><th>nr</th><th>r</th><th>sigmar</th><th>skewnessr</th><th>Spitzer</th><th>mag3_6</th><th>e_mag3_6</th><th>mag4_5</th><th>e_mag4_5</th><th>mag5_8</th><th>e_mag5_8</th><th>mag8_0</th><th>e_mag8_0</th><th>csf</th><th>m3_6</th><th>m4_5</th><th>m5_8</th><th>m8_0</th><th>2MASS</th><th>UKIDSS</th><th>VIRAC</th><th>GaiaDR2</th><th>MIPS</th><th>AllWISE</th><th>ZTFDR3</th><th>in_ALMAIMF</th><th>ALMAIMF_FIELDID</th><th>70</th><th>160</th><th>250</th><th>350</th><th>500</th><th>Spitzer/MIPS.24mu_flux</th><th>Spitzer/MIPS.24mu_eflux</th><th>M24_flux_uplim</th><th>RA_ICRS</th><th>DE_ICRS</th><th>Ksmag</th><th>KsEll</th><th>pm</th><th>e_pm</th><th>pmRA</th><th>e_pmRA</th><th>pmDE</th><th>e_pmDE</th><th>Nep</th><th>flgrel</th><th>Zmag</th><th>Zell</th><th>Ymag</th><th>Yell</th><th>Jmag</th><th>Jell</th><th>Hmag</th><th>Hell</th><th>Zdetflg</th><th>Ydetflg</th><th>Jdetflg</th><th>Hdetflg</th><th>ALMA-IMF_3mm_flux</th><th>ALMA-IMF_3mm_eflux</th><th>ALMA-IMF_1mm_flux</th><th>ALMA-IMF_1mm_eflux</th><th>Paranal/VISTA.Y_flux</th><th>Paranal/VISTA.Y_eflux</th><th>Paranal/VISTA.Z_flux</th><th>Paranal/VISTA.Z_eflux</th><th>Paranal/VISTA.J_flux</th><th>Paranal/VISTA.J_eflux</th><th>Paranal/VISTA.H_flux</th><th>Paranal/VISTA.H_eflux</th><th>Paranal/VISTA.Ks_flux</th><th>Paranal/VISTA.Ks_eflux</th><th>Spitzer/IRAC.I1_flux</th><th>Spitzer/IRAC.I1_eflux</th><th>Spitzer/IRAC.I2_flux</th><th>Spitzer/IRAC.I2_eflux</th><th>Spitzer/IRAC.I3_flux</th><th>Spitzer/IRAC.I3_eflux</th><th>Spitzer/IRAC.I4_flux</th><th>Spitzer/IRAC.I4_eflux</th><th>Herschel/Pacs.blue_eflux</th><th>Herschel/Pacs.red_eflux</th><th>Herschel/SPIRE.PSW_eflux</th><th>Herschel/SPIRE.PMW_eflux</th><th>Herschel/SPIRE.PLW_eflux</th><th>Herschel/Pacs.blue_flux</th><th>Herschel/Pacs.red_flux</th><th>Herschel/SPIRE.PSW_flux</th><th>Herschel/SPIRE.PMW_flux</th><th>Herschel/SPIRE.PLW_flux</th></tr></thead>\n",
       "<thead><tr><th></th><th>deg</th><th>deg</th><th>deg</th><th>deg</th><th></th><th></th><th></th><th></th><th></th><th></th><th></th><th></th><th></th><th></th><th></th><th></th><th></th><th></th><th></th><th></th><th></th><th></th><th>mag</th><th>mag</th><th>mag</th><th>mag</th><th>mag</th><th>mag</th><th>mag</th><th>mag</th><th></th><th></th><th></th><th></th><th></th><th></th><th></th><th></th><th></th><th></th><th></th><th></th><th></th><th></th><th>Jy / pix</th><th>Jy / pix</th><th>MJy / sr</th><th>MJy / sr</th><th>MJy / sr</th><th>mJy</th><th>mJy</th><th>MJy / sr</th><th>deg</th><th>deg</th><th>mag</th><th></th><th>mas / yr</th><th>mas / yr</th><th>mas / yr</th><th>mas / yr</th><th>mas / yr</th><th>mas / yr</th><th></th><th></th><th>mag</th><th></th><th>mag</th><th></th><th>mag</th><th></th><th>mag</th><th></th><th></th><th></th><th></th><th></th><th>Jy / beam</th><th>Jy / beam</th><th>Jy / beam</th><th>Jy / beam</th><th></th><th></th><th></th><th></th><th></th><th></th><th></th><th></th><th></th><th></th><th>mJy</th><th>mag mJy</th><th>mJy</th><th>mag mJy</th><th></th><th>mag</th><th></th><th>mag</th><th>mJy</th><th>mJy</th><th>mJy</th><th>mJy</th><th>mJy</th><th></th><th></th><th></th><th></th><th></th></tr></thead>\n",
       "<thead><tr><th>int64</th><th>float64</th><th>float64</th><th>float64</th><th>float64</th><th>float32</th><th>float32</th><th>float32</th><th>bytes9</th><th>bool</th><th>bool</th><th>float64</th><th>float64</th><th>float64</th><th>float64</th><th>bytes7</th><th>bytes10</th><th>int16</th><th>int16</th><th>float64</th><th>float64</th><th>float64</th><th>bytes26</th><th>float32</th><th>float32</th><th>float32</th><th>float32</th><th>float32</th><th>float32</th><th>float32</th><th>float32</th><th>int32</th><th>int32</th><th>int32</th><th>int32</th><th>int32</th><th>bytes18</th><th>bytes19</th><th>int32</th><th>int64</th><th>bytes18</th><th>bytes20</th><th>int64</th><th>bool</th><th>bytes8</th><th>float64</th><th>float64</th><th>float64</th><th>float64</th><th>float64</th><th>float64</th><th>float32</th><th>float32</th><th>float64</th><th>float64</th><th>float32</th><th>float32</th><th>float64</th><th>float64</th><th>float64</th><th>float64</th><th>float64</th><th>float64</th><th>int16</th><th>uint8</th><th>float64</th><th>float32</th><th>float64</th><th>float32</th><th>float32</th><th>float32</th><th>float64</th><th>float32</th><th>uint8</th><th>uint8</th><th>uint8</th><th>uint8</th><th>float64</th><th>float64</th><th>float64</th><th>float64</th><th>float64</th><th>float64</th><th>float64</th><th>float64</th><th>float32</th><th>float32</th><th>float64</th><th>float64</th><th>float32</th><th>float32</th><th>float32</th><th>float32</th><th>float32</th><th>float32</th><th>float32</th><th>float32</th><th>float32</th><th>float32</th><th>float64</th><th>float64</th><th>float64</th><th>float64</th><th>float64</th><th>float64</th><th>float64</th><th>float64</th><th>float64</th><th>float64</th></tr></thead>\n",
       "<tr><td>31362</td><td>239.457389</td><td>-53.974193</td><td>328.230635</td><td>-0.522011</td><td>--</td><td>--</td><td>0.59</td><td>uncertain</td><td>True</td><td>False</td><td>-2.04251599326372</td><td>-2.04251599326372</td><td>--</td><td>--</td><td>EnvIII</td><td>G328.2-0.5</td><td>--</td><td>--</td><td>--</td><td>--</td><td>--</td><td>SSTGLMC G328.2306-00.5220</td><td>11.356</td><td>0.055</td><td>10.367</td><td>0.052</td><td>9.812</td><td>0.053</td><td>9.896</td><td>0.055</td><td>0</td><td>2</td><td>2</td><td>2</td><td>2</td><td>15574978-5358271</td><td></td><td>336878763</td><td>--</td><td></td><td></td><td>--</td><td>True</td><td>G328</td><td>0.12909437551819858</td><td>0.7804596512780834</td><td>3451.872583907574</td><td>1871.8531236483818</td><td>685.8476071588403</td><td>--</td><td>33.060</td><td>34.481247</td><td>239.457404</td><td>-53.974250</td><td>14.703</td><td>0.1</td><td>0.87</td><td>0.96</td><td>-0.86</td><td>0.96</td><td>-0.066</td><td>0.964</td><td>101</td><td>1</td><td>--</td><td>--</td><td>--</td><td>--</td><td>--</td><td>--</td><td>--</td><td>--</td><td>1</td><td>1</td><td>1</td><td>1</td><td>--</td><td>8.872360412077857e-05</td><td>--</td><td>0.0003857492389422121</td><td>--</td><td>--</td><td>--</td><td>--</td><td>--</td><td>--</td><td>--</td><td>--</td><td>0.8802201</td><td>0.1</td><td>7.951118</td><td>0.4012032</td><td>12.7685585</td><td>0.60914224</td><td>13.537123</td><td>0.6582271</td><td>6.8229666</td><td>0.34427813</td><td>129.09437551819858</td><td>780.4596512780834</td><td>25047.91972975978</td><td>22859.560939461997</td><td>16440.980659643323</td><td>--</td><td>--</td><td>--</td><td>--</td><td>--</td></tr>\n",
       "<tr><td>31366</td><td>239.459999</td><td>-53.972003</td><td>328.233222</td><td>-0.521333</td><td>0.71</td><td>--</td><td>0.59</td><td>FS</td><td>False</td><td>False</td><td>-0.11148400244367</td><td>0.580368411376471</td><td>-0.11148400244367</td><td>--</td><td>EnvIII</td><td>G328.2-0.5</td><td>--</td><td>--</td><td>--</td><td>--</td><td>--</td><td>SSTGLMC G328.2332-00.5213</td><td>11.505</td><td>0.04</td><td>10.921</td><td>0.049</td><td>10.168</td><td>0.071</td><td>8.853</td><td>0.037</td><td>0</td><td>2</td><td>2</td><td>2</td><td>2</td><td>15575038-5358196</td><td></td><td>336878800</td><td>5980803429252515072</td><td>MG328.2332-00.5213</td><td></td><td>--</td><td>True</td><td>G328</td><td>0.1643809998128381</td><td>0.9045645176793655</td><td>3777.48890459511</td><td>1938.0865835816944</td><td>759.7098891270746</td><td>34.474</td><td>1.736</td><td>--</td><td>239.460020</td><td>-53.972072</td><td>12.799</td><td>0.2</td><td>1.75</td><td>0.77</td><td>1.42</td><td>0.77</td><td>1.033</td><td>0.748</td><td>101</td><td>1</td><td>15.309</td><td>0.0611</td><td>14.896</td><td>0.0639</td><td>14.375</td><td>0.0477</td><td>13.665</td><td>0.0993</td><td>0</td><td>0</td><td>0</td><td>0</td><td>--</td><td>8.872360412077857e-05</td><td>--</td><td>0.0003857492389422121</td><td>2.2940891567321575</td><td>0.1345</td><td>1.703554494247925</td><td>0.0955</td><td>2.757552</td><td>0.1207</td><td>3.513271867430251</td><td>0.3201</td><td>5.083833</td><td>0.9</td><td>6.93151</td><td>0.25436732</td><td>7.665532</td><td>0.34459728</td><td>9.752733</td><td>0.6352698</td><td>17.830902</td><td>0.60526913</td><td>164.3809998128381</td><td>904.5645176793655</td><td>27410.698559228735</td><td>23668.421311276823</td><td>18211.590247897842</td><td>--</td><td>--</td><td>--</td><td>--</td><td>--</td></tr>\n",
       "<tr><td>31389</td><td>239.476401</td><td>-53.960222</td><td>328.248201</td><td>-0.518589</td><td>0.66</td><td>--</td><td>0.87</td><td>ClassII</td><td>False</td><td>False</td><td>-1.44797362978236</td><td>-1.44797362978236</td><td>--</td><td>--</td><td>EnvIII</td><td>G328.2-0.5</td><td>--</td><td>--</td><td>--</td><td>--</td><td>--</td><td>SSTGLMC G328.2482-00.5185</td><td>10.704</td><td>0.051</td><td>9.575</td><td>0.043</td><td>8.935</td><td>0.037</td><td>8.742</td><td>0.056</td><td>0</td><td>2</td><td>2</td><td>2</td><td>2</td><td>15575433-5357372</td><td></td><td>336879047</td><td>--</td><td></td><td>J155754.33-535736.8</td><td>--</td><td>True</td><td>G328</td><td>0.2856006586972714</td><td>1.2543502010998508</td><td>4653.723364499801</td><td>2756.263926827319</td><td>1104.8966250793073</td><td>--</td><td>189.083</td><td>197.2128</td><td>239.476450</td><td>-53.960272</td><td>14.001</td><td>0.1</td><td>1.29</td><td>0.71</td><td>1.23</td><td>0.71</td><td>0.393</td><td>0.669</td><td>101</td><td>1</td><td>--</td><td>--</td><td>--</td><td>--</td><td>--</td><td>--</td><td>17.339</td><td>0.1329</td><td>1</td><td>1</td><td>1</td><td>0</td><td>--</td><td>8.872360412077857e-05</td><td>--</td><td>0.0003857492389422121</td><td>--</td><td>--</td><td>--</td><td>--</td><td>--</td><td>--</td><td>0.1191548592775514</td><td>0.0145</td><td>1.6803168</td><td>0.2</td><td>14.49533</td><td>0.6782218</td><td>26.481462</td><td>1.0446815</td><td>30.361723</td><td>1.0306273</td><td>19.750282</td><td>1.0146934</td><td>285.6006586972714</td><td>1254.350201099851</td><td>33768.9432170593</td><td>33660.21746286621</td><td>26486.32707065343</td><td>--</td><td>--</td><td>--</td><td>--</td><td>--</td></tr>\n",
       "<tr><td>31390</td><td>239.476483</td><td>-53.958549</td><td>328.24932</td><td>-0.517344</td><td>--</td><td>--</td><td>0.94</td><td>uncertain</td><td>False</td><td>False</td><td>--</td><td>--</td><td>--</td><td>--</td><td>EnvIII</td><td>G328.2-0.5</td><td>--</td><td>--</td><td>--</td><td>--</td><td>--</td><td>SSTGLMC G328.2493-00.5173</td><td>13.713</td><td>0.088</td><td>12.678</td><td>0.11</td><td>11.344</td><td>0.102</td><td>--</td><td>--</td><td>2</td><td>2</td><td>2</td><td>2</td><td>0</td><td></td><td></td><td>336879062</td><td>--</td><td></td><td></td><td>--</td><td>True</td><td>G328</td><td>0.2275251481364603</td><td>1.1818177646666594</td><td>4967.215240936461</td><td>2756.263926827319</td><td>1104.8966250793073</td><td>--</td><td>2306.985</td><td>2406.1794</td><td>239.476570</td><td>-53.958600</td><td>16.147</td><td>0.2</td><td>7.47</td><td>2.56</td><td>6.81</td><td>2.56</td><td>3.079</td><td>2.591</td><td>100</td><td>0</td><td>--</td><td>--</td><td>--</td><td>--</td><td>--</td><td>--</td><td>--</td><td>--</td><td>1</td><td>1</td><td>1</td><td>1</td><td>0.0008062309079895376</td><td>8.872360412077857e-05</td><td>--</td><td>0.0003857492389422121</td><td>--</td><td>--</td><td>--</td><td>--</td><td>--</td><td>--</td><td>--</td><td>--</td><td>0.23280446</td><td>0.0</td><td>0.90704364</td><td>0.07322921</td><td>1.5196428</td><td>0.15335844</td><td>3.3016155</td><td>0.3089585</td><td>--</td><td>--</td><td>227.5251481364603</td><td>1181.8177646666595</td><td>36043.743102062086</td><td>33660.21746286621</td><td>26486.32707065343</td><td>--</td><td>--</td><td>--</td><td>--</td><td>--</td></tr>\n",
       "<tr><td>31405</td><td>239.490643</td><td>-53.960665</td><td>328.254304</td><td>-0.524347</td><td>--</td><td>--</td><td>0.98</td><td>uncertain</td><td>False</td><td>False</td><td>--</td><td>--</td><td>--</td><td>--</td><td>EnvIII</td><td>G328.2-0.5</td><td>--</td><td>--</td><td>--</td><td>--</td><td>--</td><td>SSTGLMC G328.2543-00.5243</td><td>12.3</td><td>0.057</td><td>11.136</td><td>0.076</td><td>10.077</td><td>0.072</td><td>--</td><td>--</td><td>0</td><td>2</td><td>2</td><td>2</td><td>0</td><td></td><td></td><td>336879094</td><td>--</td><td></td><td></td><td>--</td><td>True</td><td>G328</td><td>2.0787364729307938</td><td>5.456230657684243</td><td>12212.289491620344</td><td>5876.102807172219</td><td>2358.5250651324823</td><td>--</td><td>497.153</td><td>518.52936</td><td>239.490752</td><td>-53.960722</td><td>16.735</td><td>0.2</td><td>11.34</td><td>5.13</td><td>-10.71</td><td>5.13</td><td>3.709</td><td>5.148</td><td>79</td><td>0</td><td>--</td><td>--</td><td>--</td><td>--</td><td>--</td><td>--</td><td>--</td><td>--</td><td>1</td><td>1</td><td>1</td><td>1</td><td>--</td><td>8.872360412077857e-05</td><td>--</td><td>0.0003857492389422121</td><td>--</td><td>--</td><td>--</td><td>--</td><td>--</td><td>--</td><td>--</td><td>--</td><td>0.13545372</td><td>0.0</td><td>3.3329442</td><td>0.17429157</td><td>6.2884245</td><td>0.43845895</td><td>10.6053915</td><td>0.7005396</td><td>--</td><td>--</td><td>2078.7364729307938</td><td>5456.230657684243</td><td>88616.37834743604</td><td>71760.50754734823</td><td>56538.01890737898</td><td>--</td><td>--</td><td>--</td><td>--</td><td>--</td></tr>\n",
       "<tr><td>31395</td><td>239.478609</td><td>-53.97675</td><td>328.2385</td><td>-0.532033</td><td>0.91</td><td>--</td><td>--</td><td>FS</td><td>False</td><td>False</td><td>0.16156094538821</td><td>0.16156094538821</td><td>--</td><td>--</td><td>EnvIII</td><td>G328.2-0.5</td><td>--</td><td>--</td><td>--</td><td>--</td><td>--</td><td>SSTGLMC G328.2385-00.5320</td><td>14.383</td><td>0.117</td><td>13.049</td><td>0.121</td><td>11.754</td><td>0.139</td><td>11.236</td><td>0.118</td><td>0</td><td>2</td><td>2</td><td>2</td><td>2</td><td></td><td></td><td>-2147483648</td><td>--</td><td></td><td></td><td>--</td><td>True</td><td>G328</td><td>0.3860758077705975</td><td>1.6407823083746391</td><td>5792.273711562397</td><td>3182.9378453057757</td><td>1293.266358593856</td><td>--</td><td>252.226</td><td>263.07068</td><td>--</td><td>--</td><td>--</td><td>--</td><td>--</td><td>--</td><td>--</td><td>--</td><td>--</td><td>--</td><td>--</td><td>--</td><td>--</td><td>--</td><td>--</td><td>--</td><td>--</td><td>--</td><td>--</td><td>--</td><td>--</td><td>--</td><td>--</td><td>--</td><td>0.0013720629074953667</td><td>8.872360412077857e-05</td><td>0.0013557265677295754</td><td>0.0003857492389422121</td><td>--</td><td>--</td><td>--</td><td>--</td><td>--</td><td>--</td><td>--</td><td>--</td><td>--</td><td>--</td><td>0.48935956</td><td>0.05252758</td><td>1.0797971</td><td>0.11986739</td><td>2.2632184</td><td>0.28861225</td><td>1.9859725</td><td>0.21499518</td><td>386.0758077705975</td><td>1640.7823083746391</td><td>42030.63799526889</td><td>38870.871182174524</td><td>31001.88287816623</td><td>--</td><td>--</td><td>--</td><td>--</td><td>--</td></tr>\n",
       "<tr><td>31438</td><td>239.508643</td><td>-53.986679</td><td>328.245542</td><td>-0.551031</td><td>0.82</td><td>--</td><td>--</td><td>FS</td><td>False</td><td>False</td><td>0.109004714362238</td><td>0.109004714362238</td><td>--</td><td>--</td><td>EnvIII</td><td>G328.2-0.5</td><td>--</td><td>--</td><td>--</td><td>--</td><td>--</td><td>SSTGLMC G328.2455-00.5510</td><td>14.044</td><td>0.101</td><td>12.877</td><td>0.121</td><td>11.957</td><td>0.151</td><td>11.096</td><td>0.202</td><td>0</td><td>2</td><td>2</td><td>2</td><td>1</td><td></td><td></td><td>-2147483648</td><td>--</td><td></td><td></td><td>--</td><td>True</td><td>G328</td><td>0.5704939496032738</td><td>2.1867072409500237</td><td>6689.669862638668</td><td>3587.5863836761496</td><td>1676.2789097488403</td><td>--</td><td>652.027</td><td>680.0622</td><td>--</td><td>--</td><td>--</td><td>--</td><td>--</td><td>--</td><td>--</td><td>--</td><td>--</td><td>--</td><td>--</td><td>--</td><td>--</td><td>--</td><td>--</td><td>--</td><td>--</td><td>--</td><td>--</td><td>--</td><td>--</td><td>--</td><td>--</td><td>--</td><td>--</td><td>8.872360412077857e-05</td><td>--</td><td>0.0003857492389422121</td><td>--</td><td>--</td><td>--</td><td>--</td><td>--</td><td>--</td><td>--</td><td>--</td><td>--</td><td>--</td><td>0.66869515</td><td>0.061961662</td><td>1.2651504</td><td>0.14044331</td><td>1.8772703</td><td>0.26006222</td><td>2.2592978</td><td>0.41869557</td><td>570.4939496032738</td><td>2186.707240950024</td><td>48542.43882556155</td><td>43812.54518697714</td><td>40183.37141907669</td><td>--</td><td>--</td><td>--</td><td>--</td><td>--</td></tr>\n",
       "<tr><td>31432</td><td>239.505781</td><td>-53.971597</td><td>328.25402</td><td>-0.538444</td><td>0.8</td><td>--</td><td>--</td><td>uncertain</td><td>True</td><td>False</td><td>-0.981537079426799</td><td>-0.981537079426799</td><td>--</td><td>--</td><td>EnvIII</td><td>G328.2-0.5</td><td>--</td><td>--</td><td>--</td><td>--</td><td>--</td><td>SSTGLMC G328.2540-00.5384</td><td>14.437</td><td>0.105</td><td>12.791</td><td>0.129</td><td>11.667</td><td>0.097</td><td>11.674</td><td>0.301</td><td>0</td><td>3</td><td>2</td><td>3</td><td>1</td><td></td><td></td><td>-2147483648</td><td>--</td><td></td><td></td><td>--</td><td>True</td><td>G328</td><td>1.0928361400090547</td><td>2.9280155306949305</td><td>9070.176317305919</td><td>5517.693407685725</td><td>1972.280212975804</td><td>--</td><td>95.286</td><td>99.383156</td><td>--</td><td>--</td><td>--</td><td>--</td><td>--</td><td>--</td><td>--</td><td>--</td><td>--</td><td>--</td><td>--</td><td>--</td><td>--</td><td>--</td><td>--</td><td>--</td><td>--</td><td>--</td><td>--</td><td>--</td><td>--</td><td>--</td><td>--</td><td>--</td><td>0.0024896317652718485</td><td>8.872360412077857e-05</td><td>0.003592109612510786</td><td>0.0003857492389422121</td><td>--</td><td>--</td><td>--</td><td>--</td><td>--</td><td>--</td><td>--</td><td>--</td><td>--</td><td>--</td><td>0.4656159</td><td>0.044852905</td><td>1.3694358</td><td>0.16207083</td><td>2.4520342</td><td>0.21820854</td><td>1.3267016</td><td>0.36636436</td><td>1092.8361400090548</td><td>2928.0155306949305</td><td>65816.1744989629</td><td>67383.51802539869</td><td>47279.04639233157</td><td>--</td><td>--</td><td>--</td><td>--</td><td>--</td></tr>\n",
       "<tr><td>31453</td><td>239.525039</td><td>-53.950628</td><td>328.27623</td><td>-0.529794</td><td>0.55</td><td>--</td><td>0.94</td><td>ClassI</td><td>False</td><td>False</td><td>1.8778503648303</td><td>1.8778503648303</td><td>--</td><td>--</td><td>EnvIII</td><td>G328.2-0.5</td><td>--</td><td>--</td><td>--</td><td>--</td><td>--</td><td>SSTGLMC G328.2762-00.5297</td><td>12.442</td><td>0.072</td><td>11.261</td><td>0.179</td><td>9.77</td><td>0.124</td><td>8.403</td><td>0.168</td><td>1</td><td>2</td><td>1</td><td>2</td><td>2</td><td></td><td></td><td>337286988</td><td>--</td><td></td><td></td><td>--</td><td>True</td><td>G328</td><td>1.6969131589191127</td><td>2.1096622555629727</td><td>6570.1115644602105</td><td>3258.7898739164866</td><td>1211.6396761650772</td><td>--</td><td>86.248</td><td>89.95604</td><td>239.525258</td><td>-53.950705</td><td>15.563</td><td>0.1</td><td>1.82</td><td>2.03</td><td>1.78</td><td>2.03</td><td>-0.371</td><td>2.078</td><td>104</td><td>1</td><td>--</td><td>--</td><td>--</td><td>--</td><td>19.305</td><td>0.0176</td><td>--</td><td>--</td><td>1</td><td>1</td><td>0</td><td>1</td><td>0.0002664665359177891</td><td>8.872360412077857e-05</td><td>--</td><td>0.0003857492389422121</td><td>--</td><td>--</td><td>--</td><td>--</td><td>0.029411934</td><td>0.0005</td><td>--</td><td>--</td><td>0.3986497</td><td>0.0</td><td>2.924342</td><td>0.19316754</td><td>5.604568</td><td>0.9203832</td><td>14.071045</td><td>1.6007427</td><td>26.988169</td><td>4.159644</td><td>1696.9131589191127</td><td>2109.662255562973</td><td>47674.88459723871</td><td>39797.196035605746</td><td>29045.14687279939</td><td>--</td><td>--</td><td>--</td><td>--</td><td>--</td></tr>\n",
       "<tr><td>31367</td><td>239.460345</td><td>-53.952492</td><td>328.245995</td><td>-0.506583</td><td>0.76</td><td>--</td><td>0.82</td><td>FS</td><td>False</td><td>False</td><td>0.138567594314348</td><td>0.138567594314348</td><td>--</td><td>--</td><td>EnvIII</td><td>G328.2-0.5</td><td>--</td><td>--</td><td>--</td><td>--</td><td>--</td><td>SSTGLMC G328.2459-00.5065</td><td>12.815</td><td>0.082</td><td>11.791</td><td>0.097</td><td>10.678</td><td>0.083</td><td>9.992</td><td>0.057</td><td>0</td><td>2</td><td>2</td><td>2</td><td>2</td><td></td><td></td><td>336993608</td><td>--</td><td></td><td></td><td>--</td><td>True</td><td>G328</td><td>0.07930283335351343</td><td>0.48503278873582967</td><td>2623.278589804402</td><td>1398.7817767936706</td><td>614.9897851063045</td><td>--</td><td>33.102</td><td>34.525635</td><td>239.460334</td><td>-53.952583</td><td>16.243</td><td>0.3</td><td>10.64</td><td>14.11</td><td>4.22</td><td>15.64</td><td>9.772</td><td>13.811</td><td>107</td><td>0</td><td>--</td><td>--</td><td>--</td><td>--</td><td>--</td><td>--</td><td>--</td><td>--</td><td>1</td><td>1</td><td>1</td><td>1</td><td>--</td><td>8.872360412077857e-05</td><td>--</td><td>0.0003857492389422121</td><td>--</td><td>--</td><td>--</td><td>--</td><td>--</td><td>--</td><td>--</td><td>--</td><td>0.21310376</td><td>0.1</td><td>2.0740926</td><td>0.15603265</td><td>3.439868</td><td>0.30611667</td><td>6.097143</td><td>0.46427783</td><td>6.2455873</td><td>0.3266041</td><td>79.30283335351344</td><td>485.0327887358297</td><td>19035.369918502605</td><td>17082.289664533684</td><td>14742.393291559983</td><td>--</td><td>--</td><td>--</td><td>--</td><td>--</td></tr>\n",
       "<tr><td>31431</td><td>239.504992</td><td>-53.966813</td><td>328.256762</td><td>-0.534497</td><td>0.87</td><td>--</td><td>0.39</td><td>ClassI</td><td>False</td><td>False</td><td>0.894063415312778</td><td>0.894063415312778</td><td>--</td><td>--</td><td>EnvIII</td><td>G328.2-0.5</td><td>--</td><td>--</td><td>--</td><td>--</td><td>--</td><td>SSTGLMC G328.2567-00.5345</td><td>13.29</td><td>0.089</td><td>12.736</td><td>0.132</td><td>11.897</td><td>0.225</td><td>10.477</td><td>0.196</td><td>0</td><td>2</td><td>2</td><td>2</td><td>1</td><td></td><td></td><td>337085901</td><td>--</td><td></td><td></td><td>--</td><td>True</td><td>G328</td><td>8.864079999788308</td><td>15.499925770188048</td><td>17459.365840345814</td><td>8546.743735833792</td><td>2776.4510127858025</td><td>--</td><td>116.337</td><td>121.33896</td><td>239.504793</td><td>-53.966915</td><td>15.459</td><td>0.1</td><td>4.26</td><td>1.43</td><td>4.25</td><td>1.43</td><td>0.226</td><td>1.447</td><td>205</td><td>1</td><td>--</td><td>--</td><td>--</td><td>--</td><td>--</td><td>--</td><td>17.615</td><td>0.3922</td><td>1</td><td>1</td><td>1</td><td>0</td><td>--</td><td>8.872360412077857e-05</td><td>--</td><td>0.0003857492389422121</td><td>--</td><td>--</td><td>--</td><td>--</td><td>--</td><td>--</td><td>0.09240846539728305</td><td>0.0333</td><td>0.4387238</td><td>0.0</td><td>1.3391466</td><td>0.10934316</td><td>1.4405953</td><td>0.1744574</td><td>1.9839308</td><td>0.40952697</td><td>3.9955177</td><td>0.71846</td><td>8864.079999788308</td><td>15499.925770188047</td><td>126690.88544584626</td><td>104375.07451570641</td><td>66556.44333696224</td><td>--</td><td>--</td><td>--</td><td>--</td><td>--</td></tr>\n",
       "<tr><td>31444</td><td>239.514383</td><td>-53.982461</td><td>328.250845</td><td>-0.55</td><td>--</td><td>--</td><td>0.83</td><td>uncertain</td><td>True</td><td>False</td><td>-1.43811933646498</td><td>-1.43811933646498</td><td>--</td><td>--</td><td>EnvIII</td><td>G328.2-0.5</td><td>--</td><td>--</td><td>--</td><td>--</td><td>--</td><td>SSTGLMC G328.2508-00.5500</td><td>11.259</td><td>0.052</td><td>10.394</td><td>0.059</td><td>9.529</td><td>0.056</td><td>9.555</td><td>0.319</td><td>0</td><td>2</td><td>2</td><td>2</td><td>1</td><td></td><td></td><td>337036046</td><td>--</td><td></td><td></td><td>--</td><td>True</td><td>G328</td><td>0.532658752670676</td><td>1.6465567930146727</td><td>5284.169545154527</td><td>2543.2324835658287</td><td>1133.9506182711157</td><td>--</td><td>213.281</td><td>222.45203</td><td>239.514357</td><td>-53.982546</td><td>15.508</td><td>0.1</td><td>5.21</td><td>1.45</td><td>-4.65</td><td>1.46</td><td>-2.345</td><td>1.435</td><td>153</td><td>1</td><td>--</td><td>--</td><td>--</td><td>--</td><td>--</td><td>--</td><td>--</td><td>--</td><td>1</td><td>1</td><td>1</td><td>1</td><td>0.00036858164722031536</td><td>8.872360412077857e-05</td><td>--</td><td>0.0003857492389422121</td><td>--</td><td>--</td><td>--</td><td>--</td><td>--</td><td>--</td><td>--</td><td>--</td><td>0.41936368</td><td>0.0</td><td>8.694167</td><td>0.4147676</td><td>12.454949</td><td>0.674167</td><td>17.568161</td><td>0.9025844</td><td>9.340567</td><td>2.7336152</td><td>532.658752670676</td><td>1646.5567930146726</td><td>38343.66749876994</td><td>31058.621644404793</td><td>27182.802694634574</td><td>--</td><td>--</td><td>--</td><td>--</td><td>--</td></tr>\n",
       "<tr><td>31441</td><td>239.511365</td><td>-53.964163</td><td>328.261335</td><td>-0.534903</td><td>--</td><td>--</td><td>0.51</td><td>uncertain</td><td>False</td><td>False</td><td>--</td><td>--</td><td>--</td><td>--</td><td>EnvIII</td><td>G328.2-0.5</td><td>--</td><td>--</td><td>--</td><td>--</td><td>--</td><td>SSTGLMC G328.2613-00.5349</td><td>14.166</td><td>0.104</td><td>13.309</td><td>0.207</td><td>--</td><td>--</td><td>--</td><td>--</td><td>0</td><td>3</td><td>2</td><td>0</td><td>0</td><td></td><td></td><td>337036104</td><td>--</td><td></td><td></td><td>--</td><td>True</td><td>G328</td><td>1.2590160782905064</td><td>3.901083533344839</td><td>9226.919879682755</td><td>4694.003374424301</td><td>1953.466899782195</td><td>--</td><td>--</td><td>--</td><td>239.511223</td><td>-53.964299</td><td>16.577</td><td>0.5</td><td>1.77</td><td>6.09</td><td>1.17</td><td>6.50</td><td>1.326</td><td>5.755</td><td>133</td><td>0</td><td>19.567</td><td>0.3110</td><td>18.914</td><td>0.2265</td><td>18.105</td><td>0.0378</td><td>17.333</td><td>0.0861</td><td>0</td><td>0</td><td>0</td><td>0</td><td>--</td><td>8.872360412077857e-05</td><td>--</td><td>0.0003857492389422121</td><td>0.05667744865458558</td><td>0.0118</td><td>0.03374085088842347</td><td>0.0096</td><td>0.08882272</td><td>0.0031</td><td>0.11981515615139444</td><td>0.0095</td><td>0.15667199</td><td>0.1</td><td>0.5976242</td><td>0.05702102</td><td>0.84984964</td><td>0.16139346</td><td>--</td><td>--</td><td>--</td><td>--</td><td>1259.0160782905064</td><td>3901.083533344839</td><td>66953.5572015791</td><td>57324.39945851696</td><td>46828.05798742735</td><td>--</td><td>--</td><td>--</td><td>--</td><td>--</td></tr>\n",
       "<tr><td>31423</td><td>239.499279</td><td>-53.966799</td><td>328.254209</td><td>-0.532311</td><td>0.56</td><td>--</td><td>0.7</td><td>ClassI</td><td>False</td><td>False</td><td>0.872712446458475</td><td>0.872712446458475</td><td>--</td><td>--</td><td>EnvIII</td><td>G328.2-0.5</td><td>--</td><td>--</td><td>--</td><td>--</td><td>--</td><td>SSTGLMC G328.2542-00.5323</td><td>8.904</td><td>0.113</td><td>6.591</td><td>0.136</td><td>5.098</td><td>0.04</td><td>4.345</td><td>0.046</td><td>0</td><td>2</td><td>2</td><td>2</td><td>2</td><td></td><td></td><td>337085862</td><td>--</td><td></td><td></td><td>--</td><td>True</td><td>G328</td><td>130.24604180360055</td><td>78.57798523710281</td><td>--</td><td>--</td><td>--</td><td>--</td><td>186.597</td><td>194.61995</td><td>239.499522</td><td>-53.966836</td><td>15.736</td><td>0.1</td><td>9.14</td><td>1.72</td><td>9.12</td><td>1.72</td><td>-0.612</td><td>1.710</td><td>205</td><td>1</td><td>--</td><td>--</td><td>--</td><td>--</td><td>--</td><td>--</td><td>--</td><td>--</td><td>1</td><td>1</td><td>1</td><td>1</td><td>0.05538953970862806</td><td>8.872360412077857e-05</td><td>0.768496422584138</td><td>0.0003857492389422121</td><td>--</td><td>--</td><td>--</td><td>--</td><td>--</td><td>--</td><td>--</td><td>--</td><td>0.3399311</td><td>0.0</td><td>76.07253</td><td>7.886418</td><td>413.56323</td><td>51.60055</td><td>1040.2231</td><td>38.173325</td><td>1133.3743</td><td>47.83047</td><td>130246.04180360054</td><td>78577.98523710281</td><td>--</td><td>--</td><td>--</td><td>--</td><td>--</td><td>--</td><td>--</td><td>--</td></tr>\n",
       "<tr><td>31415</td><td>239.497399</td><td>-53.965933</td><td>328.253926</td><td>-0.530936</td><td>0.9</td><td>--</td><td>0.94</td><td>ClassI</td><td>False</td><td>False</td><td>1.10757310385581</td><td>1.10757310385581</td><td>--</td><td>--</td><td>EnvIII</td><td>G328.2-0.5</td><td>--</td><td>--</td><td>--</td><td>--</td><td>--</td><td>SSTGLMC G328.2539-00.5309</td><td>9.987</td><td>0.061</td><td>8.262</td><td>0.078</td><td>6.875</td><td>0.05</td><td>5.873</td><td>0.064</td><td>0</td><td>2</td><td>2</td><td>2</td><td>2</td><td>15575935-5357573</td><td></td><td>337085859</td><td>--</td><td></td><td></td><td>--</td><td>True</td><td>G328</td><td>139.84759509146238</td><td>69.61528417736785</td><td>--</td><td>--</td><td>--</td><td>--</td><td>179.548</td><td>187.26851</td><td>239.497472</td><td>-53.965983</td><td>15.566</td><td>0.1</td><td>6.24</td><td>2.01</td><td>-6.17</td><td>2.01</td><td>-0.873</td><td>1.961</td><td>205</td><td>1</td><td>--</td><td>--</td><td>--</td><td>--</td><td>--</td><td>--</td><td>--</td><td>--</td><td>1</td><td>1</td><td>1</td><td>1</td><td>0.0068374883042446</td><td>8.872360412077857e-05</td><td>0.08270039656216524</td><td>0.0003857492389422121</td><td>--</td><td>--</td><td>--</td><td>--</td><td>--</td><td>--</td><td>--</td><td>--</td><td>0.3975495</td><td>0.0</td><td>28.056145</td><td>1.5701145</td><td>88.7446</td><td>6.3505306</td><td>202.45409</td><td>9.286884</td><td>277.44266</td><td>16.29021</td><td>139847.59509146237</td><td>69615.28417736785</td><td>--</td><td>--</td><td>--</td><td>--</td><td>--</td><td>--</td><td>--</td><td>--</td></tr>\n",
       "<tr><td>31463</td><td>239.528299</td><td>-53.952006</td><td>328.2768</td><td>-0.532086</td><td>0.55</td><td>--</td><td>--</td><td>uncertain</td><td>False</td><td>True</td><td>4.14762259226471</td><td>4.14762259226471</td><td>--</td><td>--</td><td>EnvIII</td><td>G328.2-0.5</td><td>--</td><td>--</td><td>--</td><td>--</td><td>--</td><td>SSTGLMC G328.2768-00.5320</td><td>13.135</td><td>0.093</td><td>12.448</td><td>0.171</td><td>9.912</td><td>0.121</td><td>8.208</td><td>0.144</td><td>0</td><td>2</td><td>2</td><td>2</td><td>2</td><td></td><td></td><td>-2147483648</td><td>--</td><td></td><td></td><td>--</td><td>True</td><td>G328</td><td>1.6530277214610067</td><td>2.210820070244643</td><td>6550.381012654678</td><td>3008.9381516074895</td><td>1211.6396761650772</td><td>--</td><td>153.227</td><td>159.81584</td><td>--</td><td>--</td><td>--</td><td>--</td><td>--</td><td>--</td><td>--</td><td>--</td><td>--</td><td>--</td><td>--</td><td>--</td><td>--</td><td>--</td><td>--</td><td>--</td><td>--</td><td>--</td><td>--</td><td>--</td><td>--</td><td>--</td><td>--</td><td>--</td><td>--</td><td>8.872360412077857e-05</td><td>--</td><td>0.0003857492389422121</td><td>--</td><td>--</td><td>--</td><td>--</td><td>--</td><td>--</td><td>--</td><td>--</td><td>--</td><td>--</td><td>1.5446422</td><td>0.13179056</td><td>1.8782008</td><td>0.2946535</td><td>12.34601</td><td>1.3705204</td><td>32.29782</td><td>4.266868</td><td>1653.0277214610066</td><td>2210.820070244643</td><td>47531.71324144973</td><td>36745.94131919941</td><td>29045.14687279939</td><td>--</td><td>--</td><td>--</td><td>--</td><td>--</td></tr>\n",
       "<tr><td>31420</td><td>239.498787</td><td>-53.953956</td><td>328.262299</td><td>-0.522333</td><td>0.84</td><td>--</td><td>--</td><td>ClassII</td><td>False</td><td>False</td><td>-0.988106608305049</td><td>-0.988106608305049</td><td>--</td><td>--</td><td>EnvIII</td><td>G328.2-0.5</td><td>--</td><td>--</td><td>--</td><td>--</td><td>--</td><td>SSTGLMC G328.2623-00.5223</td><td>15.149</td><td>0.148</td><td>12.025</td><td>0.093</td><td>10.941</td><td>0.062</td><td>10.912</td><td>0.114</td><td>0</td><td>3</td><td>2</td><td>4</td><td>1</td><td></td><td></td><td>-2147483648</td><td>--</td><td></td><td></td><td>--</td><td>True</td><td>G328</td><td>0.9866437403450725</td><td>4.3802173695447415</td><td>10764.470853505069</td><td>5511.609460533597</td><td>1641.7350765306792</td><td>--</td><td>90.821</td><td>94.72568</td><td>--</td><td>--</td><td>--</td><td>--</td><td>--</td><td>--</td><td>--</td><td>--</td><td>--</td><td>--</td><td>--</td><td>--</td><td>--</td><td>--</td><td>--</td><td>--</td><td>--</td><td>--</td><td>--</td><td>--</td><td>--</td><td>--</td><td>--</td><td>--</td><td>0.005659842881121509</td><td>8.872360412077857e-05</td><td>0.03241115591207202</td><td>0.0003857492389422121</td><td>--</td><td>--</td><td>--</td><td>--</td><td>--</td><td>--</td><td>--</td><td>--</td><td>--</td><td>--</td><td>0.24167305</td><td>0.03281432</td><td>2.7729497</td><td>0.23659112</td><td>4.7854915</td><td>0.27220225</td><td>2.676537</td><td>0.2799314</td><td>986.6437403450725</td><td>4380.217369544742</td><td>78110.531405163</td><td>67309.21926823686</td><td>39355.2946161227</td><td>--</td><td>--</td><td>--</td><td>--</td><td>--</td></tr>\n",
       "</table></div>"
      ],
      "text/plain": [
       "<Table length=17>\n",
       "SPICY     ra        dec     ... Herschel/SPIRE.PMW_flux Herschel/SPIRE.PLW_flux\n",
       "         deg        deg     ...                                                \n",
       "int64  float64    float64   ...         float64                 float64        \n",
       "----- ---------- ---------- ... ----------------------- -----------------------\n",
       "31362 239.457389 -53.974193 ...                      --                      --\n",
       "31366 239.459999 -53.972003 ...                      --                      --\n",
       "31389 239.476401 -53.960222 ...                      --                      --\n",
       "31390 239.476483 -53.958549 ...                      --                      --\n",
       "31405 239.490643 -53.960665 ...                      --                      --\n",
       "31395 239.478609  -53.97675 ...                      --                      --\n",
       "31438 239.508643 -53.986679 ...                      --                      --\n",
       "31432 239.505781 -53.971597 ...                      --                      --\n",
       "31453 239.525039 -53.950628 ...                      --                      --\n",
       "31367 239.460345 -53.952492 ...                      --                      --\n",
       "31431 239.504992 -53.966813 ...                      --                      --\n",
       "31444 239.514383 -53.982461 ...                      --                      --\n",
       "31441 239.511365 -53.964163 ...                      --                      --\n",
       "31423 239.499279 -53.966799 ...                      --                      --\n",
       "31415 239.497399 -53.965933 ...                      --                      --\n",
       "31463 239.528299 -53.952006 ...                      --                      --\n",
       "31420 239.498787 -53.953956 ...                      --                      --"
      ]
     },
     "execution_count": 4,
     "metadata": {},
     "output_type": "execute_result"
    }
   ],
   "source": [
    "tbl"
   ]
  },
  {
   "cell_type": "code",
   "execution_count": 5,
   "id": "traditional-receptor",
   "metadata": {},
   "outputs": [],
   "source": [
    "def source_fitting(rownum, geometry=\"s---s-i\",\n",
    "                   override_valid=None,\n",
    "                   robitaille_modeldir='/blue/adamginsburg/richardson.t/research/flux/robitaille_models/',):\n",
    "    \n",
    "    model_dir = f'{robitaille_modeldir}/{geometry}'\n",
    "    extinction = make_extinction()\n",
    "    filters = filternames+[\"ALMA-IMF_1mm\", \"ALMA-IMF_3mm\"]\n",
    "    \n",
    "    apertures = ([3]*(len(filters)))*u.arcsec\n",
    "    source = Source()\n",
    "    \n",
    "    flx, error, valid = get_data_to_fit(rownum, tbl, filters=filters)\n",
    "    \n",
    "    if override_valid is not None:\n",
    "        valid = override_valid\n",
    "\n",
    "    print(f\"flx={flx}\")\n",
    "    print(f\"error={error}\")\n",
    "    print(f\"valid={valid}\")\n",
    "    \n",
    "    source.valid = valid\n",
    "    source.flux = flx \n",
    "    source.error = error\n",
    "    \n",
    "    fitter = Fitter(filter_names=np.array(filters),\n",
    "                    apertures=apertures,\n",
    "                    model_dir=model_dir,\n",
    "                    extinction_law=extinction,\n",
    "                    distance_range=[2.3,2.7]*u.kpc,\n",
    "                    av_range=[5,40],\n",
    "                   )\n",
    "    \n",
    "    fitinfo = fitter.fit(source)\n",
    "    \n",
    "    return fitinfo"
   ]
  },
  {
   "cell_type": "code",
   "execution_count": 6,
   "id": "potential-biology",
   "metadata": {},
   "outputs": [
    {
     "name": "stdout",
     "output_type": "stream",
     "text": [
      "flx=[           nan            nan            nan            nan\n",
      "            nan 4.89359558e-01 1.07979715e+00 2.26321840e+00\n",
      " 1.98597252e+00 7.56676666e+02 1.15822742e+03 4.92234693e+03\n",
      " 1.26091914e+05 1.16612614e+05 9.30056486e+04 1.35572657e-03\n",
      " 1.37206291e-03]\n",
      "error=[           nan            nan            nan            nan\n",
      "            nan 5.25275804e-02 1.19867392e-01 2.88612247e-01\n",
      " 2.14995176e-01 9.97000000e-01 9.97000000e-01 9.97000000e-01\n",
      " 9.97000000e-01 9.97000000e-01 9.97000000e-01 3.85749239e-04\n",
      " 8.87236041e-05]\n",
      "valid=[0 0 0 0 0 1 1 1 1 3 3 3 3 3 3 1 1]\n",
      " ------------------------------------------------------------\n",
      "  => Model parameters\n",
      " ------------------------------------------------------------\n",
      "\n",
      "   Models              :  s---s-i\n",
      "   Log[d] stepping     :  0.02\n",
      "   Number of distances :  5\n",
      "\n",
      " ------------------------------------------------------------\n",
      "  => Reading in convolved fluxes\n",
      " ------------------------------------------------------------\n",
      "\n",
      "   Reading /blue/adamginsburg/richardson.t/research/flux/robitaille_models//s---s-i/convolved/Paranal/VISTA.Y.fits\n",
      "   Reading /blue/adamginsburg/richardson.t/research/flux/robitaille_models//s---s-i/convolved/Paranal/VISTA.Z.fits\n",
      "   Reading /blue/adamginsburg/richardson.t/research/flux/robitaille_models//s---s-i/convolved/Paranal/VISTA.J.fits\n",
      "   Reading /blue/adamginsburg/richardson.t/research/flux/robitaille_models//s---s-i/convolved/Paranal/VISTA.H.fits\n",
      "   Reading /blue/adamginsburg/richardson.t/research/flux/robitaille_models//s---s-i/convolved/Paranal/VISTA.Ks.fits\n",
      "   Reading /blue/adamginsburg/richardson.t/research/flux/robitaille_models//s---s-i/convolved/Spitzer/IRAC.I1.fits\n",
      "   Reading /blue/adamginsburg/richardson.t/research/flux/robitaille_models//s---s-i/convolved/Spitzer/IRAC.I2.fits\n"
     ]
    },
    {
     "name": "stderr",
     "output_type": "stream",
     "text": [
      "WARNING: AstropyDeprecationWarning: The truth value of a Quantity is ambiguous. In the future this will raise a ValueError. [astropy.units.quantity]\n"
     ]
    },
    {
     "name": "stdout",
     "output_type": "stream",
     "text": [
      "   Reading /blue/adamginsburg/richardson.t/research/flux/robitaille_models//s---s-i/convolved/Spitzer/IRAC.I3.fits\n",
      "   Reading /blue/adamginsburg/richardson.t/research/flux/robitaille_models//s---s-i/convolved/Spitzer/IRAC.I4.fits\n",
      "   Reading /blue/adamginsburg/richardson.t/research/flux/robitaille_models//s---s-i/convolved/Spitzer/MIPS.24mu.fits\n",
      "   Reading /blue/adamginsburg/richardson.t/research/flux/robitaille_models//s---s-i/convolved/Herschel/Pacs.blue.fits\n",
      "   Reading /blue/adamginsburg/richardson.t/research/flux/robitaille_models//s---s-i/convolved/Herschel/Pacs.red.fits\n",
      "   Reading /blue/adamginsburg/richardson.t/research/flux/robitaille_models//s---s-i/convolved/Herschel/SPIRE.PSW.fits\n",
      "   Reading /blue/adamginsburg/richardson.t/research/flux/robitaille_models//s---s-i/convolved/Herschel/SPIRE.PMW.fits\n",
      "   Reading /blue/adamginsburg/richardson.t/research/flux/robitaille_models//s---s-i/convolved/Herschel/SPIRE.PLW.fits\n",
      "   Reading /blue/adamginsburg/richardson.t/research/flux/robitaille_models//s---s-i/convolved/ALMA-IMF_1mm.fits\n",
      "   Reading /blue/adamginsburg/richardson.t/research/flux/robitaille_models//s---s-i/convolved/ALMA-IMF_3mm.fits\n"
     ]
    }
   ],
   "source": [
    "fitinfosingle = source_fitting(5, \"s---s-i\")"
   ]
  },
  {
   "cell_type": "code",
   "execution_count": 7,
   "id": "boxed-albania",
   "metadata": {},
   "outputs": [
    {
     "name": "stdout",
     "output_type": "stream",
     "text": [
      "[nan nan nan ... nan nan nan]\n",
      "0\n",
      "[nan nan nan ... nan nan nan]\n",
      "0\n"
     ]
    }
   ],
   "source": [
    "# check if things are still broke\n",
    "print(fitinfosingle.av)\n",
    "print(np.isfinite(fitinfosingle.av).sum())\n",
    "print(fitinfosingle.chi2)\n",
    "print(np.isfinite(fitinfosingle.chi2).sum())"
   ]
  },
  {
   "cell_type": "code",
   "execution_count": 7,
   "id": "sustainable-plant",
   "metadata": {
    "collapsed": true,
    "jupyter": {
     "outputs_hidden": true
    }
   },
   "outputs": [
    {
     "name": "stdout",
     "output_type": "stream",
     "text": [
      "flx=[2.29408916e+00 1.70355449e+00 2.75755191e+00 3.51327187e+00\n",
      " 5.08383322e+00 6.93150997e+00 7.66553211e+00 9.75273323e+00\n",
      " 1.78309021e+01 3.44740000e+01 4.93142999e+02 2.71369355e+03\n",
      " 8.22320957e+04 7.10052639e+04 5.46347707e+04 1.15724772e-03\n",
      " 2.66170812e-04]\n",
      "error=[0.13448835 0.09549282 0.12067451 0.32006226 0.93281341 0.25436732\n",
      " 0.34459728 0.63526982 0.60526913 1.73599994 0.997      0.997\n",
      " 0.997      0.997      0.997      0.997      0.997     ]\n",
      "valid=[1, 1, 1, 1, 0, 1, 1, 1, 1, 1, 3, 3, 3, 3, 3, 3, 3]\n",
      " ------------------------------------------------------------\n",
      "  => Model parameters\n",
      " ------------------------------------------------------------\n",
      "\n",
      "   Models              :  s---s-i\n",
      "   Log[d] stepping     :  0.02\n",
      "   Number of distances :  5\n",
      "\n",
      " ------------------------------------------------------------\n",
      "  => Reading in convolved fluxes\n",
      " ------------------------------------------------------------\n",
      "\n",
      "   Reading /blue/adamginsburg/richardson.t/research/flux/robitaille_models//s---s-i/convolved/Paranal/VISTA.Y.fits\n",
      "   Reading /blue/adamginsburg/richardson.t/research/flux/robitaille_models//s---s-i/convolved/Paranal/VISTA.Z.fits\n",
      "   Reading /blue/adamginsburg/richardson.t/research/flux/robitaille_models//s---s-i/convolved/Paranal/VISTA.J.fits\n",
      "   Reading /blue/adamginsburg/richardson.t/research/flux/robitaille_models//s---s-i/convolved/Paranal/VISTA.H.fits\n",
      "   Reading /blue/adamginsburg/richardson.t/research/flux/robitaille_models//s---s-i/convolved/Paranal/VISTA.Ks.fits\n",
      "   Reading /blue/adamginsburg/richardson.t/research/flux/robitaille_models//s---s-i/convolved/Spitzer/IRAC.I1.fits\n",
      "   Reading /blue/adamginsburg/richardson.t/research/flux/robitaille_models//s---s-i/convolved/Spitzer/IRAC.I2.fits\n",
      "   Reading /blue/adamginsburg/richardson.t/research/flux/robitaille_models//s---s-i/convolved/Spitzer/IRAC.I3.fits\n",
      "   Reading /blue/adamginsburg/richardson.t/research/flux/robitaille_models//s---s-i/convolved/Spitzer/IRAC.I4.fits\n",
      "   Reading /blue/adamginsburg/richardson.t/research/flux/robitaille_models//s---s-i/convolved/Spitzer/MIPS.24mu.fits\n",
      "   Reading /blue/adamginsburg/richardson.t/research/flux/robitaille_models//s---s-i/convolved/Herschel/Pacs.blue.fits\n",
      "   Reading /blue/adamginsburg/richardson.t/research/flux/robitaille_models//s---s-i/convolved/Herschel/Pacs.red.fits\n",
      "   Reading /blue/adamginsburg/richardson.t/research/flux/robitaille_models//s---s-i/convolved/Herschel/SPIRE.PSW.fits\n",
      "   Reading /blue/adamginsburg/richardson.t/research/flux/robitaille_models//s---s-i/convolved/Herschel/SPIRE.PMW.fits\n",
      "   Reading /blue/adamginsburg/richardson.t/research/flux/robitaille_models//s---s-i/convolved/Herschel/SPIRE.PLW.fits\n",
      "   Reading /blue/adamginsburg/richardson.t/research/flux/robitaille_models//s---s-i/convolved/ALMA-IMF_1mm.fits\n",
      "   Reading /blue/adamginsburg/richardson.t/research/flux/robitaille_models//s---s-i/convolved/ALMA-IMF_3mm.fits\n"
     ]
    }
   ],
   "source": [
    "fitinfosingle = source_fitting(1, \"s---s-i\", override_valid=[1, 1, 1, 1, 0, 1, 1, 1, 1, 1, 3, 3, 3, 3, 3, 3, 3])"
   ]
  },
  {
   "cell_type": "code",
   "execution_count": 8,
   "id": "narrow-siemens",
   "metadata": {},
   "outputs": [
    {
     "name": "stdout",
     "output_type": "stream",
     "text": [
      "[5.99873668 6.2251738  5.30560538 ... 5.         5.         5.        ]\n",
      "10000\n",
      "[  6686.66468839   6776.51601857   6818.73797547 ... 495428.05126263\n",
      " 501407.03636251 509511.09224826]\n",
      "10000\n"
     ]
    }
   ],
   "source": [
    "# check if things are still broke\n",
    "print(fitinfosingle.av)\n",
    "print(np.isfinite(fitinfosingle.av).sum())\n",
    "print(fitinfosingle.chi2)\n",
    "print(np.isfinite(fitinfosingle.chi2).sum())"
   ]
  },
  {
   "cell_type": "code",
   "execution_count": 9,
   "id": "correct-graham",
   "metadata": {},
   "outputs": [
    {
     "name": "stdout",
     "output_type": "stream",
     "text": [
      "flx=[2.29408916e+00 1.70355449e+00 2.75755191e+00 3.51327187e+00\n",
      " 5.08383322e+00 6.93150997e+00 7.66553211e+00 9.75273323e+00\n",
      " 1.78309021e+01 3.44740000e+01 4.93142999e+02 2.71369355e+03\n",
      " 8.22320957e+04 7.10052639e+04 5.46347707e+04 1.15724772e-03\n",
      " 2.66170812e-04]\n",
      "error=[0.13448835 0.09549282 0.12067451 0.32006226 0.93281341 0.25436732\n",
      " 0.34459728 0.63526982 0.60526913 1.73599994 0.997      0.997\n",
      " 0.997      0.997      0.997      0.997      0.997     ]\n",
      "valid=[1, 1, 1, 1, 3, 1, 1, 1, 1, 1, 3, 3, 3, 3, 3, 3, 3]\n",
      " ------------------------------------------------------------\n",
      "  => Model parameters\n",
      " ------------------------------------------------------------\n",
      "\n",
      "   Models              :  s---s-i\n",
      "   Log[d] stepping     :  0.02\n",
      "   Number of distances :  5\n",
      "\n",
      " ------------------------------------------------------------\n",
      "  => Reading in convolved fluxes\n",
      " ------------------------------------------------------------\n",
      "\n",
      "   Reading /blue/adamginsburg/richardson.t/research/flux/robitaille_models//s---s-i/convolved/Paranal/VISTA.Y.fits\n",
      "   Reading /blue/adamginsburg/richardson.t/research/flux/robitaille_models//s---s-i/convolved/Paranal/VISTA.Z.fits\n",
      "   Reading /blue/adamginsburg/richardson.t/research/flux/robitaille_models//s---s-i/convolved/Paranal/VISTA.J.fits\n",
      "   Reading /blue/adamginsburg/richardson.t/research/flux/robitaille_models//s---s-i/convolved/Paranal/VISTA.H.fits\n",
      "   Reading /blue/adamginsburg/richardson.t/research/flux/robitaille_models//s---s-i/convolved/Paranal/VISTA.Ks.fits\n",
      "   Reading /blue/adamginsburg/richardson.t/research/flux/robitaille_models//s---s-i/convolved/Spitzer/IRAC.I1.fits\n",
      "   Reading /blue/adamginsburg/richardson.t/research/flux/robitaille_models//s---s-i/convolved/Spitzer/IRAC.I2.fits\n",
      "   Reading /blue/adamginsburg/richardson.t/research/flux/robitaille_models//s---s-i/convolved/Spitzer/IRAC.I3.fits\n",
      "   Reading /blue/adamginsburg/richardson.t/research/flux/robitaille_models//s---s-i/convolved/Spitzer/IRAC.I4.fits\n",
      "   Reading /blue/adamginsburg/richardson.t/research/flux/robitaille_models//s---s-i/convolved/Spitzer/MIPS.24mu.fits\n",
      "   Reading /blue/adamginsburg/richardson.t/research/flux/robitaille_models//s---s-i/convolved/Herschel/Pacs.blue.fits\n",
      "   Reading /blue/adamginsburg/richardson.t/research/flux/robitaille_models//s---s-i/convolved/Herschel/Pacs.red.fits\n",
      "   Reading /blue/adamginsburg/richardson.t/research/flux/robitaille_models//s---s-i/convolved/Herschel/SPIRE.PSW.fits\n",
      "   Reading /blue/adamginsburg/richardson.t/research/flux/robitaille_models//s---s-i/convolved/Herschel/SPIRE.PMW.fits\n",
      "   Reading /blue/adamginsburg/richardson.t/research/flux/robitaille_models//s---s-i/convolved/Herschel/SPIRE.PLW.fits\n",
      "   Reading /blue/adamginsburg/richardson.t/research/flux/robitaille_models//s---s-i/convolved/ALMA-IMF_1mm.fits\n",
      "   Reading /blue/adamginsburg/richardson.t/research/flux/robitaille_models//s---s-i/convolved/ALMA-IMF_3mm.fits\n"
     ]
    }
   ],
   "source": [
    "fitinfosingle = source_fitting(1, \"s---s-i\", override_valid=[1, 1, 1, 1, 3, 1, 1, 1, 1, 1, 3, 3, 3, 3, 3, 3, 3])"
   ]
  },
  {
   "cell_type": "code",
   "execution_count": 10,
   "id": "ceramic-gross",
   "metadata": {},
   "outputs": [
    {
     "name": "stdout",
     "output_type": "stream",
     "text": [
      "[5.99873668 6.2251738  5.30560538 ... 5.         5.         5.        ]\n",
      "10000\n",
      "[  6692.06525149   6781.91658166   6824.13853856 ... 495428.05126263\n",
      " 501407.03636251 509511.09224826]\n",
      "10000\n"
     ]
    }
   ],
   "source": [
    "# check if things are still broke\n",
    "print(fitinfosingle.av)\n",
    "print(np.isfinite(fitinfosingle.av).sum())\n",
    "print(fitinfosingle.chi2)\n",
    "print(np.isfinite(fitinfosingle.chi2).sum())"
   ]
  },
  {
   "cell_type": "code",
   "execution_count": null,
   "id": "bigger-asset",
   "metadata": {},
   "outputs": [],
   "source": []
  }
 ],
 "metadata": {
  "kernelspec": {
   "display_name": "Python 3",
   "language": "python",
   "name": "python3"
  },
  "language_info": {
   "codemirror_mode": {
    "name": "ipython",
    "version": 3
   },
   "file_extension": ".py",
   "mimetype": "text/x-python",
   "name": "python",
   "nbconvert_exporter": "python",
   "pygments_lexer": "ipython3",
   "version": "3.7.3"
  }
 },
 "nbformat": 4,
 "nbformat_minor": 5
}
